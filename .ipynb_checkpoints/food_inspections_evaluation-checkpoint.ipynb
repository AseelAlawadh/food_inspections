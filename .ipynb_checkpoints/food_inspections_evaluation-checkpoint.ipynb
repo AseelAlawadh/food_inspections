{
 "cells": [
  {
   "cell_type": "markdown",
   "metadata": {},
   "source": [
    "## Food Inspections Evaluation"
   ]
  },
  {
   "cell_type": "code",
   "execution_count": null,
   "metadata": {},
   "outputs": [],
   "source": []
  },
  {
   "cell_type": "markdown",
   "metadata": {},
   "source": [
    "# Problem Statment: "
   ]
  },
  {
   "cell_type": "code",
   "execution_count": 2,
   "metadata": {},
   "outputs": [],
   "source": [
    "import numpy as np\n",
    "import pandas as pd\n",
    "import matplotlib.pyplot as plt\n",
    "import seaborn as sns\n",
    "import plotly.graph_objs as go"
   ]
  },
  {
   "cell_type": "code",
   "execution_count": 3,
   "metadata": {},
   "outputs": [],
   "source": [
    "# ! conda install plotly"
   ]
  },
  {
   "cell_type": "markdown",
   "metadata": {},
   "source": [
    "## Executive Summary"
   ]
  },
  {
   "cell_type": "markdown",
   "metadata": {},
   "source": [
    "## Datasets Description:"
   ]
  },
  {
   "cell_type": "markdown",
   "metadata": {},
   "source": []
  },
  {
   "cell_type": "markdown",
   "metadata": {},
   "source": [
    "## Data Import : "
   ]
  },
  {
   "cell_type": "code",
   "execution_count": 4,
   "metadata": {},
   "outputs": [],
   "source": [
    "# Read in datasets from csv to pandas dataframes,\n",
    "#load only useful columns\n",
    "food_inspect_data = pd.read_csv('Data/Food_Inspections.csv')"
   ]
  },
  {
   "cell_type": "code",
   "execution_count": 5,
   "metadata": {},
   "outputs": [],
   "source": [
    "# Quickly lowercase and camelcase all column names in a DataFrame\n",
    "# we need to rename columns to use it with SQL later\n",
    "food_inspect_data = food_inspect_data.rename(columns=lambda x: x.lower().replace(' ', '_').replace('#','').replace('-','_'))"
   ]
  },
  {
   "cell_type": "markdown",
   "metadata": {},
   "source": [
    "## Display Data:"
   ]
  },
  {
   "cell_type": "code",
   "execution_count": 6,
   "metadata": {
    "scrolled": true
   },
   "outputs": [
    {
     "data": {
      "text/html": [
       "<div>\n",
       "<style scoped>\n",
       "    .dataframe tbody tr th:only-of-type {\n",
       "        vertical-align: middle;\n",
       "    }\n",
       "\n",
       "    .dataframe tbody tr th {\n",
       "        vertical-align: top;\n",
       "    }\n",
       "\n",
       "    .dataframe thead th {\n",
       "        text-align: right;\n",
       "    }\n",
       "</style>\n",
       "<table border=\"1\" class=\"dataframe\">\n",
       "  <thead>\n",
       "    <tr style=\"text-align: right;\">\n",
       "      <th></th>\n",
       "      <th>inspection_id</th>\n",
       "      <th>dba_name</th>\n",
       "      <th>aka_name</th>\n",
       "      <th>license_</th>\n",
       "      <th>facility_type</th>\n",
       "      <th>risk</th>\n",
       "      <th>address</th>\n",
       "      <th>city</th>\n",
       "      <th>state</th>\n",
       "      <th>zip</th>\n",
       "      <th>...</th>\n",
       "      <th>results</th>\n",
       "      <th>violations</th>\n",
       "      <th>latitude</th>\n",
       "      <th>longitude</th>\n",
       "      <th>location</th>\n",
       "      <th>historical_wards_2003_2015</th>\n",
       "      <th>zip_codes</th>\n",
       "      <th>community_areas</th>\n",
       "      <th>census_tracts</th>\n",
       "      <th>wards</th>\n",
       "    </tr>\n",
       "  </thead>\n",
       "  <tbody>\n",
       "    <tr>\n",
       "      <th>0</th>\n",
       "      <td>2288224</td>\n",
       "      <td>LA V BAKERY, INC</td>\n",
       "      <td>LA V BAKERY, INC</td>\n",
       "      <td>2550054.0</td>\n",
       "      <td>Bakery</td>\n",
       "      <td>Risk 2 (Medium)</td>\n",
       "      <td>2338 S KEDZIE AVE</td>\n",
       "      <td>CHICAGO</td>\n",
       "      <td>IL</td>\n",
       "      <td>60623.0</td>\n",
       "      <td>...</td>\n",
       "      <td>Out of Business</td>\n",
       "      <td>NaN</td>\n",
       "      <td>41.848790</td>\n",
       "      <td>-87.705311</td>\n",
       "      <td>(41.84879049508066, -87.70531098155864)</td>\n",
       "      <td>36.0</td>\n",
       "      <td>21569.0</td>\n",
       "      <td>32.0</td>\n",
       "      <td>291.0</td>\n",
       "      <td>1.0</td>\n",
       "    </tr>\n",
       "    <tr>\n",
       "      <th>1</th>\n",
       "      <td>2288222</td>\n",
       "      <td>LA TROPICANA FRESH MARKET</td>\n",
       "      <td>LA TROPICANA FRESH MARKET</td>\n",
       "      <td>2663484.0</td>\n",
       "      <td>Grocery Store</td>\n",
       "      <td>Risk 3 (Low)</td>\n",
       "      <td>1005 N PULASKI RD</td>\n",
       "      <td>CHICAGO</td>\n",
       "      <td>IL</td>\n",
       "      <td>60651.0</td>\n",
       "      <td>...</td>\n",
       "      <td>Pass</td>\n",
       "      <td>NaN</td>\n",
       "      <td>41.899228</td>\n",
       "      <td>-87.726052</td>\n",
       "      <td>(41.89922779688617, -87.72605226905087)</td>\n",
       "      <td>41.0</td>\n",
       "      <td>4299.0</td>\n",
       "      <td>24.0</td>\n",
       "      <td>456.0</td>\n",
       "      <td>45.0</td>\n",
       "    </tr>\n",
       "    <tr>\n",
       "      <th>2</th>\n",
       "      <td>2286210</td>\n",
       "      <td>GOLDEN SPICE BAKERY</td>\n",
       "      <td>GOLDEN SPICE BAKERY</td>\n",
       "      <td>2663877.0</td>\n",
       "      <td>Bakery</td>\n",
       "      <td>Risk 2 (Medium)</td>\n",
       "      <td>2338 S KEDZIE AVE</td>\n",
       "      <td>CHICAGO</td>\n",
       "      <td>IL</td>\n",
       "      <td>60623.0</td>\n",
       "      <td>...</td>\n",
       "      <td>Pass w/ Conditions</td>\n",
       "      <td>3. MANAGEMENT, FOOD EMPLOYEE AND CONDITIONAL E...</td>\n",
       "      <td>41.848790</td>\n",
       "      <td>-87.705311</td>\n",
       "      <td>(41.84879049508066, -87.70531098155864)</td>\n",
       "      <td>36.0</td>\n",
       "      <td>21569.0</td>\n",
       "      <td>32.0</td>\n",
       "      <td>291.0</td>\n",
       "      <td>1.0</td>\n",
       "    </tr>\n",
       "    <tr>\n",
       "      <th>3</th>\n",
       "      <td>2288221</td>\n",
       "      <td>PALETERIA AYUTLA</td>\n",
       "      <td>PALETERIA AYUTLA</td>\n",
       "      <td>2321232.0</td>\n",
       "      <td>Restaurant</td>\n",
       "      <td>Risk 2 (Medium)</td>\n",
       "      <td>2404 W 46TH PL</td>\n",
       "      <td>CHICAGO</td>\n",
       "      <td>IL</td>\n",
       "      <td>60632.0</td>\n",
       "      <td>...</td>\n",
       "      <td>Pass w/ Conditions</td>\n",
       "      <td>3. MANAGEMENT, FOOD EMPLOYEE AND CONDITIONAL E...</td>\n",
       "      <td>41.809457</td>\n",
       "      <td>-87.684746</td>\n",
       "      <td>(41.80945691736228, -87.68474598934672)</td>\n",
       "      <td>29.0</td>\n",
       "      <td>14924.0</td>\n",
       "      <td>55.0</td>\n",
       "      <td>687.0</td>\n",
       "      <td>3.0</td>\n",
       "    </tr>\n",
       "    <tr>\n",
       "      <th>4</th>\n",
       "      <td>2288249</td>\n",
       "      <td>SPILT MILK</td>\n",
       "      <td>SPILT MILK</td>\n",
       "      <td>2663633.0</td>\n",
       "      <td>Bakery</td>\n",
       "      <td>Risk 2 (Medium)</td>\n",
       "      <td>1844 S BLUE ISLAND AVE</td>\n",
       "      <td>CHICAGO</td>\n",
       "      <td>IL</td>\n",
       "      <td>60608.0</td>\n",
       "      <td>...</td>\n",
       "      <td>Pass w/ Conditions</td>\n",
       "      <td>3. MANAGEMENT, FOOD EMPLOYEE AND CONDITIONAL E...</td>\n",
       "      <td>41.856731</td>\n",
       "      <td>-87.662300</td>\n",
       "      <td>(41.85673053879921, -87.66229983625918)</td>\n",
       "      <td>8.0</td>\n",
       "      <td>14920.0</td>\n",
       "      <td>33.0</td>\n",
       "      <td>365.0</td>\n",
       "      <td>26.0</td>\n",
       "    </tr>\n",
       "  </tbody>\n",
       "</table>\n",
       "<p>5 rows × 22 columns</p>\n",
       "</div>"
      ],
      "text/plain": [
       "   inspection_id                   dba_name                   aka_name  \\\n",
       "0        2288224           LA V BAKERY, INC           LA V BAKERY, INC   \n",
       "1        2288222  LA TROPICANA FRESH MARKET  LA TROPICANA FRESH MARKET   \n",
       "2        2286210        GOLDEN SPICE BAKERY        GOLDEN SPICE BAKERY   \n",
       "3        2288221           PALETERIA AYUTLA           PALETERIA AYUTLA   \n",
       "4        2288249                 SPILT MILK                 SPILT MILK   \n",
       "\n",
       "    license_  facility_type             risk                  address  \\\n",
       "0  2550054.0         Bakery  Risk 2 (Medium)       2338 S KEDZIE AVE    \n",
       "1  2663484.0  Grocery Store     Risk 3 (Low)       1005 N PULASKI RD    \n",
       "2  2663877.0         Bakery  Risk 2 (Medium)       2338 S KEDZIE AVE    \n",
       "3  2321232.0     Restaurant  Risk 2 (Medium)          2404 W 46TH PL    \n",
       "4  2663633.0         Bakery  Risk 2 (Medium)  1844 S BLUE ISLAND AVE    \n",
       "\n",
       "      city state      zip  ...             results  \\\n",
       "0  CHICAGO    IL  60623.0  ...     Out of Business   \n",
       "1  CHICAGO    IL  60651.0  ...                Pass   \n",
       "2  CHICAGO    IL  60623.0  ...  Pass w/ Conditions   \n",
       "3  CHICAGO    IL  60632.0  ...  Pass w/ Conditions   \n",
       "4  CHICAGO    IL  60608.0  ...  Pass w/ Conditions   \n",
       "\n",
       "                                          violations   latitude  longitude  \\\n",
       "0                                                NaN  41.848790 -87.705311   \n",
       "1                                                NaN  41.899228 -87.726052   \n",
       "2  3. MANAGEMENT, FOOD EMPLOYEE AND CONDITIONAL E...  41.848790 -87.705311   \n",
       "3  3. MANAGEMENT, FOOD EMPLOYEE AND CONDITIONAL E...  41.809457 -87.684746   \n",
       "4  3. MANAGEMENT, FOOD EMPLOYEE AND CONDITIONAL E...  41.856731 -87.662300   \n",
       "\n",
       "                                  location  historical_wards_2003_2015  \\\n",
       "0  (41.84879049508066, -87.70531098155864)                        36.0   \n",
       "1  (41.89922779688617, -87.72605226905087)                        41.0   \n",
       "2  (41.84879049508066, -87.70531098155864)                        36.0   \n",
       "3  (41.80945691736228, -87.68474598934672)                        29.0   \n",
       "4  (41.85673053879921, -87.66229983625918)                         8.0   \n",
       "\n",
       "  zip_codes  community_areas  census_tracts  wards  \n",
       "0   21569.0             32.0          291.0    1.0  \n",
       "1    4299.0             24.0          456.0   45.0  \n",
       "2   21569.0             32.0          291.0    1.0  \n",
       "3   14924.0             55.0          687.0    3.0  \n",
       "4   14920.0             33.0          365.0   26.0  \n",
       "\n",
       "[5 rows x 22 columns]"
      ]
     },
     "execution_count": 6,
     "metadata": {},
     "output_type": "execute_result"
    }
   ],
   "source": [
    "food_inspect_data.head()"
   ]
  },
  {
   "cell_type": "code",
   "execution_count": 7,
   "metadata": {},
   "outputs": [],
   "source": [
    "food_inspect_data.rename(columns={\"license_\": \"license\"}, inplace=True)"
   ]
  },
  {
   "cell_type": "markdown",
   "metadata": {},
   "source": [
    "Briefly describe the data: "
   ]
  },
  {
   "cell_type": "markdown",
   "metadata": {},
   "source": [
    "# B"
   ]
  },
  {
   "cell_type": "markdown",
   "metadata": {},
   "source": [
    "## Investigate the Dataset "
   ]
  },
  {
   "cell_type": "code",
   "execution_count": 8,
   "metadata": {},
   "outputs": [
    {
     "data": {
      "text/plain": [
       "(186354, 22)"
      ]
     },
     "execution_count": 8,
     "metadata": {},
     "output_type": "execute_result"
    }
   ],
   "source": [
    "#check the shape of our dataset\n",
    "food_inspect_data.shape"
   ]
  },
  {
   "cell_type": "code",
   "execution_count": 9,
   "metadata": {},
   "outputs": [
    {
     "name": "stdout",
     "output_type": "stream",
     "text": [
      "<class 'pandas.core.frame.DataFrame'>\n",
      "RangeIndex: 186354 entries, 0 to 186353\n",
      "Data columns (total 22 columns):\n",
      "inspection_id                 186354 non-null int64\n",
      "dba_name                      186354 non-null object\n",
      "aka_name                      183903 non-null object\n",
      "license                       186338 non-null float64\n",
      "facility_type                 181603 non-null object\n",
      "risk                          186279 non-null object\n",
      "address                       186354 non-null object\n",
      "city                          186193 non-null object\n",
      "state                         186320 non-null object\n",
      "zip                           186275 non-null float64\n",
      "inspection_date               186354 non-null object\n",
      "inspection_type               186353 non-null object\n",
      "results                       186354 non-null object\n",
      "violations                    136747 non-null object\n",
      "latitude                      185690 non-null float64\n",
      "longitude                     185690 non-null float64\n",
      "location                      185690 non-null object\n",
      "historical_wards_2003_2015    183054 non-null float64\n",
      "zip_codes                     185690 non-null float64\n",
      "community_areas               183054 non-null float64\n",
      "census_tracts                 185661 non-null float64\n",
      "wards                         183054 non-null float64\n",
      "dtypes: float64(9), int64(1), object(12)\n",
      "memory usage: 31.3+ MB\n"
     ]
    }
   ],
   "source": [
    "# information about dataset\n",
    "food_inspect_data.info()"
   ]
  },
  {
   "cell_type": "code",
   "execution_count": 10,
   "metadata": {},
   "outputs": [
    {
     "data": {
      "text/plain": [
       "inspection_id                     0\n",
       "dba_name                          0\n",
       "aka_name                       2451\n",
       "license                          16\n",
       "facility_type                  4751\n",
       "risk                             75\n",
       "address                           0\n",
       "city                            161\n",
       "state                            34\n",
       "zip                              79\n",
       "inspection_date                   0\n",
       "inspection_type                   1\n",
       "results                           0\n",
       "violations                    49607\n",
       "latitude                        664\n",
       "longitude                       664\n",
       "location                        664\n",
       "historical_wards_2003_2015     3300\n",
       "zip_codes                       664\n",
       "community_areas                3300\n",
       "census_tracts                   693\n",
       "wards                          3300\n",
       "dtype: int64"
      ]
     },
     "execution_count": 10,
     "metadata": {},
     "output_type": "execute_result"
    }
   ],
   "source": [
    "# total of missing values in each columns\n",
    "# Verifying missing data\n",
    "food_inspect_data.isnull().sum()"
   ]
  },
  {
   "cell_type": "code",
   "execution_count": 11,
   "metadata": {},
   "outputs": [
    {
     "data": {
      "text/html": [
       "<div>\n",
       "<style scoped>\n",
       "    .dataframe tbody tr th:only-of-type {\n",
       "        vertical-align: middle;\n",
       "    }\n",
       "\n",
       "    .dataframe tbody tr th {\n",
       "        vertical-align: top;\n",
       "    }\n",
       "\n",
       "    .dataframe thead th {\n",
       "        text-align: right;\n",
       "    }\n",
       "</style>\n",
       "<table border=\"1\" class=\"dataframe\">\n",
       "  <thead>\n",
       "    <tr style=\"text-align: right;\">\n",
       "      <th></th>\n",
       "      <th>inspection_id</th>\n",
       "      <th>license</th>\n",
       "      <th>zip</th>\n",
       "      <th>latitude</th>\n",
       "      <th>longitude</th>\n",
       "      <th>historical_wards_2003_2015</th>\n",
       "      <th>zip_codes</th>\n",
       "      <th>community_areas</th>\n",
       "      <th>census_tracts</th>\n",
       "      <th>wards</th>\n",
       "    </tr>\n",
       "  </thead>\n",
       "  <tbody>\n",
       "    <tr>\n",
       "      <th>count</th>\n",
       "      <td>1.863540e+05</td>\n",
       "      <td>1.863380e+05</td>\n",
       "      <td>186275.000000</td>\n",
       "      <td>185690.000000</td>\n",
       "      <td>185690.000000</td>\n",
       "      <td>183054.000000</td>\n",
       "      <td>185690.000000</td>\n",
       "      <td>183054.000000</td>\n",
       "      <td>185661.000000</td>\n",
       "      <td>183054.000000</td>\n",
       "    </tr>\n",
       "    <tr>\n",
       "      <th>mean</th>\n",
       "      <td>1.401282e+06</td>\n",
       "      <td>1.578144e+06</td>\n",
       "      <td>60629.055633</td>\n",
       "      <td>41.880871</td>\n",
       "      <td>-87.676531</td>\n",
       "      <td>27.563615</td>\n",
       "      <td>17949.851134</td>\n",
       "      <td>37.457089</td>\n",
       "      <td>374.573540</td>\n",
       "      <td>26.924967</td>\n",
       "    </tr>\n",
       "    <tr>\n",
       "      <th>std</th>\n",
       "      <td>6.189594e+05</td>\n",
       "      <td>8.934119e+05</td>\n",
       "      <td>22.749563</td>\n",
       "      <td>0.080897</td>\n",
       "      <td>0.058807</td>\n",
       "      <td>14.536148</td>\n",
       "      <td>6301.889133</td>\n",
       "      <td>19.163725</td>\n",
       "      <td>244.326867</td>\n",
       "      <td>13.729340</td>\n",
       "    </tr>\n",
       "    <tr>\n",
       "      <th>min</th>\n",
       "      <td>4.424700e+04</td>\n",
       "      <td>0.000000e+00</td>\n",
       "      <td>60007.000000</td>\n",
       "      <td>41.644670</td>\n",
       "      <td>-87.914428</td>\n",
       "      <td>1.000000</td>\n",
       "      <td>4299.000000</td>\n",
       "      <td>1.000000</td>\n",
       "      <td>1.000000</td>\n",
       "      <td>1.000000</td>\n",
       "    </tr>\n",
       "    <tr>\n",
       "      <th>25%</th>\n",
       "      <td>1.115189e+06</td>\n",
       "      <td>1.194063e+06</td>\n",
       "      <td>60614.000000</td>\n",
       "      <td>41.833619</td>\n",
       "      <td>-87.707534</td>\n",
       "      <td>16.000000</td>\n",
       "      <td>14917.000000</td>\n",
       "      <td>24.000000</td>\n",
       "      <td>149.000000</td>\n",
       "      <td>16.000000</td>\n",
       "    </tr>\n",
       "    <tr>\n",
       "      <th>50%</th>\n",
       "      <td>1.464266e+06</td>\n",
       "      <td>1.964515e+06</td>\n",
       "      <td>60625.000000</td>\n",
       "      <td>41.891689</td>\n",
       "      <td>-87.666419</td>\n",
       "      <td>26.000000</td>\n",
       "      <td>21538.000000</td>\n",
       "      <td>36.000000</td>\n",
       "      <td>358.000000</td>\n",
       "      <td>27.000000</td>\n",
       "    </tr>\n",
       "    <tr>\n",
       "      <th>75%</th>\n",
       "      <td>1.970564e+06</td>\n",
       "      <td>2.216068e+06</td>\n",
       "      <td>60643.000000</td>\n",
       "      <td>41.939745</td>\n",
       "      <td>-87.634844</td>\n",
       "      <td>41.000000</td>\n",
       "      <td>22212.000000</td>\n",
       "      <td>55.000000</td>\n",
       "      <td>598.000000</td>\n",
       "      <td>37.000000</td>\n",
       "    </tr>\n",
       "    <tr>\n",
       "      <th>max</th>\n",
       "      <td>2.288249e+06</td>\n",
       "      <td>9.999999e+06</td>\n",
       "      <td>60827.000000</td>\n",
       "      <td>42.021064</td>\n",
       "      <td>-87.525094</td>\n",
       "      <td>53.000000</td>\n",
       "      <td>26633.000000</td>\n",
       "      <td>77.000000</td>\n",
       "      <td>801.000000</td>\n",
       "      <td>50.000000</td>\n",
       "    </tr>\n",
       "  </tbody>\n",
       "</table>\n",
       "</div>"
      ],
      "text/plain": [
       "       inspection_id       license            zip       latitude  \\\n",
       "count   1.863540e+05  1.863380e+05  186275.000000  185690.000000   \n",
       "mean    1.401282e+06  1.578144e+06   60629.055633      41.880871   \n",
       "std     6.189594e+05  8.934119e+05      22.749563       0.080897   \n",
       "min     4.424700e+04  0.000000e+00   60007.000000      41.644670   \n",
       "25%     1.115189e+06  1.194063e+06   60614.000000      41.833619   \n",
       "50%     1.464266e+06  1.964515e+06   60625.000000      41.891689   \n",
       "75%     1.970564e+06  2.216068e+06   60643.000000      41.939745   \n",
       "max     2.288249e+06  9.999999e+06   60827.000000      42.021064   \n",
       "\n",
       "           longitude  historical_wards_2003_2015      zip_codes  \\\n",
       "count  185690.000000               183054.000000  185690.000000   \n",
       "mean      -87.676531                   27.563615   17949.851134   \n",
       "std         0.058807                   14.536148    6301.889133   \n",
       "min       -87.914428                    1.000000    4299.000000   \n",
       "25%       -87.707534                   16.000000   14917.000000   \n",
       "50%       -87.666419                   26.000000   21538.000000   \n",
       "75%       -87.634844                   41.000000   22212.000000   \n",
       "max       -87.525094                   53.000000   26633.000000   \n",
       "\n",
       "       community_areas  census_tracts          wards  \n",
       "count    183054.000000  185661.000000  183054.000000  \n",
       "mean         37.457089     374.573540      26.924967  \n",
       "std          19.163725     244.326867      13.729340  \n",
       "min           1.000000       1.000000       1.000000  \n",
       "25%          24.000000     149.000000      16.000000  \n",
       "50%          36.000000     358.000000      27.000000  \n",
       "75%          55.000000     598.000000      37.000000  \n",
       "max          77.000000     801.000000      50.000000  "
      ]
     },
     "execution_count": 11,
     "metadata": {},
     "output_type": "execute_result"
    }
   ],
   "source": [
    "food_inspect_data.describe()"
   ]
  },
  {
   "cell_type": "code",
   "execution_count": 12,
   "metadata": {},
   "outputs": [
    {
     "data": {
      "text/plain": [
       "Restaurant                                   123783\n",
       "Grocery Store                                 23988\n",
       "School                                        11860\n",
       "Children's Services Facility                   2725\n",
       "Bakery                                         2707\n",
       "Daycare (2 - 6 Years)                          2637\n",
       "Daycare Above and Under 2 Years                2176\n",
       "Long Term Care                                 1244\n",
       "Catering                                       1105\n",
       "Mobile Food Dispenser                           843\n",
       "Liquor                                          830\n",
       "Daycare Combo 1586                              780\n",
       "Mobile Food Preparer                            551\n",
       "Golden Diner                                    538\n",
       "Wholesale                                       530\n",
       "Hospital                                        501\n",
       "TAVERN                                          252\n",
       "Daycare (Under 2 Years)                         229\n",
       "Special Event                                   205\n",
       "Shared Kitchen User (Long Term)                 192\n",
       "BANQUET HALL                                    141\n",
       "GAS STATION                                     114\n",
       "Mobile Prepared Food Vendor                     108\n",
       "KIOSK                                           105\n",
       "Shared Kitchen                                  102\n",
       "Shelter                                          94\n",
       "CHARTER SCHOOL                                   69\n",
       "LIVE POULTRY                                     56\n",
       "Navy Pier Kiosk                                  54\n",
       "BANQUET                                          53\n",
       "                                              ...  \n",
       "WHOLESALE & RETAIL                                1\n",
       "SPA                                               1\n",
       "NP-KIOSK                                          1\n",
       "drug treatment facility                           1\n",
       "COMMISARY RESTAURANT                              1\n",
       "Gas station                                       1\n",
       "REPACKAGING PLANT                                 1\n",
       "incubator                                         1\n",
       "DOLLAR STORE SELLING GROCERY                      1\n",
       "FURNITURE STORE                                   1\n",
       "TAP room/tavern/liquor store                      1\n",
       "Day Care Combo (1586)                             1\n",
       "PROTEIN SHAKE BAR                                 1\n",
       "PREPACKAGE MEAL DISTRIBUTOR (1006 Retail)         1\n",
       "CAT/LIQUOR                                        1\n",
       "HERBALIFE STORE                                   1\n",
       "KIDS CAFE                                         1\n",
       "CULINARY CLASS ROOMS                              1\n",
       "UNLICENSED FACILITY                               1\n",
       "HEALTH CENTER/NUTRITION CLASSES                   1\n",
       "LONG TERM CARE FACILITY                           1\n",
       "SHARED KITCHEN USER (LONG TREM)                   1\n",
       "FROZEN DESSERTS DISPENSER-NON-MOTORIZED           1\n",
       "HERBAL STORE                                      1\n",
       "SERVICE BAR/THEATRE                               1\n",
       "FOOD PANTRY                                       1\n",
       "Convenience Store                                 1\n",
       "ASSISTED LIVING FACILITY                          1\n",
       "DRUG STORE/W/ FOOD                                1\n",
       "CHICAGO PARK DISTRICT                             1\n",
       "Name: facility_type, Length: 474, dtype: int64"
      ]
     },
     "execution_count": 12,
     "metadata": {},
     "output_type": "execute_result"
    }
   ],
   "source": [
    "food_inspect_data.facility_type.value_counts()"
   ]
  },
  {
   "cell_type": "markdown",
   "metadata": {},
   "source": [
    "# Preprocessing and Data Structure"
   ]
  },
  {
   "cell_type": "markdown",
   "metadata": {},
   "source": [
    "##### Take just we need from dataset :"
   ]
  },
  {
   "cell_type": "code",
   "execution_count": 13,
   "metadata": {},
   "outputs": [],
   "source": [
    "# Extracting facility_type Restaurant\n",
    "# Only consider restaurants\n",
    "food_inspect_data_restaurant = food_inspect_data[food_inspect_data['facility_type'] =='Restaurant']"
   ]
  },
  {
   "cell_type": "code",
   "execution_count": 14,
   "metadata": {
    "scrolled": true
   },
   "outputs": [
    {
     "data": {
      "text/plain": [
       "(123783, 22)"
      ]
     },
     "execution_count": 14,
     "metadata": {},
     "output_type": "execute_result"
    }
   ],
   "source": [
    "food_inspect_data_restaurant.shape"
   ]
  },
  {
   "cell_type": "code",
   "execution_count": 15,
   "metadata": {},
   "outputs": [
    {
     "data": {
      "text/plain": [
       "123783"
      ]
     },
     "execution_count": 15,
     "metadata": {},
     "output_type": "execute_result"
    }
   ],
   "source": [
    "food_inspect_data_restaurant.facility_type.count()"
   ]
  },
  {
   "cell_type": "code",
   "execution_count": 16,
   "metadata": {
    "scrolled": true
   },
   "outputs": [
    {
     "data": {
      "text/html": [
       "<div>\n",
       "<style scoped>\n",
       "    .dataframe tbody tr th:only-of-type {\n",
       "        vertical-align: middle;\n",
       "    }\n",
       "\n",
       "    .dataframe tbody tr th {\n",
       "        vertical-align: top;\n",
       "    }\n",
       "\n",
       "    .dataframe thead th {\n",
       "        text-align: right;\n",
       "    }\n",
       "</style>\n",
       "<table border=\"1\" class=\"dataframe\">\n",
       "  <thead>\n",
       "    <tr style=\"text-align: right;\">\n",
       "      <th></th>\n",
       "      <th>inspection_id</th>\n",
       "      <th>dba_name</th>\n",
       "      <th>aka_name</th>\n",
       "      <th>license</th>\n",
       "      <th>facility_type</th>\n",
       "      <th>risk</th>\n",
       "      <th>address</th>\n",
       "      <th>city</th>\n",
       "      <th>state</th>\n",
       "      <th>zip</th>\n",
       "      <th>...</th>\n",
       "      <th>results</th>\n",
       "      <th>violations</th>\n",
       "      <th>latitude</th>\n",
       "      <th>longitude</th>\n",
       "      <th>location</th>\n",
       "      <th>historical_wards_2003_2015</th>\n",
       "      <th>zip_codes</th>\n",
       "      <th>community_areas</th>\n",
       "      <th>census_tracts</th>\n",
       "      <th>wards</th>\n",
       "    </tr>\n",
       "  </thead>\n",
       "  <tbody>\n",
       "    <tr>\n",
       "      <th>3</th>\n",
       "      <td>2288221</td>\n",
       "      <td>PALETERIA AYUTLA</td>\n",
       "      <td>PALETERIA AYUTLA</td>\n",
       "      <td>2321232.0</td>\n",
       "      <td>Restaurant</td>\n",
       "      <td>Risk 2 (Medium)</td>\n",
       "      <td>2404 W 46TH PL</td>\n",
       "      <td>CHICAGO</td>\n",
       "      <td>IL</td>\n",
       "      <td>60632.0</td>\n",
       "      <td>...</td>\n",
       "      <td>Pass w/ Conditions</td>\n",
       "      <td>3. MANAGEMENT, FOOD EMPLOYEE AND CONDITIONAL E...</td>\n",
       "      <td>41.809457</td>\n",
       "      <td>-87.684746</td>\n",
       "      <td>(41.80945691736228, -87.68474598934672)</td>\n",
       "      <td>29.0</td>\n",
       "      <td>14924.0</td>\n",
       "      <td>55.0</td>\n",
       "      <td>687.0</td>\n",
       "      <td>3.0</td>\n",
       "    </tr>\n",
       "    <tr>\n",
       "      <th>5</th>\n",
       "      <td>2288211</td>\n",
       "      <td>SUBWAY</td>\n",
       "      <td>SUBWAY</td>\n",
       "      <td>1495274.0</td>\n",
       "      <td>Restaurant</td>\n",
       "      <td>Risk 1 (High)</td>\n",
       "      <td>3167 N LINCOLN AVE</td>\n",
       "      <td>CHICAGO</td>\n",
       "      <td>IL</td>\n",
       "      <td>60657.0</td>\n",
       "      <td>...</td>\n",
       "      <td>Pass w/ Conditions</td>\n",
       "      <td>3. MANAGEMENT, FOOD EMPLOYEE AND CONDITIONAL E...</td>\n",
       "      <td>41.939425</td>\n",
       "      <td>-87.668111</td>\n",
       "      <td>(41.93942462169401, -87.66811073298523)</td>\n",
       "      <td>16.0</td>\n",
       "      <td>4449.0</td>\n",
       "      <td>57.0</td>\n",
       "      <td>712.0</td>\n",
       "      <td>40.0</td>\n",
       "    </tr>\n",
       "    <tr>\n",
       "      <th>7</th>\n",
       "      <td>2288229</td>\n",
       "      <td>SHINYA RAMEN HOUSE</td>\n",
       "      <td>SHINYA RAMEN HOUSE</td>\n",
       "      <td>2578639.0</td>\n",
       "      <td>Restaurant</td>\n",
       "      <td>Risk 1 (High)</td>\n",
       "      <td>3240 S HALSTED ST</td>\n",
       "      <td>CHICAGO</td>\n",
       "      <td>IL</td>\n",
       "      <td>60608.0</td>\n",
       "      <td>...</td>\n",
       "      <td>Pass w/ Conditions</td>\n",
       "      <td>5. PROCEDURES FOR RESPONDING TO VOMITING AND D...</td>\n",
       "      <td>41.835224</td>\n",
       "      <td>-87.646356</td>\n",
       "      <td>(41.83522370724441, -87.64635603210917)</td>\n",
       "      <td>26.0</td>\n",
       "      <td>14920.0</td>\n",
       "      <td>58.0</td>\n",
       "      <td>676.0</td>\n",
       "      <td>48.0</td>\n",
       "    </tr>\n",
       "    <tr>\n",
       "      <th>10</th>\n",
       "      <td>2286158</td>\n",
       "      <td>IVY HOTEL</td>\n",
       "      <td>IVY HOTEL</td>\n",
       "      <td>2653277.0</td>\n",
       "      <td>Restaurant</td>\n",
       "      <td>Risk 1 (High)</td>\n",
       "      <td>233 E ONTARIO ST</td>\n",
       "      <td>CHICAGO</td>\n",
       "      <td>IL</td>\n",
       "      <td>60611.0</td>\n",
       "      <td>...</td>\n",
       "      <td>Not Ready</td>\n",
       "      <td>NaN</td>\n",
       "      <td>41.893265</td>\n",
       "      <td>-87.621812</td>\n",
       "      <td>(41.8932651489868, -87.62181212015325)</td>\n",
       "      <td>22.0</td>\n",
       "      <td>21182.0</td>\n",
       "      <td>37.0</td>\n",
       "      <td>159.0</td>\n",
       "      <td>36.0</td>\n",
       "    </tr>\n",
       "    <tr>\n",
       "      <th>11</th>\n",
       "      <td>2286182</td>\n",
       "      <td>IVY HOTEL</td>\n",
       "      <td>IVY HOTEL</td>\n",
       "      <td>2653273.0</td>\n",
       "      <td>Restaurant</td>\n",
       "      <td>Risk 1 (High)</td>\n",
       "      <td>233 E ONTARIO ST</td>\n",
       "      <td>CHICAGO</td>\n",
       "      <td>IL</td>\n",
       "      <td>60611.0</td>\n",
       "      <td>...</td>\n",
       "      <td>Pass w/ Conditions</td>\n",
       "      <td>10. ADEQUATE HANDWASHING SINKS PROPERLY SUPPLI...</td>\n",
       "      <td>41.893265</td>\n",
       "      <td>-87.621812</td>\n",
       "      <td>(41.8932651489868, -87.62181212015325)</td>\n",
       "      <td>22.0</td>\n",
       "      <td>21182.0</td>\n",
       "      <td>37.0</td>\n",
       "      <td>159.0</td>\n",
       "      <td>36.0</td>\n",
       "    </tr>\n",
       "  </tbody>\n",
       "</table>\n",
       "<p>5 rows × 22 columns</p>\n",
       "</div>"
      ],
      "text/plain": [
       "    inspection_id            dba_name            aka_name    license  \\\n",
       "3         2288221    PALETERIA AYUTLA    PALETERIA AYUTLA  2321232.0   \n",
       "5         2288211              SUBWAY              SUBWAY  1495274.0   \n",
       "7         2288229  SHINYA RAMEN HOUSE  SHINYA RAMEN HOUSE  2578639.0   \n",
       "10        2286158           IVY HOTEL           IVY HOTEL  2653277.0   \n",
       "11        2286182           IVY HOTEL           IVY HOTEL  2653273.0   \n",
       "\n",
       "   facility_type             risk              address     city state  \\\n",
       "3     Restaurant  Risk 2 (Medium)      2404 W 46TH PL   CHICAGO    IL   \n",
       "5     Restaurant    Risk 1 (High)  3167 N LINCOLN AVE   CHICAGO    IL   \n",
       "7     Restaurant    Risk 1 (High)   3240 S HALSTED ST   CHICAGO    IL   \n",
       "10    Restaurant    Risk 1 (High)    233 E ONTARIO ST   CHICAGO    IL   \n",
       "11    Restaurant    Risk 1 (High)    233 E ONTARIO ST   CHICAGO    IL   \n",
       "\n",
       "        zip  ...             results  \\\n",
       "3   60632.0  ...  Pass w/ Conditions   \n",
       "5   60657.0  ...  Pass w/ Conditions   \n",
       "7   60608.0  ...  Pass w/ Conditions   \n",
       "10  60611.0  ...           Not Ready   \n",
       "11  60611.0  ...  Pass w/ Conditions   \n",
       "\n",
       "                                           violations   latitude  longitude  \\\n",
       "3   3. MANAGEMENT, FOOD EMPLOYEE AND CONDITIONAL E...  41.809457 -87.684746   \n",
       "5   3. MANAGEMENT, FOOD EMPLOYEE AND CONDITIONAL E...  41.939425 -87.668111   \n",
       "7   5. PROCEDURES FOR RESPONDING TO VOMITING AND D...  41.835224 -87.646356   \n",
       "10                                                NaN  41.893265 -87.621812   \n",
       "11  10. ADEQUATE HANDWASHING SINKS PROPERLY SUPPLI...  41.893265 -87.621812   \n",
       "\n",
       "                                   location  historical_wards_2003_2015  \\\n",
       "3   (41.80945691736228, -87.68474598934672)                        29.0   \n",
       "5   (41.93942462169401, -87.66811073298523)                        16.0   \n",
       "7   (41.83522370724441, -87.64635603210917)                        26.0   \n",
       "10   (41.8932651489868, -87.62181212015325)                        22.0   \n",
       "11   (41.8932651489868, -87.62181212015325)                        22.0   \n",
       "\n",
       "   zip_codes  community_areas  census_tracts  wards  \n",
       "3    14924.0             55.0          687.0    3.0  \n",
       "5     4449.0             57.0          712.0   40.0  \n",
       "7    14920.0             58.0          676.0   48.0  \n",
       "10   21182.0             37.0          159.0   36.0  \n",
       "11   21182.0             37.0          159.0   36.0  \n",
       "\n",
       "[5 rows x 22 columns]"
      ]
     },
     "execution_count": 16,
     "metadata": {},
     "output_type": "execute_result"
    }
   ],
   "source": [
    "food_inspect_data_restaurant.head()"
   ]
  },
  {
   "cell_type": "code",
   "execution_count": 17,
   "metadata": {},
   "outputs": [
    {
     "name": "stderr",
     "output_type": "stream",
     "text": [
      "/Users/aseel/anaconda3/lib/python3.6/site-packages/ipykernel_launcher.py:3: UserWarning:\n",
      "\n",
      "Boolean Series key will be reindexed to match DataFrame index.\n",
      "\n"
     ]
    }
   ],
   "source": [
    "# Extracting inspection_type Canvass\n",
    "# Only consider canvass inspections (not complaints or re-inspections)\n",
    "food_inspect_data_restaurant = food_inspect_data_restaurant[food_inspect_data['inspection_type'] =='Canvass']"
   ]
  },
  {
   "cell_type": "code",
   "execution_count": 18,
   "metadata": {},
   "outputs": [],
   "source": [
    "# Drop unnecessary columns Because we know we're working on a restaurant in Chicago \n",
    "food_inspect_data_restaurant = food_inspect_data_restaurant.drop(['facility_type', 'city', 'state','aka_name','inspection_type'], axis=1)"
   ]
  },
  {
   "cell_type": "code",
   "execution_count": null,
   "metadata": {},
   "outputs": [],
   "source": []
  },
  {
   "cell_type": "code",
   "execution_count": 19,
   "metadata": {},
   "outputs": [
    {
     "data": {
      "text/plain": [
       "inspection_id                     0\n",
       "dba_name                          0\n",
       "license                           0\n",
       "risk                              0\n",
       "address                           0\n",
       "zip                              17\n",
       "inspection_date                   0\n",
       "results                           0\n",
       "violations                    13512\n",
       "latitude                         71\n",
       "longitude                        71\n",
       "location                         71\n",
       "historical_wards_2003_2015     1661\n",
       "zip_codes                        71\n",
       "community_areas                1661\n",
       "census_tracts                    86\n",
       "wards                          1661\n",
       "dtype: int64"
      ]
     },
     "execution_count": 19,
     "metadata": {},
     "output_type": "execute_result"
    }
   ],
   "source": [
    "food_inspect_data_restaurant.isnull().sum()"
   ]
  },
  {
   "cell_type": "code",
   "execution_count": 20,
   "metadata": {},
   "outputs": [],
   "source": [
    "# convert date type from str to datetime to easy apply date things\n",
    "food_inspect_data_restaurant['inspection_date'] =  pd.to_datetime(food_inspect_data['inspection_date'])"
   ]
  },
  {
   "cell_type": "code",
   "execution_count": 21,
   "metadata": {},
   "outputs": [
    {
     "name": "stdout",
     "output_type": "stream",
     "text": [
      "<class 'pandas.core.frame.DataFrame'>\n",
      "Int64Index: 66123 entries, 3 to 186347\n",
      "Data columns (total 17 columns):\n",
      "inspection_id                 66123 non-null int64\n",
      "dba_name                      66123 non-null object\n",
      "license                       66123 non-null float64\n",
      "risk                          66123 non-null object\n",
      "address                       66123 non-null object\n",
      "zip                           66106 non-null float64\n",
      "inspection_date               66123 non-null datetime64[ns]\n",
      "results                       66123 non-null object\n",
      "violations                    52611 non-null object\n",
      "latitude                      66052 non-null float64\n",
      "longitude                     66052 non-null float64\n",
      "location                      66052 non-null object\n",
      "historical_wards_2003_2015    64462 non-null float64\n",
      "zip_codes                     66052 non-null float64\n",
      "community_areas               64462 non-null float64\n",
      "census_tracts                 66037 non-null float64\n",
      "wards                         64462 non-null float64\n",
      "dtypes: datetime64[ns](1), float64(9), int64(1), object(6)\n",
      "memory usage: 9.1+ MB\n"
     ]
    }
   ],
   "source": [
    "food_inspect_data_restaurant.info()"
   ]
  },
  {
   "cell_type": "code",
   "execution_count": 22,
   "metadata": {},
   "outputs": [],
   "source": [
    "# select date starting from 2013\n",
    "food_inspect_data_restaurant = food_inspect_data_restaurant.loc[food_inspect_data_restaurant['inspection_date'] >= '2013']"
   ]
  },
  {
   "cell_type": "code",
   "execution_count": 23,
   "metadata": {},
   "outputs": [
    {
     "data": {
      "text/plain": [
       "2013-11-14    93\n",
       "2013-10-21    68\n",
       "2013-09-10    68\n",
       "2013-09-09    67\n",
       "2016-06-10    66\n",
       "2016-06-29    65\n",
       "2013-10-01    65\n",
       "2014-08-19    65\n",
       "2014-08-08    64\n",
       "2017-06-08    64\n",
       "2016-09-29    64\n",
       "2016-06-27    64\n",
       "2017-06-26    63\n",
       "2016-06-21    63\n",
       "2014-09-29    63\n",
       "2016-06-13    62\n",
       "2013-08-15    62\n",
       "2016-03-03    62\n",
       "2013-09-30    62\n",
       "2016-06-16    62\n",
       "2017-03-21    62\n",
       "2014-08-14    62\n",
       "2014-11-07    62\n",
       "2013-10-11    61\n",
       "2016-10-25    61\n",
       "2015-11-17    61\n",
       "2017-09-08    60\n",
       "2017-05-26    60\n",
       "2017-01-11    60\n",
       "2014-06-05    60\n",
       "              ..\n",
       "2018-02-12     2\n",
       "2019-05-03     2\n",
       "2014-12-31     2\n",
       "2015-06-01     2\n",
       "2013-03-01     2\n",
       "2018-06-29     2\n",
       "2018-05-07     2\n",
       "2017-04-03     2\n",
       "2018-10-12     2\n",
       "2014-03-31     2\n",
       "2015-11-02     2\n",
       "2019-03-04     2\n",
       "2018-07-23     2\n",
       "2016-08-01     2\n",
       "2015-06-26     2\n",
       "2015-08-03     1\n",
       "2016-10-12     1\n",
       "2014-04-13     1\n",
       "2013-03-29     1\n",
       "2014-03-04     1\n",
       "2015-03-09     1\n",
       "2017-09-11     1\n",
       "2014-01-31     1\n",
       "2016-02-29     1\n",
       "2015-02-02     1\n",
       "2016-07-01     1\n",
       "2014-10-04     1\n",
       "2014-09-02     1\n",
       "2019-01-31     1\n",
       "2017-11-06     1\n",
       "Name: inspection_date, Length: 1552, dtype: int64"
      ]
     },
     "execution_count": 23,
     "metadata": {},
     "output_type": "execute_result"
    }
   ],
   "source": [
    "food_inspect_data_restaurant.inspection_date.value_counts()"
   ]
  },
  {
   "cell_type": "code",
   "execution_count": null,
   "metadata": {},
   "outputs": [],
   "source": []
  },
  {
   "cell_type": "code",
   "execution_count": 24,
   "metadata": {},
   "outputs": [
    {
     "data": {
      "text/plain": [
       "Out of Business         6766\n",
       "No Entry                3485\n",
       "Pass                     935\n",
       "Not Ready                 27\n",
       "Pass w/ Conditions        13\n",
       "Fail                      11\n",
       "Business Not Located       9\n",
       "Name: results, dtype: int64"
      ]
     },
     "execution_count": 24,
     "metadata": {},
     "output_type": "execute_result"
    }
   ],
   "source": [
    "# to identify the result and we will take just successful bussniss\n",
    "food_inspect_data_restaurant.loc[food_inspect_data_restaurant.violations.isna(), 'results'].value_counts()"
   ]
  },
  {
   "cell_type": "code",
   "execution_count": 25,
   "metadata": {},
   "outputs": [
    {
     "data": {
      "text/plain": [
       "Risk 1 (High)      42625\n",
       "Risk 2 (Medium)     8087\n",
       "Risk 3 (Low)         215\n",
       "Name: risk, dtype: int64"
      ]
     },
     "execution_count": 25,
     "metadata": {},
     "output_type": "execute_result"
    }
   ],
   "source": []
  },
  {
   "cell_type": "code",
   "execution_count": 26,
   "metadata": {},
   "outputs": [],
   "source": [
    "# Only consider successful inspections\n",
    "food_inspect_data_restaurant = food_inspect_data_restaurant[~food_inspect_data_restaurant.results.isin([\"Out of Business\", \"Business Not Located\", \"No Entry\"])]"
   ]
  },
  {
   "cell_type": "code",
   "execution_count": 27,
   "metadata": {},
   "outputs": [
    {
     "data": {
      "text/plain": [
       "Pass                  23295\n",
       "Pass w/ Conditions     8632\n",
       "Fail                   8597\n",
       "Not Ready                28\n",
       "Name: results, dtype: int64"
      ]
     },
     "execution_count": 27,
     "metadata": {},
     "output_type": "execute_result"
    }
   ],
   "source": [
    "food_inspect_data_restaurant.results.value_counts()"
   ]
  },
  {
   "cell_type": "markdown",
   "metadata": {},
   "source": [
    "### Handeling Missing Value:"
   ]
  },
  {
   "cell_type": "code",
   "execution_count": 386,
   "metadata": {},
   "outputs": [],
   "source": [
    "# df = df[df.latuidad.notna()]"
   ]
  },
  {
   "cell_type": "code",
   "execution_count": null,
   "metadata": {},
   "outputs": [],
   "source": [
    "# Drop duplicates\n",
    "# food_inspect_data_restaurant.drop_duplicates(\"inspection_id\", inplace=True)"
   ]
  },
  {
   "cell_type": "code",
   "execution_count": 47,
   "metadata": {},
   "outputs": [],
   "source": [
    "## Drop \"0\" licenses\n",
    "food_inspect_data_restaurant = food_inspect_data_restaurant[food_inspect_data_restaurant.license != 0]"
   ]
  },
  {
   "cell_type": "code",
   "execution_count": 96,
   "metadata": {},
   "outputs": [
    {
     "data": {
      "text/plain": [
       "Pass                  23295\n",
       "Pass w/ Conditions     8632\n",
       "Fail                   8597\n",
       "Not Ready                28\n",
       "Name: results, dtype: int64"
      ]
     },
     "execution_count": 96,
     "metadata": {},
     "output_type": "execute_result"
    }
   ],
   "source": [
    "food_inspect_data_restaurant.results.value_counts()"
   ]
  },
  {
   "cell_type": "code",
   "execution_count": 28,
   "metadata": {},
   "outputs": [
    {
     "data": {
      "text/plain": [
       "zip                              2\n",
       "violations                     986\n",
       "latitude                        44\n",
       "longitude                       44\n",
       "location                        44\n",
       "historical_wards_2003_2015    1154\n",
       "zip_codes                       44\n",
       "community_areas               1154\n",
       "census_tracts                   54\n",
       "wards                         1154\n",
       "dtype: int64"
      ]
     },
     "execution_count": 28,
     "metadata": {},
     "output_type": "execute_result"
    }
   ],
   "source": [
    "null_columns=food_inspect_data_restaurant.columns[food_inspect_data_restaurant.isnull().any()]\n",
    "food_inspect_data_restaurant[null_columns].isnull().sum()"
   ]
  },
  {
   "cell_type": "code",
   "execution_count": 29,
   "metadata": {},
   "outputs": [],
   "source": [
    "# filling the vailatuins \n",
    "food_inspect_data_restaurant.violations.fillna(\"No Violations\", inplace = True)"
   ]
  },
  {
   "cell_type": "code",
   "execution_count": 30,
   "metadata": {},
   "outputs": [],
   "source": [
    "#Drop rows with missing data\n",
    "food_inspect_data_restaurant.dropna(subset=['latitude','zip','historical_wards_2003_2015','census_tracts'],inplace=True)"
   ]
  },
  {
   "cell_type": "code",
   "execution_count": 49,
   "metadata": {},
   "outputs": [
    {
     "name": "stdout",
     "output_type": "stream",
     "text": [
      "<class 'pandas.core.frame.DataFrame'>\n",
      "Int64Index: 39369 entries, 3 to 130654\n",
      "Data columns (total 17 columns):\n",
      "inspection_id                 39369 non-null int64\n",
      "dba_name                      39369 non-null object\n",
      "license                       39369 non-null float64\n",
      "risk                          39369 non-null object\n",
      "address                       39369 non-null object\n",
      "zip                           39369 non-null float64\n",
      "inspection_date               39369 non-null datetime64[ns]\n",
      "results                       39369 non-null object\n",
      "violations                    39369 non-null object\n",
      "latitude                      39369 non-null float64\n",
      "longitude                     39369 non-null float64\n",
      "location                      39369 non-null object\n",
      "historical_wards_2003_2015    39369 non-null float64\n",
      "zip_codes                     39369 non-null float64\n",
      "community_areas               39369 non-null float64\n",
      "census_tracts                 39369 non-null float64\n",
      "wards                         39369 non-null float64\n",
      "dtypes: datetime64[ns](1), float64(9), int64(1), object(6)\n",
      "memory usage: 5.4+ MB\n"
     ]
    }
   ],
   "source": [
    "food_inspect_data_restaurant.info()"
   ]
  },
  {
   "cell_type": "code",
   "execution_count": 37,
   "metadata": {},
   "outputs": [
    {
     "data": {
      "text/plain": [
       "inspection_id                 0\n",
       "dba_name                      0\n",
       "license                       0\n",
       "risk                          0\n",
       "address                       0\n",
       "zip                           0\n",
       "inspection_date               0\n",
       "results                       0\n",
       "violations                    0\n",
       "latitude                      0\n",
       "longitude                     0\n",
       "location                      0\n",
       "historical_wards_2003_2015    0\n",
       "zip_codes                     0\n",
       "community_areas               0\n",
       "census_tracts                 0\n",
       "wards                         0\n",
       "dtype: int64"
      ]
     },
     "execution_count": 37,
     "metadata": {},
     "output_type": "execute_result"
    }
   ],
   "source": [
    "food_inspect_data_restaurant.isnull().sum()"
   ]
  },
  {
   "cell_type": "code",
   "execution_count": 38,
   "metadata": {},
   "outputs": [],
   "source": [
    "# df = food_inspect_data_restaurant[food_inspect_data_restaurant.latitude.notna()]"
   ]
  },
  {
   "cell_type": "code",
   "execution_count": null,
   "metadata": {},
   "outputs": [],
   "source": [
    "# df[df.isnull().any(axis=1)][null_columns].head()"
   ]
  },
  {
   "cell_type": "code",
   "execution_count": null,
   "metadata": {},
   "outputs": [],
   "source": [
    "# df = df.dropna(axis=0, subset=['zip'])"
   ]
  },
  {
   "cell_type": "code",
   "execution_count": 387,
   "metadata": {},
   "outputs": [],
   "source": [
    "# print(df[df[\"zip\"].isnull()][null_columns])"
   ]
  },
  {
   "cell_type": "code",
   "execution_count": 36,
   "metadata": {
    "scrolled": true
   },
   "outputs": [],
   "source": [
    "# food_inspect_data_restaurant.violations.isnull().sum()"
   ]
  },
  {
   "cell_type": "code",
   "execution_count": 34,
   "metadata": {},
   "outputs": [],
   "source": [
    "# df.info()"
   ]
  },
  {
   "cell_type": "code",
   "execution_count": 40,
   "metadata": {
    "scrolled": true
   },
   "outputs": [],
   "source": [
    "# df.isnull().sum()"
   ]
  },
  {
   "cell_type": "code",
   "execution_count": 391,
   "metadata": {},
   "outputs": [],
   "source": []
  },
  {
   "cell_type": "code",
   "execution_count": 39,
   "metadata": {},
   "outputs": [],
   "source": [
    "# df.info()"
   ]
  },
  {
   "cell_type": "code",
   "execution_count": 41,
   "metadata": {
    "scrolled": true
   },
   "outputs": [],
   "source": [
    "# df.community_areas.head()"
   ]
  },
  {
   "cell_type": "code",
   "execution_count": 42,
   "metadata": {
    "scrolled": false
   },
   "outputs": [],
   "source": [
    "# df.wards.head()"
   ]
  },
  {
   "cell_type": "code",
   "execution_count": 43,
   "metadata": {},
   "outputs": [],
   "source": [
    "# df.zip.dropna(inplace = True)"
   ]
  },
  {
   "cell_type": "code",
   "execution_count": null,
   "metadata": {},
   "outputs": [],
   "source": []
  },
  {
   "cell_type": "markdown",
   "metadata": {},
   "source": [
    "## Duplicated value"
   ]
  },
  {
   "cell_type": "code",
   "execution_count": 39,
   "metadata": {},
   "outputs": [
    {
     "data": {
      "text/plain": [
       "0"
      ]
     },
     "execution_count": 39,
     "metadata": {},
     "output_type": "execute_result"
    }
   ],
   "source": [
    "sum(food_inspect_data_restaurant.duplicated())"
   ]
  },
  {
   "cell_type": "code",
   "execution_count": 423,
   "metadata": {},
   "outputs": [],
   "source": [
    "# food_inspect_data_restaurant.drop_duplicates(\"inspection_id\", inplace=True)"
   ]
  },
  {
   "cell_type": "code",
   "execution_count": 425,
   "metadata": {},
   "outputs": [],
   "source": [
    "# food_inspect_data_restaurant.drop_duplicates(inplace=True)"
   ]
  },
  {
   "cell_type": "code",
   "execution_count": 53,
   "metadata": {
    "scrolled": true
   },
   "outputs": [],
   "source": [
    "# food_inspect_data_restaurant.info()"
   ]
  },
  {
   "cell_type": "markdown",
   "metadata": {},
   "source": [
    "# Verify the values of data"
   ]
  },
  {
   "cell_type": "code",
   "execution_count": 45,
   "metadata": {},
   "outputs": [
    {
     "data": {
      "text/plain": [
       "SUBWAY                          1183\n",
       "DUNKIN DONUTS                    430\n",
       "POTBELLY SANDWICH WORKS LLC      129\n",
       "POTBELLY SANDWICH WORKS          116\n",
       "CHIPOTLE MEXICAN GRILL           115\n",
       "CORNER BAKERY CAFE               105\n",
       "SUBWAY SANDWICHES                 94\n",
       "FRESHII                           90\n",
       "AU BON PAIN                       86\n",
       "JIMMY JOHN'S                      76\n",
       "Subway                            76\n",
       "PROTEIN BAR                       71\n",
       "DOMINO'S PIZZA                    71\n",
       "MCDONALD'S                        64\n",
       "JIMMY JOHNS                       61\n",
       "PRET A MANGER                     59\n",
       "KFC                               57\n",
       "DUNKIN DONUTS/BASKIN ROBBINS      55\n",
       "WINGSTOP                          53\n",
       "SEE THRU CHINESE KITCHEN          50\n",
       "TACO BELL                         50\n",
       "HALSTED STREET DELI               44\n",
       "Chipotle Mexican Grill            42\n",
       "WOW BAO                           41\n",
       "MCDONALDS                         39\n",
       "EUREST DINING SERVICES            39\n",
       "NOODLES & COMPANY                 39\n",
       "TACO BURRITO KING                 39\n",
       "MACY'S                            38\n",
       "CHICAGO DOWNTOWN MARRIOTT         37\n",
       "                                ... \n",
       "ZIGZAG CAFE                        1\n",
       "SWEET RICE                         1\n",
       "MARATHON                           1\n",
       "Pollo Andino Rosticeria            1\n",
       "AFC Sushi @ Dominick's #1147       1\n",
       "BUFFET CASTLE                      1\n",
       "LINCOLN RESTAURANT                 1\n",
       "LAND AND LAKE KITCHEN              1\n",
       "D J SUB                            1\n",
       "HEALTHY SHAPE                      1\n",
       "7 DAYS RESTAURANT                  1\n",
       "LA QUINTA DE LOS REYES             1\n",
       "PACO'S HOTDOGS AND ICE CREAM       1\n",
       "MI TOCAYA                          1\n",
       "ROCKETS ALL AMERICAN               1\n",
       "ZEE'S                              1\n",
       "SWEDISH AMERICAN MUSEUM            1\n",
       "BONJOUR CAFE                       1\n",
       "SUNNY-SUBMARINE                    1\n",
       "HIGH TIDE POKE                     1\n",
       "JOJO'S RESTAURANT INC              1\n",
       "CHATO'S PASTA HOUSE                1\n",
       "PALETERIA REYNA DEL SUR            1\n",
       "CABOS BAJA CAFE AND GRILL          1\n",
       "PUB 626                            1\n",
       "CHOPOCHICKEN                       1\n",
       "CANANAS                            1\n",
       "HOMETEAM PIZZA, INC.               1\n",
       "PikoRiko                           1\n",
       "PIZZA HUT 317247                   1\n",
       "Name: dba_name, Length: 8861, dtype: int64"
      ]
     },
     "execution_count": 45,
     "metadata": {},
     "output_type": "execute_result"
    }
   ],
   "source": [
    "food_inspect_data_restaurant.dba_name.value_counts()"
   ]
  },
  {
   "cell_type": "code",
   "execution_count": 48,
   "metadata": {},
   "outputs": [
    {
     "data": {
      "text/plain": [
       "2037952.0    12\n",
       "32317.0      12\n",
       "2048240.0    11\n",
       "1166643.0    11\n",
       "1742905.0    11\n",
       "1801484.0    11\n",
       "2125190.0    10\n",
       "1964058.0    10\n",
       "1909350.0    10\n",
       "1869258.0    10\n",
       "2125299.0    10\n",
       "2152594.0    10\n",
       "1492229.0    10\n",
       "1648670.0    10\n",
       "1488966.0    10\n",
       "1823750.0    10\n",
       "45411.0      10\n",
       "2054100.0    10\n",
       "1330081.0    10\n",
       "1478885.0    10\n",
       "38776.0      10\n",
       "2129629.0    10\n",
       "2163723.0    10\n",
       "1475890.0    10\n",
       "2137745.0    10\n",
       "1869180.0    10\n",
       "36651.0      10\n",
       "1495274.0    10\n",
       "1514514.0    10\n",
       "1573944.0    10\n",
       "             ..\n",
       "1594243.0     1\n",
       "2064683.0     1\n",
       "1884474.0     1\n",
       "2442457.0     1\n",
       "2442466.0     1\n",
       "2240857.0     1\n",
       "2240854.0     1\n",
       "2442573.0     1\n",
       "1120391.0     1\n",
       "2064573.0     1\n",
       "2294091.0     1\n",
       "2294065.0     1\n",
       "1332711.0     1\n",
       "1514130.0     1\n",
       "2511373.0     1\n",
       "1514084.0     1\n",
       "2556051.0     1\n",
       "2293937.0     1\n",
       "2064476.0     1\n",
       "2556107.0     1\n",
       "2179611.0     1\n",
       "1516129.0     1\n",
       "1383005.0     1\n",
       "1645105.0     1\n",
       "47311.0       1\n",
       "2477303.0     1\n",
       "2294011.0     1\n",
       "1332616.0     1\n",
       "2179749.0     1\n",
       "1772510.0     1\n",
       "Name: license, Length: 10549, dtype: int64"
      ]
     },
     "execution_count": 48,
     "metadata": {},
     "output_type": "execute_result"
    }
   ],
   "source": [
    "food_inspect_data_restaurant.license.value_counts()"
   ]
  },
  {
   "cell_type": "code",
   "execution_count": 50,
   "metadata": {},
   "outputs": [
    {
     "data": {
      "text/plain": [
       "Index(['inspection_id', 'dba_name', 'license', 'risk', 'address', 'zip',\n",
       "       'inspection_date', 'results', 'violations', 'latitude', 'longitude',\n",
       "       'location', 'historical_wards_2003_2015', 'zip_codes',\n",
       "       'community_areas', 'census_tracts', 'wards'],\n",
       "      dtype='object')"
      ]
     },
     "execution_count": 50,
     "metadata": {},
     "output_type": "execute_result"
    }
   ],
   "source": [
    "food_inspect_data_restaurant.columns"
   ]
  },
  {
   "cell_type": "code",
   "execution_count": 51,
   "metadata": {},
   "outputs": [
    {
     "data": {
      "text/plain": [
       "Risk 1 (High)      33714\n",
       "Risk 2 (Medium)     5534\n",
       "Risk 3 (Low)         121\n",
       "Name: risk, dtype: int64"
      ]
     },
     "execution_count": 51,
     "metadata": {},
     "output_type": "execute_result"
    }
   ],
   "source": [
    "food_inspect_data_restaurant.risk.value_counts()"
   ]
  },
  {
   "cell_type": "code",
   "execution_count": 54,
   "metadata": {},
   "outputs": [
    {
     "data": {
      "text/plain": [
       "5700 S CICERO AVE               202\n",
       "500 W MADISON ST                140\n",
       "222 W MERCHANDISE MART PLZ      117\n",
       "131 N CLINTON ST                101\n",
       "100 W RANDOLPH ST                98\n",
       "7601 S CICERO AVE                78\n",
       "151 E WACKER DR                  74\n",
       "600 E GRAND AVE                  70\n",
       "233 N MICHIGAN AVE               67\n",
       "225 S CANAL ST                   61\n",
       "2002 S WENTWORTH AVE             61\n",
       "175 W JACKSON BLVD               59\n",
       "520 N MICHIGAN AVE               57\n",
       "301 E NORTH WATER ST             49\n",
       "233 S WACKER DR                  49\n",
       "540 N MICHIGAN AVE               49\n",
       "1 W WACKER DR                    46\n",
       "251 E HURON ST                   46\n",
       "200 E RANDOLPH ST                44\n",
       "108 N STATE ST                   43\n",
       "225 N MICHIGAN AVE               41\n",
       "835 N MICHIGAN AVE               39\n",
       "131 N Clinton ST                 38\n",
       "311 S WACKER DR                  38\n",
       "140 E WALTON PL                  36\n",
       "333 W 35TH ST                    36\n",
       "111 N STATE ST                   36\n",
       "350 N ORLEANS ST                 35\n",
       "17 E MONROE ST                   35\n",
       "900 N MICHIGAN AVE               34\n",
       "                               ... \n",
       "215-225 W PERSHING RD             1\n",
       "3208-3210 N SOUTHPORT AVE         1\n",
       "3904 N CICERO                     1\n",
       "2574-2580 N LINCOLN AVE           1\n",
       "3601 W NORTH AVE BLDG 1STFL.      1\n",
       "3234 N ELSTON AVE                 1\n",
       "1046-1/2 W ARGYLE ST              1\n",
       "622 E 71ST ST                     1\n",
       "9151 S ASHLAND AVE                1\n",
       "8233 S ASHLAND AVE                1\n",
       "1747 N ELSTON AVE                 1\n",
       "1555 N DAYTON ST                  1\n",
       "3654 W 16TH ST                    1\n",
       "9615 S WESTERN AVE                1\n",
       "736 W IRVING PARK RD              1\n",
       "3325 N HALSTED ST                 1\n",
       "10123 S WESTERN AVE               1\n",
       "1828 W 79TH ST                    1\n",
       "3350-3352 N HALSTED ST            1\n",
       "225 W WASHINGTON ST               1\n",
       "4831-4845 N AUSTIN AVE            1\n",
       "7921 S WESTERN AVE                1\n",
       "1800 W 87TH ST                    1\n",
       "4109 W NORTH AVE                  1\n",
       "111 W 75TH ST                     1\n",
       "1414 N WELLS ST                   1\n",
       "2112 N CLYBOURN AVE               1\n",
       "469 W CHICAGO AVE                 1\n",
       "151 W ERIE ST                     1\n",
       "1961 N HALSTED ST                 1\n",
       "Name: address, Length: 7900, dtype: int64"
      ]
     },
     "execution_count": 54,
     "metadata": {},
     "output_type": "execute_result"
    }
   ],
   "source": [
    "food_inspect_data_restaurant.address.value_counts()"
   ]
  },
  {
   "cell_type": "code",
   "execution_count": 55,
   "metadata": {},
   "outputs": [
    {
     "data": {
      "text/plain": [
       "60614.0    1953\n",
       "60611.0    1846\n",
       "60657.0    1791\n",
       "60654.0    1410\n",
       "60647.0    1360\n",
       "60607.0    1357\n",
       "60622.0    1310\n",
       "60618.0    1277\n",
       "60625.0    1200\n",
       "60601.0    1178\n",
       "60640.0    1146\n",
       "60606.0    1135\n",
       "60613.0    1109\n",
       "60610.0     972\n",
       "60608.0     962\n",
       "60639.0     941\n",
       "60616.0     913\n",
       "60661.0     895\n",
       "60632.0     884\n",
       "60634.0     862\n",
       "60659.0     821\n",
       "60605.0     798\n",
       "60641.0     794\n",
       "60623.0     697\n",
       "60638.0     680\n",
       "60626.0     674\n",
       "60603.0     661\n",
       "60660.0     658\n",
       "60629.0     575\n",
       "60609.0     563\n",
       "60642.0     537\n",
       "60617.0     535\n",
       "60630.0     527\n",
       "60602.0     454\n",
       "60604.0     437\n",
       "60612.0     400\n",
       "60643.0     391\n",
       "60652.0     363\n",
       "60646.0     351\n",
       "60619.0     346\n",
       "60631.0     318\n",
       "60620.0     314\n",
       "60637.0     308\n",
       "60615.0     302\n",
       "60628.0     285\n",
       "60651.0     244\n",
       "60644.0     243\n",
       "60707.0     242\n",
       "60645.0     233\n",
       "60649.0     197\n",
       "60655.0     185\n",
       "60653.0     176\n",
       "60624.0     150\n",
       "60656.0     141\n",
       "60636.0     133\n",
       "60621.0      76\n",
       "60633.0      56\n",
       "60827.0       3\n",
       "Name: zip, dtype: int64"
      ]
     },
     "execution_count": 55,
     "metadata": {},
     "output_type": "execute_result"
    }
   ],
   "source": [
    "food_inspect_data_restaurant.zip.value_counts()"
   ]
  },
  {
   "cell_type": "code",
   "execution_count": 56,
   "metadata": {},
   "outputs": [
    {
     "data": {
      "text/plain": [
       "2016-06-29    58\n",
       "2016-06-13    56\n",
       "2014-06-05    55\n",
       "2016-06-27    55\n",
       "2017-05-26    55\n",
       "2017-06-08    55\n",
       "2016-03-21    53\n",
       "2017-06-26    51\n",
       "2013-03-28    51\n",
       "2016-04-11    51\n",
       "2016-10-25    51\n",
       "2014-01-30    51\n",
       "2016-03-03    51\n",
       "2014-11-18    51\n",
       "2014-08-19    51\n",
       "2014-03-17    50\n",
       "2017-01-04    50\n",
       "2016-06-30    49\n",
       "2014-03-07    49\n",
       "2016-08-15    49\n",
       "2014-08-08    49\n",
       "2016-06-21    49\n",
       "2016-11-03    49\n",
       "2016-06-10    49\n",
       "2017-01-05    48\n",
       "2015-12-03    47\n",
       "2014-08-14    47\n",
       "2016-04-01    47\n",
       "2016-11-04    47\n",
       "2017-06-02    47\n",
       "              ..\n",
       "2015-12-07     2\n",
       "2018-05-21     2\n",
       "2019-05-03     2\n",
       "2016-05-02     2\n",
       "2018-11-23     2\n",
       "2015-12-24     2\n",
       "2019-01-07     2\n",
       "2014-07-07     2\n",
       "2019-03-04     2\n",
       "2016-04-15     2\n",
       "2018-02-12     2\n",
       "2018-07-23     2\n",
       "2018-12-03     2\n",
       "2018-11-02     2\n",
       "2013-12-31     2\n",
       "2019-02-04     2\n",
       "2013-03-01     1\n",
       "2018-06-29     1\n",
       "2015-02-02     1\n",
       "2014-03-31     1\n",
       "2019-01-31     1\n",
       "2014-03-04     1\n",
       "2015-06-01     1\n",
       "2016-11-28     1\n",
       "2017-11-06     1\n",
       "2014-12-31     1\n",
       "2016-10-12     1\n",
       "2016-10-03     1\n",
       "2018-05-07     1\n",
       "2015-08-03     1\n",
       "Name: inspection_date, Length: 1535, dtype: int64"
      ]
     },
     "execution_count": 56,
     "metadata": {},
     "output_type": "execute_result"
    }
   ],
   "source": [
    "food_inspect_data_restaurant.inspection_date.value_counts()"
   ]
  },
  {
   "cell_type": "code",
   "execution_count": 57,
   "metadata": {},
   "outputs": [
    {
     "data": {
      "text/plain": [
       "Pass                  22513\n",
       "Pass w/ Conditions     8433\n",
       "Fail                   8398\n",
       "Not Ready                25\n",
       "Name: results, dtype: int64"
      ]
     },
     "execution_count": 57,
     "metadata": {},
     "output_type": "execute_result"
    }
   ],
   "source": [
    "food_inspect_data_restaurant.results.value_counts()"
   ]
  },
  {
   "cell_type": "code",
   "execution_count": 59,
   "metadata": {},
   "outputs": [
    {
     "name": "stdout",
     "output_type": "stream",
     "text": [
      "No Violations                                                                                                                                                                                                                                                                                                                                                                                                                                                                                                                                                                                                                                                                                                                                                                                                                                                                                                                                                                                                                                                                                                                                                                                                                                                                                                                                                                                                                                                                                                                                                                                                                                                                                                                                                                                                                                                                                                                                                                                                                                                                                                                                                                                                                                                                                                                                                                                                                                                                                                                                                                                                                                                                                                                                                                                                                                                                                                                                                                                                                                                                                                                                                                                                                                                                                                                                                                                                                                                                                                                                                                                                                                                                                                                                                                                                                                                                                                                                                                                                                                                                                                                                                                                                                                                                                                                                                                                                                                                                                                                                                                                                                                                                                                                                                                                                                                                                                                                                                                                                                                                                                                                                                                                                                                                                                                                                                                                                                                                                                                                                                                                                                                                                                                                                                                                                                                                                                                                                                                                                                                                                                                                                                                                                                                                                                                                                                                                                                                                                                                                                                                                                                                                                                                                                                                                                                                                                                                                                                                                                                                                                             963\n",
      "45. FOOD HANDLER REQUIREMENTS MET - Comments: ALL FOOD HANDLING EMPLOYEES MUST SHOW PROOF OF FOOD HANDLER TRAINING.  MUST PROVIDE.                                                                                                                                                                                                                                                                                                                                                                                                                                                                                                                                                                                                                                                                                                                                                                                                                                                                                                                                                                                                                                                                                                                                                                                                                                                                                                                                                                                                                                                                                                                                                                                                                                                                                                                                                                                                                                                                                                                                                                                                                                                                                                                                                                                                                                                                                                                                                                                                                                                                                                                                                                                                                                                                                                                                                                                                                                                                                                                                                                                                                                                                                                                                                                                                                                                                                                                                                                                                                                                                                                                                                                                                                                                                                                                                                                                                                                                                                                                                                                                                                                                                                                                                                                                                                                                                                                                                                                                                                                                                                                                                                                                                                                                                                                                                                                                                                                                                                                                                                                                                                                                                                                                                                                                                                                                                                                                                                                                                                                                                                                                                                                                                                                                                                                                                                                                                                                                                                                                                                                                                                                                                                                                                                                                                                                                                                                                                                                                                                                                                                                                                                                                                                                                                                                                                                                                                                                                                                                                                                          7\n",
      "30. FOOD IN ORIGINAL CONTAINER, PROPERLY LABELED: CUSTOMER ADVISORY POSTED AS NEEDED - Comments: ALL BULK FOOD CONTAINERS MUST BE LABELED.                                                                                                                                                                                                                                                                                                                                                                                                                                                                                                                                                                                                                                                                                                                                                                                                                                                                                                                                                                                                                                                                                                                                                                                                                                                                                                                                                                                                                                                                                                                                                                                                                                                                                                                                                                                                                                                                                                                                                                                                                                                                                                                                                                                                                                                                                                                                                                                                                                                                                                                                                                                                                                                                                                                                                                                                                                                                                                                                                                                                                                                                                                                                                                                                                                                                                                                                                                                                                                                                                                                                                                                                                                                                                                                                                                                                                                                                                                                                                                                                                                                                                                                                                                                                                                                                                                                                                                                                                                                                                                                                                                                                                                                                                                                                                                                                                                                                                                                                                                                                                                                                                                                                                                                                                                                                                                                                                                                                                                                                                                                                                                                                                                                                                                                                                                                                                                                                                                                                                                                                                                                                                                                                                                                                                                                                                                                                                                                                                                                                                                                                                                                                                                                                                                                                                                                                                                                                                                                                                  3\n",
      "40. REFRIGERATION AND METAL STEM THERMOMETERS PROVIDED AND CONSPICUOUS - Comments: INSTRUCTED TO PROVIDE THERMOMETER VISIBLE INSIDE ALL COOLERS.                                                                                                                                                                                                                                                                                                                                                                                                                                                                                                                                                                                                                                                                                                                                                                                                                                                                                                                                                                                                                                                                                                                                                                                                                                                                                                                                                                                                                                                                                                                                                                                                                                                                                                                                                                                                                                                                                                                                                                                                                                                                                                                                                                                                                                                                                                                                                                                                                                                                                                                                                                                                                                                                                                                                                                                                                                                                                                                                                                                                                                                                                                                                                                                                                                                                                                                                                                                                                                                                                                                                                                                                                                                                                                                                                                                                                                                                                                                                                                                                                                                                                                                                                                                                                                                                                                                                                                                                                                                                                                                                                                                                                                                                                                                                                                                                                                                                                                                                                                                                                                                                                                                                                                                                                                                                                                                                                                                                                                                                                                                                                                                                                                                                                                                                                                                                                                                                                                                                                                                                                                                                                                                                                                                                                                                                                                                                                                                                                                                                                                                                                                                                                                                                                                                                                                                                                                                                                                                                            3\n",
      "34. FLOORS: CONSTRUCTED PER CODE, CLEANED, GOOD REPAIR, COVING INSTALLED, DUST-LESS CLEANING METHODS USED - Comments: MUST CLEAN FLOORS IN THE REAR STORAGE AREA,ALONG WALL BASE AND CORNERS                                                                                                                                                                                                                                                                                                                                                                                                                                                                                                                                                                                                                                                                                                                                                                                                                                                                                                                                                                                                                                                                                                                                                                                                                                                                                                                                                                                                                                                                                                                                                                                                                                                                                                                                                                                                                                                                                                                                                                                                                                                                                                                                                                                                                                                                                                                                                                                                                                                                                                                                                                                                                                                                                                                                                                                                                                                                                                                                                                                                                                                                                                                                                                                                                                                                                                                                                                                                                                                                                                                                                                                                                                                                                                                                                                                                                                                                                                                                                                                                                                                                                                                                                                                                                                                                                                                                                                                                                                                                                                                                                                                                                                                                                                                                                                                                                                                                                                                                                                                                                                                                                                                                                                                                                                                                                                                                                                                                                                                                                                                                                                                                                                                                                                                                                                                                                                                                                                                                                                                                                                                                                                                                                                                                                                                                                                                                                                                                                                                                                                                                                                                                                                                                                                                                                                                                                                                                                                2\n",
      "41. PREMISES MAINTAINED FREE OF LITTER, UNNECESSARY ARTICLES, CLEANING  EQUIPMENT PROPERLY STORED - Comments: FOUND MOPS AND BROOMS NOT STORED PROPERLY.                                                                                                                                                                                                                                                                                                                                                                                                                                                                                                                                                                                                                                                                                                                                                                                                                                                                                                                                                                                                                                                                                                                                                                                                                                                                                                                                                                                                                                                                                                                                                                                                                                                                                                                                                                                                                                                                                                                                                                                                                                                                                                                                                                                                                                                                                                                                                                                                                                                                                                                                                                                                                                                                                                                                                                                                                                                                                                                                                                                                                                                                                                                                                                                                                                                                                                                                                                                                                                                                                                                                                                                                                                                                                                                                                                                                                                                                                                                                                                                                                                                                                                                                                                                                                                                                                                                                                                                                                                                                                                                                                                                                                                                                                                                                                                                                                                                                                                                                                                                                                                                                                                                                                                                                                                                                                                                                                                                                                                                                                                                                                                                                                                                                                                                                                                                                                                                                                                                                                                                                                                                                                                                                                                                                                                                                                                                                                                                                                                                                                                                                                                                                                                                                                                                                                                                                                                                                                                                                    2\n",
      "38. VENTILATION: ROOMS AND EQUIPMENT VENTED AS REQUIRED: PLUMBING: INSTALLED AND MAINTAINED - Comments: FOUND NO BACKFLOW PREVENTION DEVICES AT ICE MACHINE AND COFFEE MACHINES.(CHECK VALVES)                                                                                                                                                                                                                                                                                                                                                                                                                                                                                                                                                                                                                                                                                                                                                                                                                                                                                                                                                                                                                                                                                                                                                                                                                                                                                                                                                                                                                                                                                                                                                                                                                                                                                                                                                                                                                                                                                                                                                                                                                                                                                                                                                                                                                                                                                                                                                                                                                                                                                                                                                                                                                                                                                                                                                                                                                                                                                                                                                                                                                                                                                                                                                                                                                                                                                                                                                                                                                                                                                                                                                                                                                                                                                                                                                                                                                                                                                                                                                                                                                                                                                                                                                                                                                                                                                                                                                                                                                                                                                                                                                                                                                                                                                                                                                                                                                                                                                                                                                                                                                                                                                                                                                                                                                                                                                                                                                                                                                                                                                                                                                                                                                                                                                                                                                                                                                                                                                                                                                                                                                                                                                                                                                                                                                                                                                                                                                                                                                                                                                                                                                                                                                                                                                                                                                                                                                                                                                              2\n",
      "40. REFRIGERATION AND METAL STEM THERMOMETERS PROVIDED AND CONSPICUOUS - Comments: INSTRUCTED TO PROVIDE THERMOMETER VISIBLE AND ACCURATE INSIDE ALL COOLERS.                                                                                                                                                                                                                                                                                                                                                                                                                                                                                                                                                                                                                                                                                                                                                                                                                                                                                                                                                                                                                                                                                                                                                                                                                                                                                                                                                                                                                                                                                                                                                                                                                                                                                                                                                                                                                                                                                                                                                                                                                                                                                                                                                                                                                                                                                                                                                                                                                                                                                                                                                                                                                                                                                                                                                                                                                                                                                                                                                                                                                                                                                                                                                                                                                                                                                                                                                                                                                                                                                                                                                                                                                                                                                                                                                                                                                                                                                                                                                                                                                                                                                                                                                                                                                                                                                                                                                                                                                                                                                                                                                                                                                                                                                                                                                                                                                                                                                                                                                                                                                                                                                                                                                                                                                                                                                                                                                                                                                                                                                                                                                                                                                                                                                                                                                                                                                                                                                                                                                                                                                                                                                                                                                                                                                                                                                                                                                                                                                                                                                                                                                                                                                                                                                                                                                                                                                                                                                                                               2\n",
      "3. MANAGEMENT, FOOD EMPLOYEE AND CONDITIONAL EMPLOYEE; KNOWLEDGE, RESPONSIBILITIES AND REPORTING - Comments: NO EMPLOYEE HEALTH POLICY. INSTRUCTED MANAGER TO COMPLY WITH THE NEW CODES OR CITATIONS WILL FOLLOW. PRIORITY FOUNDATION VIOLATION #2-201.11. | 5. PROCEDURES FOR RESPONDING TO VOMITING AND DIARRHEAL EVENTS - Comments: NO CLEAN UP PROCEDURES. INSTRUCTED MANAGER TO COMPLY WITH THE NEW CODES OR CITATIONS WILL FOLLOW. PRIORITY FOUNDATION VIOLATION #2-501.11. | 58. ALLERGEN TRAINING AS REQUIRED - Comments: NO ALLERGEN TRAINING. INSTRUCTED MANAGER TO COMPLY WITH THE NEW CODES OR CITATIONS WILL FOLLOW.                                                                                                                                                                                                                                                                                                                                                                                                                                                                                                                                                                                                                                                                                                                                                                                                                                                                                                                                                                                                                                                                                                                                                                                                                                                                                                                                                                                                                                                                                                                                                                                                                                                                                                                                                                                                                                                                                                                                                                                                                                                                                                                                                                                                                                                                                                                                                                                                                                                                                                                                                                                                                                                                                                                                                                                                                                                                                                                                                                                                                                                                                                                                                                                                                                                                                                                                                                                                                                                                                                                                                                                                                                                                                                                                                                                                                                                                                                                                                                                                                                                                                                                                                                                                                                                                                                                                                                                                                                                                                                                                                                                                                                                                                                                                                                                                                                                                                                                                                                                                                                                                                                                                                                                                                                                                                                                                                                                                                                                                                                                                                                                                                                                                                                                                                                                                                                                                                                                                                                                                                                                                                                                                                                                                                                                                                                                                                                                                                                                           2\n",
      "45. FOOD HANDLER REQUIREMENTS MET - Comments: NO EMPLOYEE FOOD HANDLER TRAINING CERTIFICATES ON PREMISE. INSTRUCTED TO PROVIDE.                                                                                                                                                                                                                                                                                                                                                                                                                                                                                                                                                                                                                                                                                                                                                                                                                                                                                                                                                                                                                                                                                                                                                                                                                                                                                                                                                                                                                                                                                                                                                                                                                                                                                                                                                                                                                                                                                                                                                                                                                                                                                                                                                                                                                                                                                                                                                                                                                                                                                                                                                                                                                                                                                                                                                                                                                                                                                                                                                                                                                                                                                                                                                                                                                                                                                                                                                                                                                                                                                                                                                                                                                                                                                                                                                                                                                                                                                                                                                                                                                                                                                                                                                                                                                                                                                                                                                                                                                                                                                                                                                                                                                                                                                                                                                                                                                                                                                                                                                                                                                                                                                                                                                                                                                                                                                                                                                                                                                                                                                                                                                                                                                                                                                                                                                                                                                                                                                                                                                                                                                                                                                                                                                                                                                                                                                                                                                                                                                                                                                                                                                                                                                                                                                                                                                                                                                                                                                                                                                             2\n",
      "34. FLOORS: CONSTRUCTED PER CODE, CLEANED, GOOD REPAIR, COVING INSTALLED, DUST-LESS CLEANING METHODS USED - Comments: FOUND FLOORS NOT CLEAN AT BASEMENT. MUST CLEAN AND SANITIZE.                                                                                                                                                                                                                                                                                                                                                                                                                                                                                                                                                                                                                                                                                                                                                                                                                                                                                                                                                                                                                                                                                                                                                                                                                                                                                                                                                                                                                                                                                                                                                                                                                                                                                                                                                                                                                                                                                                                                                                                                                                                                                                                                                                                                                                                                                                                                                                                                                                                                                                                                                                                                                                                                                                                                                                                                                                                                                                                                                                                                                                                                                                                                                                                                                                                                                                                                                                                                                                                                                                                                                                                                                                                                                                                                                                                                                                                                                                                                                                                                                                                                                                                                                                                                                                                                                                                                                                                                                                                                                                                                                                                                                                                                                                                                                                                                                                                                                                                                                                                                                                                                                                                                                                                                                                                                                                                                                                                                                                                                                                                                                                                                                                                                                                                                                                                                                                                                                                                                                                                                                                                                                                                                                                                                                                                                                                                                                                                                                                                                                                                                                                                                                                                                                                                                                                                                                                                                                                          2\n",
      "28. * INSPECTION REPORT SUMMARY DISPLAYED AND VISIBLE TO ALL CUSTOMERS - Comments: NO INSPECTION SUMMARY REPORT WAS POSTED ON THE PREMISES.  MANAGEMENT WAS GIVEN A COPY OF TODAY'S INSPECTION SUMMARY REPORT AND WAS INSTRUCTED TO POST IT IN VIEW OF ALL CUSTOMERS.  SERIOUS VIOLATION 7-42-010B.                                                                                                                                                                                                                                                                                                                                                                                                                                                                                                                                                                                                                                                                                                                                                                                                                                                                                                                                                                                                                                                                                                                                                                                                                                                                                                                                                                                                                                                                                                                                                                                                                                                                                                                                                                                                                                                                                                                                                                                                                                                                                                                                                                                                                                                                                                                                                                                                                                                                                                                                                                                                                                                                                                                                                                                                                                                                                                                                                                                                                                                                                                                                                                                                                                                                                                                                                                                                                                                                                                                                                                                                                                                                                                                                                                                                                                                                                                                                                                                                                                                                                                                                                                                                                                                                                                                                                                                                                                                                                                                                                                                                                                                                                                                                                                                                                                                                                                                                                                                                                                                                                                                                                                                                                                                                                                                                                                                                                                                                                                                                                                                                                                                                                                                                                                                                                                                                                                                                                                                                                                                                                                                                                                                                                                                                                                                                                                                                                                                                                                                                                                                                                                                                                                                                                                                         2\n",
      "38. VENTILATION: ROOMS AND EQUIPMENT VENTED AS REQUIRED: PLUMBING: INSTALLED AND MAINTAINED - Comments: EXPOSED HANDWASH SINK IN FOOD PREPARATION AREA IS DRAINING SLOW. MUST REPAIR/MAINTAIN.                                                                                                                                                                                                                                                                                                                                                                                                                                                                                                                                                                                                                                                                                                                                                                                                                                                                                                                                                                                                                                                                                                                                                                                                                                                                                                                                                                                                                                                                                                                                                                                                                                                                                                                                                                                                                                                                                                                                                                                                                                                                                                                                                                                                                                                                                                                                                                                                                                                                                                                                                                                                                                                                                                                                                                                                                                                                                                                                                                                                                                                                                                                                                                                                                                                                                                                                                                                                                                                                                                                                                                                                                                                                                                                                                                                                                                                                                                                                                                                                                                                                                                                                                                                                                                                                                                                                                                                                                                                                                                                                                                                                                                                                                                                                                                                                                                                                                                                                                                                                                                                                                                                                                                                                                                                                                                                                                                                                                                                                                                                                                                                                                                                                                                                                                                                                                                                                                                                                                                                                                                                                                                                                                                                                                                                                                                                                                                                                                                                                                                                                                                                                                                                                                                                                                                                                                                                                                              2\n",
      "38. VENTILATION: ROOMS AND EQUIPMENT VENTED AS REQUIRED: PLUMBING: INSTALLED AND MAINTAINED - Comments: OBSERVED LEAKY FAUCET BASE AT THE REAR 3-COMPARTMENT SINK. MUST REPAIR AND MAINTAIN.                                                                                                                                                                                                                                                                                                                                                                                                                                                                                                                                                                                                                                                                                                                                                                                                                                                                                                                                                                                                                                                                                                                                                                                                                                                                                                                                                                                                                                                                                                                                                                                                                                                                                                                                                                                                                                                                                                                                                                                                                                                                                                                                                                                                                                                                                                                                                                                                                                                                                                                                                                                                                                                                                                                                                                                                                                                                                                                                                                                                                                                                                                                                                                                                                                                                                                                                                                                                                                                                                                                                                                                                                                                                                                                                                                                                                                                                                                                                                                                                                                                                                                                                                                                                                                                                                                                                                                                                                                                                                                                                                                                                                                                                                                                                                                                                                                                                                                                                                                                                                                                                                                                                                                                                                                                                                                                                                                                                                                                                                                                                                                                                                                                                                                                                                                                                                                                                                                                                                                                                                                                                                                                                                                                                                                                                                                                                                                                                                                                                                                                                                                                                                                                                                                                                                                                                                                                                                                2\n",
      "34. FLOORS: CONSTRUCTED PER CODE, CLEANED, GOOD REPAIR, COVING INSTALLED, DUST-LESS CLEANING METHODS USED - Comments: FLOORS NEED CLEANING UNDERNEATH THE COOKING EQUIPMENT TO REMOVE GREASE AND DEBRIS.                                                                                                                                                                                                                                                                                                                                                                                                                                                                                                                                                                                                                                                                                                                                                                                                                                                                                                                                                                                                                                                                                                                                                                                                                                                                                                                                                                                                                                                                                                                                                                                                                                                                                                                                                                                                                                                                                                                                                                                                                                                                                                                                                                                                                                                                                                                                                                                                                                                                                                                                                                                                                                                                                                                                                                                                                                                                                                                                                                                                                                                                                                                                                                                                                                                                                                                                                                                                                                                                                                                                                                                                                                                                                                                                                                                                                                                                                                                                                                                                                                                                                                                                                                                                                                                                                                                                                                                                                                                                                                                                                                                                                                                                                                                                                                                                                                                                                                                                                                                                                                                                                                                                                                                                                                                                                                                                                                                                                                                                                                                                                                                                                                                                                                                                                                                                                                                                                                                                                                                                                                                                                                                                                                                                                                                                                                                                                                                                                                                                                                                                                                                                                                                                                                                                                                                                                                                                                    2\n",
      "30. FOOD IN ORIGINAL CONTAINER, PROPERLY LABELED: CUSTOMER ADVISORY POSTED AS NEEDED - Comments: ALL BULK FOOD CONTAINERS MUST BE LABELED. | 34. FLOORS: CONSTRUCTED PER CODE, CLEANED, GOOD REPAIR, COVING INSTALLED, DUST-LESS CLEANING METHODS USED - Comments: FLOOR OF WALK-IN FREEZER WITH FOOD SPILLAGE. MUST CLEAN AND MAINTAIN. | 38. VENTILATION: ROOMS AND EQUIPMENT VENTED AS REQUIRED: PLUMBING: INSTALLED AND MAINTAINED - Comments: LEAK ON NOZZLE OF THE THREE COMPARTMENT SINK. MUST REPAIR.                                                                                                                                                                                                                                                                                                                                                                                                                                                                                                                                                                                                                                                                                                                                                                                                                                                                                                                                                                                                                                                                                                                                                                                                                                                                                                                                                                                                                                                                                                                                                                                                                                                                                                                                                                                                                                                                                                                                                                                                                                                                                                                                                                                                                                                                                                                                                                                                                                                                                                                                                                                                                                                                                                                                                                                                                                                                                                                                                                                                                                                                                                                                                                                                                                                                                                                                                                                                                                                                                                                                                                                                                                                                                                                                                                                                                                                                                                                                                                                                                                                                                                                                                                                                                                                                                                                                                                                                                                                                                                                                                                                                                                                                                                                                                                                                                                                                                                                                                                                                                                                                                                                                                                                                                                                                                                                                                                                                                                                                                                                                                                                                                                                                                                                                                                                                                                                                                                                                                                                                                                                                                                                                                                                                                                                                                                                                                                                                                                                                                                                                                                               2\n",
      "3. MANAGEMENT, FOOD EMPLOYEE AND CONDITIONAL EMPLOYEE; KNOWLEDGE, RESPONSIBILITIES AND REPORTING - Comments: 2-102.14(N)  FOUND NO EMPLOYEE HEALTH POLICY AT PREMISES. PRIORITY FOUNDATION. NO CITATION ISSUED. 7-38-010. MUST PROVIDE. | 5. PROCEDURES FOR RESPONDING TO VOMITING AND DIARRHEAL EVENTS - Comments: 2-501.11 FOUND NO VOMIT AND DIARRHEA CLEAN UP POLICY.  PRIORITY FOUNDATION. NO CITATION ISSUED.7-38-005. MUST PROVIDE.                                                                                                                                                                                                                                                                                                                                                                                                                                                                                                                                                                                                                                                                                                                                                                                                                                                                                                                                                                                                                                                                                                                                                                                                                                                                                                                                                                                                                                                                                                                                                                                                                                                                                                                                                                                                                                                                                                                                                                                                                                                                                                                                                                                                                                                                                                                                                                                                                                                                                                                                                                                                                                                                                                                                                                                                                                                                                                                                                                                                                                                                                                                                                                                                                                                                                                                                                                                                                                                                                                                                                                                                                                                                                                                                                                                                                                                                                                                                                                                                                                                                                                                                                                                                                                                                                                                                                                                                                                                                                                                                                                                                                                                                                                                                                                                                                                                                                                                                                                                                                                                                                                                                                                                                                                                                                                                                                                                                                                                                                                                                                                                                                                                                                                                                                                                                                                                                                                                                                                                                                                                                                                                                                                                                                                                                                                                                                                                                                                                                                                                                                                                                                                                  2\n",
      "32. FOOD AND NON-FOOD CONTACT SURFACES PROPERLY DESIGNED, CONSTRUCTED AND MAINTAINED - Comments: TORN RUBBER DOOR GASKET ON LEFT TWO DOOR COOLER. MUST REPLACE.                                                                                                                                                                                                                                                                                                                                                                                                                                                                                                                                                                                                                                                                                                                                                                                                                                                                                                                                                                                                                                                                                                                                                                                                                                                                                                                                                                                                                                                                                                                                                                                                                                                                                                                                                                                                                                                                                                                                                                                                                                                                                                                                                                                                                                                                                                                                                                                                                                                                                                                                                                                                                                                                                                                                                                                                                                                                                                                                                                                                                                                                                                                                                                                                                                                                                                                                                                                                                                                                                                                                                                                                                                                                                                                                                                                                                                                                                                                                                                                                                                                                                                                                                                                                                                                                                                                                                                                                                                                                                                                                                                                                                                                                                                                                                                                                                                                                                                                                                                                                                                                                                                                                                                                                                                                                                                                                                                                                                                                                                                                                                                                                                                                                                                                                                                                                                                                                                                                                                                                                                                                                                                                                                                                                                                                                                                                                                                                                                                                                                                                                                                                                                                                                                                                                                                                                                                                                                                                             2\n",
      "31. CLEAN MULTI-USE UTENSILS AND SINGLE SERVICE ARTICLES PROPERLY STORED: NO REUSE OF SINGLE SERVICE ARTICLES - Comments: FOUND FOOD CONTAINERS NOT STORED PROPERLY. MUST STORE INVERTED. | 38. VENTILATION: ROOMS AND EQUIPMENT VENTED AS REQUIRED: PLUMBING: INSTALLED AND MAINTAINED - Comments: FOUND NO BACKFLOW PREVENTION DEVICE AT ICE MACHINE WATERLINE. MUST PROVIDE.                                                                                                                                                                                                                                                                                                                                                                                                                                                                                                                                                                                                                                                                                                                                                                                                                                                                                                                                                                                                                                                                                                                                                                                                                                                                                                                                                                                                                                                                                                                                                                                                                                                                                                                                                                                                                                                                                                                                                                                                                                                                                                                                                                                                                                                                                                                                                                                                                                                                                                                                                                                                                                                                                                                                                                                                                                                                                                                                                                                                                                                                                                                                                                                                                                                                                                                                                                                                                                                                                                                                                                                                                                                                                                                                                                                                                                                                                                                                                                                                                                                                                                                                                                                                                                                                                                                                                                                                                                                                                                                                                                                                                                                                                                                                                                                                                                                                                                                                                                                                                                                                                                                                                                                                                                                                                                                                                                                                                                                                                                                                                                                                                                                                                                                                                                                                                                                                                                                                                                                                                                                                                                                                                                                                                                                                                                                                                                                                                                                                                                                                                                                                                                                                                                             2\n",
      "43. FOOD (ICE) DISPENSING UTENSILS, WASH CLOTHS PROPERLY STORED - Comments: INSTRUCTED TO STORE WIPING CLOTHS IN A SANITIZER SOLUTION IN BETWEEN USE.                                                                                                                                                                                                                                                                                                                                                                                                                                                                                                                                                                                                                                                                                                                                                                                                                                                                                                                                                                                                                                                                                                                                                                                                                                                                                                                                                                                                                                                                                                                                                                                                                                                                                                                                                                                                                                                                                                                                                                                                                                                                                                                                                                                                                                                                                                                                                                                                                                                                                                                                                                                                                                                                                                                                                                                                                                                                                                                                                                                                                                                                                                                                                                                                                                                                                                                                                                                                                                                                                                                                                                                                                                                                                                                                                                                                                                                                                                                                                                                                                                                                                                                                                                                                                                                                                                                                                                                                                                                                                                                                                                                                                                                                                                                                                                                                                                                                                                                                                                                                                                                                                                                                                                                                                                                                                                                                                                                                                                                                                                                                                                                                                                                                                                                                                                                                                                                                                                                                                                                                                                                                                                                                                                                                                                                                                                                                                                                                                                                                                                                                                                                                                                                                                                                                                                                                                                                                                                                                       2\n",
      "40. REFRIGERATION AND METAL STEM THERMOMETERS PROVIDED AND CONSPICUOUS - Comments: MISSING THERMOMETER IN PREP COOLER, INSTRUCTED TO INSTALL.                                                                                                                                                                                                                                                                                                                                                                                                                                                                                                                                                                                                                                                                                                                                                                                                                                                                                                                                                                                                                                                                                                                                                                                                                                                                                                                                                                                                                                                                                                                                                                                                                                                                                                                                                                                                                                                                                                                                                                                                                                                                                                                                                                                                                                                                                                                                                                                                                                                                                                                                                                                                                                                                                                                                                                                                                                                                                                                                                                                                                                                                                                                                                                                                                                                                                                                                                                                                                                                                                                                                                                                                                                                                                                                                                                                                                                                                                                                                                                                                                                                                                                                                                                                                                                                                                                                                                                                                                                                                                                                                                                                                                                                                                                                                                                                                                                                                                                                                                                                                                                                                                                                                                                                                                                                                                                                                                                                                                                                                                                                                                                                                                                                                                                                                                                                                                                                                                                                                                                                                                                                                                                                                                                                                                                                                                                                                                                                                                                                                                                                                                                                                                                                                                                                                                                                                                                                                                                                                               2\n",
      "3. MANAGEMENT, FOOD EMPLOYEE AND CONDITIONAL EMPLOYEE; KNOWLEDGE, RESPONSIBILITIES AND REPORTING - Comments: FOUND NO EMPLOYEE HEALTH POLICY/TRAINING ON SITE. INSTRUCTED FACILITY TO ESTABLISH AN APPROPRIATE EMPLOYEE HEALTH POLICY/TRAINING SYSTEM AND MAINTAIN WITH VERIFIABLE DOCUMENTS ON SITE. PRIORITY FOUNDATION VIOLATION 7-38-012. NO CITATION ISSUED.\\t | 5. PROCEDURES FOR RESPONDING TO VOMITING AND DIARRHEAL EVENTS - Comments: FOUND NO PROCEDURE/PLAN FOR RESPONDING TO VOMITING AND DIARRHEAL EVENTS. INSTRUCTED FACILITY TO DEVELOP AND MAINTAIN A PROCEDURE/PLAN AND TO MAINTAIN ANY APPROPRIATE SUPPLIES ON SITE. PRIORITY FOUNDATION VIOLATION 7-38-005. NO CITATION ISSUED | 23. PROPER DATE MARKING AND DISPOSITION - Comments: OBSERVED NO DATE MARKING SYSTEM IN PLACE. READY TO EAT AND OR TIME TEMPERATURE CONTROLLED FOODS PREPARED AND HELD IN A RETAIL FOOD ESTABLISHMENT FOR OVER 24 HOURS MUST HAVE A CLEARLY MARKED LABELING SYSTEM IN PLACE TO INDICATE THE DATE OR DAY BY WHICH THE FOOD SHALL BE CONSUMED ON PREMISES, SOLD, OR DISCARDED WHEN HELD AT A TEMPERATURE OF 41F OR LESS FOR A MAXIMUM OF 7 DAYS WITH THE DATE OF PREPARTION COUNTING AS DAY 1. PRIORITY FOUNDATION VIOLATION 7-38-005 NO CITATION ISSUED | 58. ALLERGEN TRAINING AS REQUIRED - Comments: OBSERVED NO APPROVED ALLERGEN TRAINING IN ACCORDANCE WITH PA 100-0367 ON SITE. INSTRUCTED ANY PERSONS WITH THE CITY OF CHICAGO FOOD SANITATION CERTIFICATE TO COMPLY WITH ALLERGEN TRAINING AND TO MAINTAIN.                                                                                                                                                                                                                                                                                                                                                                                                                                                                                                                                                                                                                                                                                                                                                                                                                                                                                                                                                                                                                                                                                                                                                                                                                                                                                                                                                                                                                                                                                                                                                                                                                                                                                                                                                                                                                                                                                                                                                                                                                                                                                                                                                                                                                                                                                                                                                                                                                                                                                                                                                                                                                                                                                                                                                                                                                                                                                                                                                                                                                                                                                                                                                                                                                                                                                                                                                                                                                                                                                                                                                                                                                                                                                                                                                                                                                                                                                                                                                                                                                                                                                                                                                                                                                                                                                                                                                                                                                                                                                                                                                                                                                                                                                                                                                                                                                                                                                                                                                                                                                                                                                                                                                                                                                                                                                                                                                                                                                                                                                                                                                                     2\n",
      "31. CLEAN MULTI-USE UTENSILS AND SINGLE SERVICE ARTICLES PROPERLY STORED: NO REUSE OF SINGLE SERVICE ARTICLES - Comments: FOUND FOOD CONTAINERS NOT STORED PROPERLY.(MUST STORE INVERTED) | 41. PREMISES MAINTAINED FREE OF LITTER, UNNECESSARY ARTICLES, CLEANING  EQUIPMENT PROPERLY STORED - Comments: FOUND MOPS AND BROOMS NOT STORED PROPERLY.                                                                                                                                                                                                                                                                                                                                                                                                                                                                                                                                                                                                                                                                                                                                                                                                                                                                                                                                                                                                                                                                                                                                                                                                                                                                                                                                                                                                                                                                                                                                                                                                                                                                                                                                                                                                                                                                                                                                                                                                                                                                                                                                                                                                                                                                                                                                                                                                                                                                                                                                                                                                                                                                                                                                                                                                                                                                                                                                                                                                                                                                                                                                                                                                                                                                                                                                                                                                                                                                                                                                                                                                                                                                                                                                                                                                                                                                                                                                                                                                                                                                                                                                                                                                                                                                                                                                                                                                                                                                                                                                                                                                                                                                                                                                                                                                                                                                                                                                                                                                                                                                                                                                                                                                                                                                                                                                                                                                                                                                                                                                                                                                                                                                                                                                                                                                                                                                                                                                                                                                                                                                                                                                                                                                                                                                                                                                                                                                                                                                                                                                                                                                                                                                                                                                        2\n",
      "45. FOOD HANDLER REQUIREMENTS MET - Comments: MUST PROVIDE ALL FOOD HANDLER'S WITH THEIR ILLINOIS FOOD HANDLER'S CERTIFICATION AT ALL TIMES. MUST PROVIDE FOR THE NEXT ROUTINE INSPECTION.                                                                                                                                                                                                                                                                                                                                                                                                                                                                                                                                                                                                                                                                                                                                                                                                                                                                                                                                                                                                                                                                                                                                                                                                                                                                                                                                                                                                                                                                                                                                                                                                                                                                                                                                                                                                                                                                                                                                                                                                                                                                                                                                                                                                                                                                                                                                                                                                                                                                                                                                                                                                                                                                                                                                                                                                                                                                                                                                                                                                                                                                                                                                                                                                                                                                                                                                                                                                                                                                                                                                                                                                                                                                                                                                                                                                                                                                                                                                                                                                                                                                                                                                                                                                                                                                                                                                                                                                                                                                                                                                                                                                                                                                                                                                                                                                                                                                                                                                                                                                                                                                                                                                                                                                                                                                                                                                                                                                                                                                                                                                                                                                                                                                                                                                                                                                                                                                                                                                                                                                                                                                                                                                                                                                                                                                                                                                                                                                                                                                                                                                                                                                                                                                                                                                                                                                                                                                                                  2\n",
      "3. MANAGEMENT, FOOD EMPLOYEE AND CONDITIONAL EMPLOYEE; KNOWLEDGE, RESPONSIBILITIES AND REPORTING - Comments: NO EMPLOYEE HEALTH POLICY ONSITE. INSTRUCTED TO PROVIDE THE CITY'S HEALTH FORM OR SIMILAR DOCUMENTS USED TO DEMONSTRATE COMPLIANCE. PRIORITY FOUNDATION 7-38-010 NO CITATION ISSUED. | 5. PROCEDURES FOR RESPONDING TO VOMITING AND DIARRHEAL EVENTS - Comments: NO CLEAN UP PROCEDURES ON SITE FOR VOMITING OR DIARRHEA EVENTS. INSTRUCTED TO PROVIDE CLEAN UP KIT AND POST PROCEDURES FOR EMPLOYEES TO FOLLOW. PRIORITY FOUNDATION 7-38-005 NO CITATION ISSUED. | 6. PROPER EATING, TASTING, DRINKING, OR TOBACCO USE - Comments: OBSERVED EMPLOYEES DRINKING IN FRONT & REAR PREP AREAS. INSTRUCTED THAT EMPLOYEE shall eat, drink, only in designated areas where the contamination of exposed FOOD; clean EQUIPMENT, UTENSILS, and LINENS; unwrapped SINGLE-SERVICE and SINGLE-USE ARTICLES; or other items needing protection cannot result. INSTRUCTED TO MAINTAIN. | 22. PROPER COLD HOLDING TEMPERATURES - Comments: OBSERVED 17 LBS OF DELI MEAT IN THE FRONT PREP COOLER AT 54F, VALUED AT $25. MANAGER VOLUNTARILY DISCARDED AND DENATURED MEAT. INSTRUCTED TO HOLD RTE/TCS COLD FOODS AT 41F OR BELOW. PRIORITY VIOLATION 7-38-005 CITATION ISSUED.  | 23. PROPER DATE MARKING AND DISPOSITION - Comments: MUST PROVIDE DATE MARKINGS ON RAW CHICKEN & BEEF STORED IN THE 2-DOOR COOLER IN THE REAR. INSTRUCTED TO PROVIDE CONSUME BY DATE AND MAINTAIN. PRIORITY FOUNDATION 7-38-005. NO CITATION ISSUED. | 48. WAREWASHING FACILITIES: INSTALLED, MAINTAINED & USED; TEST STRIPS - Comments: NO CHLORINE OR QUATERNARY TEST STRIPS ON SITE TO TEST THE CHEMICAL STRENGTH OF THE SANITIZING SOLUTION IN THE 3-COMP SINK. INSTRUCTED TO PROVIDE TEST STRIPS AND KEEP ONSITE AT ALL TIMES. PRIORITY FOUNDATION 7-38-005 CITATION ISSUED. | 50. HOT & COLD WATER AVAILABLE; ADEQUATE PRESSURE | 51. PLUMBING INSTALLED; PROPER BACKFLOW DEVICES - Comments: MUST REPAIR LEAKY STOPPER UNDERNEATH MIDDLE COMPARTMENT OF 3-COMP SINK. INSTRUCTED TO MAINTAIN. | 52. SEWAGE & WASTE WATER PROPERLY DISPOSED - Comments: OBSERVED WASTE WATER COMING UP FROM FLOOR DRAIN IN REAR PREP AREA, WHEN WATER IS RUNNING AT THE HAND SINK IN THE SAID AREA. INSTRUCTED TO CONTACT PLUMBER TO HAVE DRAIN RODDED OR REPAIRED. PRIORITY VIOLATION 7-38-030(C) CITATION ISSUED.  | 55. PHYSICAL FACILITIES INSTALLED, MAINTAINED & CLEAN - Comments: MUST REPAIR NON-WORKING DIPPER WELL ON ICE CREAM COOLER, INSTRUCTED TO CONNECT TO WATER LINE IN ORDER TO WORK PROPERLY. INSTRUCTED TO MAINTAIN.  | 55. PHYSICAL FACILITIES INSTALLED, MAINTAINED & CLEAN - Comments: MUST DETAIL CLEAN DRIED FOOD DEBRIS FROM FLOORS THROUGHOUT PREP AREAS UNDER HEAVY EQUIPMENT AND IN DISH AREA. INSTRUCTED TO MAINTAIN. | 56. ADEQUATE VENTILATION & LIGHTING; DESIGNATED AREAS USED - Comments: MUST REPLACE BURNED OUT LIGHTS IN PREP AREA, INSTRUCTED TO MAINTAIN. | 58. ALLERGEN TRAINING AS REQUIRED - Comments: ALLERGEN TRAINING IS REQUIRED FOR EMPLOYEES THAT HAVE A CITY OF CHICAGO FOOD SANITATION CERTIFICATE. INSTRUCTED TO COMPLETE TRAINING AND KEEP CERTIFICATE ONSITE.                                                                                                                                                                                                                                                                                                                                                                                                                                                                                                                                                                                                                                                                                                                                                                                                                                                                                                                                                                                                                                                                                                                                                                                                                                                                                                                                                                                                                                                                                                                                                                                                                                                                                                                                                                                                                                                                                                                                                                                                                                                                                                                                                                                                                                                                                                                                                                                                                                                                                                                                                                                                                                                                                                                                                                                                                                                                                                                                                                                                                                                                                                                                                                                                                                                                                                                                                                                                                                                                                                                                                                                                                                                                                                                                                                                                                                                                                                    1\n",
      "1. SOURCE SOUND CONDITION, NO SPOILAGE, FOODS PROPERLY LABELED, SHELLFISH TAGS IN PLACE - Comments: OBSERVED FOOD FROM A UNAPPROVED SOURCE SUCH AS AN  ASSORTMENT OF PREPACKAGED CAKES IN COOLER FOR SALE NOT PROPERLY LABELED.NO RECEIPT AND DOCUMENTATION REGARDING THE SOURCE OF FOOD PRODUCT.MUST PROVIDE AND KEEP RECEIPT FROM APPROVED SOURCE.PRODUCT WAS DUMPED AND DENATURED BY MANAGER.APPX 10LBS. $30. (CRITICAL 7-38-005B). | 12. HAND WASHING FACILITIES: WITH SOAP AND SANITARY HAND DRYING DEVICES, CONVENIENT AND ACCESSIBLE TO FOOD PREP AREA - Comments: OBSERVED NO PAPER TOWELS AT HAND SINKS IN BOTH PREP AREAS AND TOILET ROOM WHILE FOOD IS BEING PREPARED,HANDLED AND SERVED.MANAGER SENT EMPLOYEE TO STORE TO PURCHASE TOWELS DURING INSPECTION.(CRITICAL 7-38-030). | 18. NO EVIDENCE OF RODENT OR INSECT OUTER OPENINGS PROTECTED/RODENT PROOFED, A WRITTEN LOG SHALL BE MAINTAINED AVAILABLE TO THE INSPECTORS - Comments: OBSERVED EVIDENCE OF MORE THAN 75 RODENT DROPPINGS SCATTERED IN VARIOUS AREAS SUCH AS ALONG WALL BASES OF ALL EQUIPMENT,COOLERS,SHELVING UNITS,ON TOP OF GREASE TRAP,TOILET ROOM.ALSO FRONT AND REAR DOORS NOT TIGHT FITTING.ALSO MORE THAN 15 SMALL FLIES ON WALLS ,CEILINGS,FLYING AROUND PREMISES.MUST REMOVE DROPPINGS,CLEAN AND SANITIZE AREAS.RODENT PROOF DOORS.RECOMMENDED TO HAVE A PEST CONTROL OPERATOR TO SERVICE PREMISES ON OR AFTER 10/28/14.(SERIOUS 7-38-020). | 30. FOOD IN ORIGINAL CONTAINER, PROPERLY LABELED: CUSTOMER ADVISORY POSTED AS NEEDED - Comments: MUST LABEL BULK FOOD STORAGE CONTAINERS. | 31. CLEAN MULTI-USE UTENSILS AND SINGLE SERVICE ARTICLES PROPERLY STORED: NO REUSE OF SINGLE SERVICE ARTICLES - Comments: MUST STORE PLASTIC WEAR PROPERLY. | 32. FOOD AND NON-FOOD CONTACT SURFACES PROPERLY DESIGNED, CONSTRUCTED AND MAINTAINED - Comments: MUST REMOVE FOIL FROM LOWER SHELF OF PREP TABLE.MUST REPAIR OR REPLACE CRACKED LID ON BULK FOOD STORAGE CONTAINER,BROKEN TOILET SEAT. | 33. FOOD AND NON-FOOD CONTACT EQUIPMENT UTENSILS CLEAN, FREE OF ABRASIVE DETERGENTS - Comments: MUST CLEAN GREASE AND FOOD DEBRI BUILD UP FROM USED AND UNUSED COOLERS & FREEZERS,FRYERS,GREASE STRAINER,ROLLING CART,GRILL TABLE,GLASS ON PREMISES,GARBAGE CANS. | 34. FLOORS: CONSTRUCTED PER CODE, CLEANED, GOOD REPAIR, COVING INSTALLED, DUST-LESS CLEANING METHODS USED - Comments: MUST CLEAN FOOD DEBRI FROM FLOOR THROUGHOUT.MUST REPAIR OR REPLACE MISSING AND DAMAGED FLOOR TILES THROUGHOUT INCLUDING IN TOILET ROOM. | 35. WALLS, CEILINGS, ATTACHED EQUIPMENT CONSTRUCTED PER CODE: GOOD REPAIR, SURFACES CLEAN AND DUST-LESS CLEANING METHODS - Comments: MUST CLEAN GREASE AND FOOD DEBRI FROM FILTERS,HOOD,LIGHT SHIELDS AT COOKING EQUIPMENT.MUST REPAIR OR REPLACE HOLE IN WALL .MUST CLEAN WALLS THROUGHOUT.MUST SCRAPE AND PAINT PEELING PAINT ON WALLS WHERE NEEDED. | 36. LIGHTING: REQUIRED MINIMUM FOOT-CANDLES OF LIGHT PROVIDED, FIXTURES SHIELDED - Comments: MUST PROVIDE LIGHT SHIELDS OR SHATTER PROOF BULBS IN DISH WASHING AREA | 38. VENTILATION: ROOMS AND EQUIPMENT VENTED AS REQUIRED: PLUMBING: INSTALLED AND MAINTAINED - Comments: MUST PROVIDE A BACK FLOW DEVICE ON MOP SINK AND SINK STOPPER FOR 3- COMP SINK.MUST REPAIR OR REPLACE SLOW DRAIN AT HAND SINK IN PREP AREA.MUST CLEAN DUST BUILD UP ON VENT IN TOILET ROOM. | 40. REFRIGERATION AND METAL STEM THERMOMETERS PROVIDED AND CONSPICUOUS - Comments: MUST PROVIDE PROBE THERMOMETER FOR FOOD TEMPS AND ALL COOLERS. | 41. PREMISES MAINTAINED FREE OF LITTER, UNNECESSARY ARTICLES, CLEANING  EQUIPMENT PROPERLY STORED - Comments: MUST REMOVE,ELEVATE,ORGANIZE ARTICLES OFF OF FLOOR AND AWAY FROM WALLS IN PREP AREAS,DISH WASHING AREA (TIRES,LADDERS,DAMAGED DOORS,ETC),SERVICE COUNTER. | 42. APPROPRIATE METHOD OF HANDLING OF FOOD (ICE) HAIR RESTRAINTS AND CLEAN APPAREL WORN - Comments: MUST PROVIDE HAIR RESTRAINTS FOR FOOD HANDLERS. | 44. ONLY AUTHORIZED PERSONNEL IN THE FOOD-PREP AREA - Comments: OBSERVED 6 UNAUTHORIZED PERSONNEL IN FOOD PREP AREA.ONLY AUTHORIZED EMPLOYEES ALLOWED.                                                                                                                                                                                                                                                                                                                                                                                                                                                                                                                                                                                                                                                                                                                                                                                                                                                                                                                                                                                                                                                                                                                                                                                                                                                                                                                                                                                                                                                                                                                                                                                                                                                                                                                                                                                                                                                                                                                                                                                                                                                                                                                                                                                                                                                                                                                                                                                                                                                                                                                                                                                                                                                                                                                                                                                                                                                                                                                                                                               1\n",
      "31. CLEAN MULTI-USE UTENSILS AND SINGLE SERVICE ARTICLES PROPERLY STORED: NO REUSE OF SINGLE SERVICE ARTICLES - Comments: OBSERVED KNIVES IMPROPERLY STORED BEHIND THE FRONT COUNTER.  MUST STORE KNIVES WITH HANDLES UP TO PREVENT CONTAMINATION BY HANDS. | 33. FOOD AND NON-FOOD CONTACT EQUIPMENT UTENSILS CLEAN, FREE OF ABRASIVE DETERGENTS - Comments: DETAIL CLEAN THE INTERIOR OF THE DEEP FRYERS TO REMOVE ENCRUSTED GREASE.                                                                                                                                                                                                                                                                                                                                                                                                                                                                                                                                                                                                                                                                                                                                                                                                                                                                                                                                                                                                                                                                                                                                                                                                                                                                                                                                                                                                                                                                                                                                                                                                                                                                                                                                                                                                                                                                                                                                                                                                                                                                                                                                                                                                                                                                                                                                                                                                                                                                                                                                                                                                                                                                                                                                                                                                                                                                                                                                                                                                                                                                                                                                                                                                                                                                                                                                                                                                                                                                                                                                                                                                                                                                                                                                                                                                                                                                                                                                                                                                                                                                                                                                                                                                                                                                                                                                                                                                                                                                                                                                                                                                                                                                                                                                                                                                                                                                                                                                                                                                                                                                                                                                                                                                                                                                                                                                                                                                                                                                                                                                                                                                                                                                                                                                                                                                                                                                                                                                                                                                                                                                                                                                                                                                                                                                                                                                                                                                                                                                                                                                                                                                                                                      1\n",
      "2. FACILITIES TO MAINTAIN PROPER TEMPERATURE - Comments: NOTED TEMPERATURE OF SERVICE COOLER AT THE KITCHEN FOOD PREP AREA TO BE IMPROPER AT 57.1F. INSTRUCTED NOT TO USE COOLER UNTIL PROPER TEMPERATURE OF 40F OR BELOW IS ATTAINED. EQUIPMENT TAGGED AND HELD FOR INSPECTION. PREMISES HAS OTHER COOLERS MAINTAINING PROPER TEMPERATURE OF 38.6F.  CITATION ISSUED FOR CRITICAL VIOLATION #7-38-005(A) | 3. POTENTIALLY HAZARDOUS FOOD MEETS TEMPERATURE REQUIREMENT DURING STORAGE, PREPARATION DISPLAY AND SERVICE - Comments: NOTED INTERNAL TEMPERATURE OF THE FOLLOWING POTENTIALLY HAZARDOUS FOOD ITEMS ON PREP TABLE AND INSIDE SERVICE COOLER ALL AT THE KITCHEN PREP AREA AT IMPROPER TEMPERATURES BETWEEN 51F TO 123F, (PORK 94.9F, BEEF TONGUE 123.9F,SLICED TOMATOES 52.4F, CHEESE 51.1F, TOMATO SAUCE 52.3F. MANAGER IMMEDIATELY AND VOLUNTARILY DISPOSED OF PRODUCTS 39LBS WORTH $101.00 THROUGH DENATURING PROCESS.INSTRUCTED TO ALWAY MONITOR FOOD TEMPERATURES AT ALL TIMES.  CITATION ISSUED FOR CRITICAL VIOLATION #7-38-005(A) | 18. NO EVIDENCE OF RODENT OR INSECT OUTER OPENINGS PROTECTED/RODENT PROOFED, A WRITTEN LOG SHALL BE MAINTAINED AVAILABLE TO THE INSPECTORS - Comments: NOTED SOME LIVE ROACHES UNDERNEATH UPRIGHT REFRIGERATION UNIT AT THE KITCHEN FOOD PREP AREA AND SOME MICE DROPPINGS ON SHELVING UNDERNEATH PREP TABLE AT THE SAME. INSTRUCTED TO CLEAN AND SANITIZE AFFECTED AREA. ALSO INSTRUCTED TO CONTACT PEST CONTROL COMPANY FOR CONSULTATION.  CITATION ISSUED FOR SERIOUS VIOLATION #7-38-020 | 24. DISH WASHING FACILITIES: PROPERLY DESIGNED, CONSTRUCTED, MAINTAINED, INSTALLED, LOCATED AND OPERATED - Comments: NOTED WASTE WATER AT THE 3 COMPARTMENT SINK BACKING UP INTO THE SINKS WITH FOOD PARTICLES AND DEBRIS. INSTRUCTED TO MONITOR AND MAINTAIN AT ALL TIMES.  CITATION ISSUED FOR VIOLATION #7-38-030 | 32. FOOD AND NON-FOOD CONTACT SURFACES PROPERLY DESIGNED, CONSTRUCTED AND MAINTAINED - Comments: NOTED PEELING PAINT AND RUST ON SHELVES BY THE UPRIGHT COOLER AT THE KITCHEN FOOD PREP AREA. INSTRUCTED TO REPAINT OR REPLACE AND MAINTAIN AT ALL TIMES. | 33. FOOD AND NON-FOOD CONTACT EQUIPMENT UTENSILS CLEAN, FREE OF ABRASIVE DETERGENTS - Comments: INSTRUCTED TO DETAIL CLEANS SHELVES UNDERNEATH PREP TABLES AT THE KITCHEN AND MAINTAIN FREE OF DIRT AND FOOD PARTICLES. | 38. VENTILATION: ROOMS AND EQUIPMENT VENTED AS REQUIRED: PLUMBING: INSTALLED AND MAINTAINED - Comments: NOTED LEAKING FAUCET AT THE EXPOSED HAND WASH SINK OF THE FRONT PREP AREA. INSTRUCTED TO REPAIR AND MAINTAIN. ALSO INSTRUCTED TO CLEAN FANS INSIDE UPRIGHT COOLERS AND MAINTAIN FREE OF DUST PARTICLES.                                                                                                                                                                                                                                                                                                                                                                                                                                                                                                                                                                                                                                                                                                                                                                                                                                                                                                                                                                                                                                                                                                                                                                                                                                                                                                                                                                                                                                                                                                                                                                                                                                                                                                                                                                                                                                                                                                                                                                                                                                                                                                                                                                                                                                                                                                                                                                                                                                                                                                                                                                                                                                                                                                                                                                                                                                                                                                                                                                                                                                                                                                                                                                                                                                                                                                                                                                                                                                                                                                                                                                                                                                                                                                                                                                                                                                                                                                                                                                                                                                                                                                                                                                                                                                                                                                                                                                                                         1\n",
      "30. FOOD IN ORIGINAL CONTAINER, PROPERLY LABELED: CUSTOMER ADVISORY POSTED AS NEEDED - Comments: CUSTOMER ADVISORY NOT POSTED ( RAW OYSTERS SERVED ), INSTRUCTED TO POST IN A CLEAR VIEW TO CUSTOMERS. | 36. LIGHTING: REQUIRED MINIMUM FOOT-CANDLES OF LIGHT PROVIDED, FIXTURES SHIELDED - Comments: ONE LIGHT FIXTURE IN KITCHEN MISSING A SHIELD, INSTRUCTED TO INSTALL.  | 42. APPROPRIATE METHOD OF HANDLING OF FOOD (ICE) HAIR RESTRAINTS AND CLEAN APPAREL WORN - Comments: ICE SCOOP STORED ON ICE CUBES, INSTRUCTED TO STORE  IN A CLEAN CONTAINER OFF CUBES.                                                                                                                                                                                                                                                                                                                                                                                                                                                                                                                                                                                                                                                                                                                                                                                                                                                                                                                                                                                                                                                                                                                                                                                                                                                                                                                                                                                                                                                                                                                                                                                                                                                                                                                                                                                                                                                                                                                                                                                                                                                                                                                                                                                                                                                                                                                                                                                                                                                                                                                                                                                                                                                                                                                                                                                                                                                                                                                                                                                                                                                                                                                                                                                                                                                                                                                                                                                                                                                                                                                                                                                                                                                                                                                                                                                                                                                                                                                                                                                                                                                                                                                                                                                                                                                                                                                                                                                                                                                                                                                                                                                                                                                                                                                                                                                                                                                                                                                                                                                                                                                                                                                                                                                                                                                                                                                                                                                                                                                                                                                                                                                                                                                                                                                                                                                                                                                                                                                                                                                                                                                                                                                                                                                                                                                                                                                                                                                                                                                                                                                      1\n",
      "32. FOOD AND NON-FOOD CONTACT SURFACES PROPERLY DESIGNED, CONSTRUCTED AND MAINTAINED - Comments: CLEAN AND MAINTAIN CAN OPENER BLADE AT PREP TABLE IN BASEMENT. | 34. FLOORS: CONSTRUCTED PER CODE, CLEANED, GOOD REPAIR, COVING INSTALLED, DUST-LESS CLEANING METHODS USED - Comments: CLEAN FLOOR IN WALK-IN COOLER WHERE BEER AND WINE LOCATED.  CLEAN FLOOR DRAIN UNDER DISHMACHINE. | 35. WALLS, CEILINGS, ATTACHED EQUIPMENT CONSTRUCTED PER CODE: GOOD REPAIR, SURFACES CLEAN AND DUST-LESS CLEANING METHODS - Comments: CLEAN LOWER WALL BEHIND/UNDER DISHMACHINE.  REMOVE DUST FROM VENTILATION FAN ON CEILING OF MENS WASHROOM ON FIRST FLOOR.                                                                                                                                                                                                                                                                                                                                                                                                                                                                                                                                                                                                                                                                                                                                                                                                                                                                                                                                                                                                                                                                                                                                                                                                                                                                                                                                                                                                                                                                                                                                                                                                                                                                                                                                                                                                                                                                                                                                                                                                                                                                                                                                                                                                                                                                                                                                                                                                                                                                                                                                                                                                                                                                                                                                                                                                                                                                                                                                                                                                                                                                                                                                                                                                                                                                                                                                                                                                                                                                                                                                                                                                                                                                                                                                                                                                                                                                                                                                                                                                                                                                                                                                                                                                                                                                                                                                                                                                                                                                                                                                                                                                                                                                                                                                                                                                                                                                                                                                                                                                                                                                                                                                                                                                                                                                                                                                                                                                                                                                                                                                                                                                                                                                                                                                                                                                                                                                                                                                                                                                                                                                                                                                                                                                                                                                                                                                                                                                                                    1\n",
      "                                                                                                                                                                                                                                                                                                                                                                                                                                                                                                                                                                                                                                                                                                                                                                                                                                                                                                                                                                                                                                                                                                                                                                                                                                                                                                                                                                                                                                                                                                                                                                                                                                                                                                                                                                                                                                                                                                                                                                                                                                                                                                                                                                                                                                                                                                                                                                                                                                                                                                                                                                                                                                                                                                                                                                                                                                                                                                                                                                                                                                                                                                                                                                                                                                                                                                                                                                                                                                                                                                                                                                                                                                                                                                                                                                                                                                                                                                                                                                                                                                                                                                                                                                                                                                                                                                                                                                                                                                                                                                                                                                                                                                                                                                                                                                                                                                                                                                                                                                                                                                                                                                                                                                                                                                                                                                                                                                                                                                                                                                                                                                                                                                                                                                                                                                                                                                                                                                                                                                                                                                                                                                                                                                                                                                                                                                                                                                                                                                                                                                                                                                                                                                                                                                                                                                                                                                                                                                                                                                                                                                                                                         ... \n",
      "34. FLOORS: CONSTRUCTED PER CODE, CLEANED, GOOD REPAIR, COVING INSTALLED, DUST-LESS CLEANING METHODS USED - Comments: CLEAN FLOOR ALONG STAIRWAY LEADING TO BASEMENT(FOOD DEBRIS). | 38. VENTILATION: ROOMS AND EQUIPMENT VENTED AS REQUIRED: PLUMBING: INSTALLED AND MAINTAINED - Comments: PROVIDE ADEQUATE STOPPERS FOR 3-COMPARTMENT SINK. | 41. PREMISES MAINTAINED FREE OF LITTER, UNNECESSARY ARTICLES, CLEANING  EQUIPMENT PROPERLY STORED - Comments: ELEVATE ALL STOCK OFF FLOOR AND REMOVE UNUSED EQUIPMENT/ARTICLES IN REAR STORAGE AREA.                                                                                                                                                                                                                                                                                                                                                                                                                                                                                                                                                                                                                                                                                                                                                                                                                                                                                                                                                                                                                                                                                                                                                                                                                                                                                                                                                                                                                                                                                                                                                                                                                                                                                                                                                                                                                                                                                                                                                                                                                                                                                                                                                                                                                                                                                                                                                                                                                                                                                                                                                                                                                                                                                                                                                                                                                                                                                                                                                                                                                                                                                                                                                                                                                                                                                                                                                                                                                                                                                                                                                                                                                                                                                                                                                                                                                                                                                                                                                                                                                                                                                                                                                                                                                                                                                                                                                                                                                                                                                                                                                                                                                                                                                                                                                                                                                                                                                                                                                                                                                                                                                                                                                                                                                                                                                                                                                                                                                                                                                                                                                                                                                                                                                                                                                                                                                                                                                                                                                                                                                                                                                                                                                                                                                                                                                                                                                                                                                                                                                                                                       1\n",
      "3. MANAGEMENT, FOOD EMPLOYEE AND CONDITIONAL EMPLOYEE; KNOWLEDGE, RESPONSIBILITIES AND REPORTING - Comments: NOTED NO EMPLOYEE HEALTH POLICY ON SITE AT THE TIME OF INSPECTION FOLLOWING THE NEW CODE AND GUIDELINES. INSTRUCTED TO HAVE VERIFICATION OF POLICY FOR EACH EMPLOYEE ONE ON SITE AT ALL TIMES. PRIORITY FOUNDATION #7-38-012(A). NO CITATION ISSUED TODAY  | 5. PROCEDURES FOR RESPONDING TO VOMITING AND DIARRHEAL EVENTS - Comments: MANAGEMENT UNABLE TO PROVIDE A PROCEDURE FOR CLEANING UP VOMITING AND DIARRHEA.INSTRUCTED TO HAVE ONE INCLUDING THE CHEMICALS NEEDED. PRIORITY FOUNDATION #7-38-005. NO CITATION ISSUED | 16. FOOD-CONTACT SURFACES: CLEANED & SANITIZED - Comments: NOTED SLIGHT DISCOLORATION INSIDE THE INNER LINING OF ICE MACHINE.INSTRUCTED TO CLEAN, SANITIZE AND MAINTAIN | 23. PROPER DATE MARKING AND DISPOSITION - Comments: NOTED TEMPERATURE CONTROLLED FOR SAFETY FOOD ITEMS INSIDE WALK IN COOLER AND SERVICE PREP COOLER NOT PROPERLY LABELED. INSTRUCTED TO PROPERLY LABEL ALL READY TO EAT FOOD ITEMS WITH PRODUCT NAME AND USED BY DATE. PRIORITY FOUNDATION #7-38-005(A). NO CITATION ISSUED TODAY. | 25. CONSUMER ADVISORY PROVIDED FOR RAW/UNDERCOOKED FOOD - Comments: NOTED ESTABLISHMENT SERVING UNDERCOOKED FOOD ITEMS (HAMBURGERS) WITH NO CONSUMER ADVISORY, DISCLOSURE OR REMINDERS TO THE CUSTOMERS. INSTRUCTED TO HAVE A CONSUMER ADVISORY ON THE MENU WITH A DISCLOSURE NOTICE AND REMINDER STATEMENT. PRIORITY FOUNDATION #7-38-005. NO CITATION ISSUED TODAY | 55. PHYSICAL FACILITIES INSTALLED, MAINTAINED & CLEAN - Comments: INSTRUCTED TO CLEAN AND MAINTAIN FLOORS ALONG WALL BASE AND UNDERNEATH EQUIPMENT ESPECIALLY AT THE ICE MACHINE ROOM, KITCHEN PREP AREA INCLUDING THE UTILITY SINK CLOSET, BEER WALK IN COOLER AND BAR. | 55. PHYSICAL FACILITIES INSTALLED, MAINTAINED & CLEAN - Comments: NOTED DIRTY AND HEAVY DUST ACCUMULATION  ON CEILING FAN AND WALLS INSIDE THE BEER WALK IN COOLER. INSTRUCTED TO DETAIL CLEAN AND MAINTAIN. | 56. ADEQUATE VENTILATION & LIGHTING; DESIGNATED AREAS USED - Comments: NOTED EMPLOYEE BELONGINGS ON SHELVES AT THE DRY STORAGE AREA WITH FOOD ITEMS. INSTRUCTED TO PROVIDE A DESIGNATED AREA FOR EMPLOYEES TO STORE THEIR BELONGINGS | 58. ALLERGEN TRAINING AS REQUIRED - Comments: NOTED CERTIFIED FOOD MANAGERS ON DUTY WITH NO ALLERGEN TRAINING CERTIFICATION. INSTRUCTED MANAGEMENT THAT ALL FOOD SERVICE MANAGERS ARE REQUIRED TO HAVE THE ALLERGEN TRAINING CERTIFICATION.                                                                                                                                                                                                                                                                                                                                                                                                                                                                                                                                                                                                                                                                                                                                                                                                                                                                                                                                                                                                                                                                                                                                                                                                                                                                                                                                                                                                                                                                                                                                                                                                                                                                                                                                                                                                                                                                                                                                                                                                                                                                                                                                                                                                                                                                                                                                                                                                                                                                                                                                                                                                                                                                                                                                                                                                                                                                                                                                                                                                                                                                                                                                                                                                                                                                                                                                                                                                                                                                                                                                                                                                                                                                                                                                                                                                                                                                                                                                                                                                                                                                                                                                                                                                                                                                                                                                                                                                                                                                                                                                                                           1\n",
      "33. FOOD AND NON-FOOD CONTACT EQUIPMENT UTENSILS CLEAN, FREE OF ABRASIVE DETERGENTS - Comments: INTERIOR OF KITCHEN TWO DOOR COOLER DIRTY WITH EXCESSIVE GREASE AND FOOD DEBRIS. MUST CLEAN AND MAINTAIN. | 45. FOOD HANDLER REQUIREMENTS MET - Comments: FOOD HANDLER TRAINING REQUIREMENTS NOT MET. NO CERTIFICATES OR PROOF OF TRAINING. MUST HAVE PROOF OF TRAINING FOR ALL EMPLOYEES.                                                                                                                                                                                                                                                                                                                                                                                                                                                                                                                                                                                                                                                                                                                                                                                                                                                                                                                                                                                                                                                                                                                                                                                                                                                                                                                                                                                                                                                                                                                                                                                                                                                                                                                                                                                                                                                                                                                                                                                                                                                                                                                                                                                                                                                                                                                                                                                                                                                                                                                                                                                                                                                                                                                                                                                                                                                                                                                                                                                                                                                                                                                                                                                                                                                                                                                                                                                                                                                                                                                                                                                                                                                                                                                                                                                                                                                                                                                                                                                                                                                                                                                                                                                                                                                                                                                                                                                                                                                                                                                                                                                                                                                                                                                                                                                                                                                                                                                                                                                                                                                                                                                                                                                                                                                                                                                                                                                                                                                                                                                                                                                                                                                                                                                                                                                                                                                                                                                                                                                                                                                                                                                                                                                                                                                                                                                                                                                                                                                                                                                                                                                                                                                                                                  1\n",
      "32. FOOD AND NON-FOOD CONTACT SURFACES PROPERLY DESIGNED, CONSTRUCTED AND MAINTAINED - Comments: INSTRUCTED TO CLEAN AND REPAINT EXTERIOR SURFACE OF GREASE BOX WITH RUST BUILD-UP UNDERNEATH 3 COMPARTMENT SINK.---------MUST DEFROST CHEST FREEZER IN FRONT AREA WITH HEAVY ICE BUILD-UP FOR PROPER DOOR CLOSURE. | 38. VENTILATION: ROOMS AND EQUIPMENT VENTED AS REQUIRED: PLUMBING: INSTALLED AND MAINTAINED - Comments: INSTRUCTED TO REPAIR SLOW DRAINING HAND SINK INSIDE WOMEN'S WASHROOM. | 41. PREMISES MAINTAINED FREE OF LITTER, UNNECESSARY ARTICLES, CLEANING  EQUIPMENT PROPERLY STORED - Comments: INSTRUCTED TO REMOVE UNNECESSARY ARTICLES STORED IN BASEMENT TO PREVENT PEST HARBORAGE. MUST REORGANIZE.                                                                                                                                                                                                                                                                                                                                                                                                                                                                                                                                                                                                                                                                                                                                                                                                                                                                                                                                                                                                                                                                                                                                                                                                                                                                                                                                                                                                                                                                                                                                                                                                                                                                                                                                                                                                                                                                                                                                                                                                                                                                                                                                                                                                                                                                                                                                                                                                                                                                                                                                                                                                                                                                                                                                                                                                                                                                                                                                                                                                                                                                                                                                                                                                                                                                                                                                                                                                                                                                                                                                                                                                                                                                                                                                                                                                                                                                                                                                                                                                                                                                                                                                                                                                                                                                                                                                                                                                                                                                                                                                                                                                                                                                                                                                                                                                                                                                                                                                                                                                                                                                                                                                                                                                                                                                                                                                                                                                                                                                                                                                                                                                                                                                                                                                                                                                                                                                                                                                                                                                                                                                                                                                                                                                                                                                                                                                                                1\n",
      "34. FLOORS: CONSTRUCTED PER CODE, CLEANED, GOOD REPAIR, COVING INSTALLED, DUST-LESS CLEANING METHODS USED - Comments: CLEAN FLOOR IN PREP AREA OF FOOD SPILLS. | 41. PREMISES MAINTAINED FREE OF LITTER, UNNECESSARY ARTICLES, CLEANING  EQUIPMENT PROPERLY STORED - Comments: ORGANIZE AND MAINTAIN BSMT. STORAGE AREA, ELEVATE ITEMS 6 INCHES OFF FLOOR.                                                                                                                                                                                                                                                                                                                                                                                                                                                                                                                                                                                                                                                                                                                                                                                                                                                                                                                                                                                                                                                                                                                                                                                                                                                                                                                                                                                                                                                                                                                                                                                                                                                                                                                                                                                                                                                                                                                                                                                                                                                                                                                                                                                                                                                                                                                                                                                                                                                                                                                                                                                                                                                                                                                                                                                                                                                                                                                                                                                                                                                                                                                                                                                                                                                                                                                                                                                                                                                                                                                                                                                                                                                                                                                                                                                                                                                                                                                                                                                                                                                                                                                                                                                                                                                                                                                                                                                                                                                                                                                                                                                                                                                                                                                                                                                                                                                                                                                                                                                                                                                                                                                                                                                                                                                                                                                                                                                                                                                                                                                                                                                                                                                                                                                                                                                                                                                                                                                                                                                                                                                                                                                                                                                                                                                                                                                                                                                                                                                                                                                                                                                                                                                                                                                                  1\n",
      "32. FOOD AND NON-FOOD CONTACT SURFACES PROPERLY DESIGNED, CONSTRUCTED AND MAINTAINED - Comments: MUST INSTALL A SPLASH GUARD BETWEEN THE ICE BIN AND METAL DRAIN  BOARD OF THE 3 COMPARTMENT SINK AND THE EXPOSED HAND SINK  BEHIND THE BAR. MUST INSTALL A DIVIDER BETWEEN THE SODA TUBING INSIDE THE ICE BIN AND THE CONSUMABLE ICE OR PROVIDE A CONTAINER FOR THE CONSUMABLE ICE. | 33. FOOD AND NON-FOOD CONTACT EQUIPMENT UTENSILS CLEAN, FREE OF ABRASIVE DETERGENTS - Comments: INSTRUCTED TO CLEAN AND SANITIZE THE INTERIOR OF THE MICROWAVE AND INTERIOR PANEL OF THE ICE MACHINE AND MAINTAIN. | 34. FLOORS: CONSTRUCTED PER CODE, CLEANED, GOOD REPAIR, COVING INSTALLED, DUST-LESS CLEANING METHODS USED - Comments: FLOOR THRU-OUT THE REAR STORAGE ROOM AND THE FURNACE ROOM NEEDS DETAIL CLEANING AND MUST DRY THE FLOOR TO PREVENT INSECTS HARBORAGE. MISSING FLOOR TILES IN THE FRONT ENTRANCE DOOR. MUST REPAIR/REPLACE. | 35. WALLS, CEILINGS, ATTACHED EQUIPMENT CONSTRUCTED PER CODE: GOOD REPAIR, SURFACES CLEAN AND DUST-LESS CLEANING METHODS - Comments: WALL VENT IN THE STORAGE ROOM, ,VENT INSIDE THE LADIES WASHROOM,WITH DUST ACCUMULATED. INSTRUCTED TO CLEAN AND MAINTAIN. WALLS ON THE HALLWAY GOING TO THE WASHROOM WITH PEELING PAINT. MUST SCRAPE PEELING PAINT AND REPAINT. | 36. LIGHTING: REQUIRED MINIMUM FOOT-CANDLES OF LIGHT PROVIDED, FIXTURES SHIELDED - Comments: BURNED OUT LIGHT BULB ON THE HOOD. MUST REPLACE. | 38. VENTILATION: ROOMS AND EQUIPMENT VENTED AS REQUIRED: PLUMBING: INSTALLED AND MAINTAINED - Comments: MISSING DRAIN STOPPERS FOR THE 3 COMPARTMENT SINK IN THE KITCHEN. MUST PROVIDE                                                                                                                                                                                                                                                                                                                                                                                                                                                                                                                                                                                                                                                                                                                                                                                                                                                                                                                                                                                                                                                                                                                                                                                                                                                                                                                                                                                                                                                                                                                                                                                                                                                                                                                                                                                                                                                                                                                                                                                                                                                                                                                                                                                                                                                                                                                                                                                                                                                                                                                                                                                                                                                                                                                                                                                                                                                                                                                                                                                                                                                                                                                                                                                                                                                                                                                                                                                                                                                                                                                                                                                                                                                                                                                                                                                                                                                                                                                                                                                                                                                                                                                                                                                                                                                                                                                                                                                                                                                                                                                                                                                                                                                                                                                                                                                                                                                                                                                                                                                                                                                                                                                                                                                                                                                                                                                                                                                                                                  1\n",
      "21. * CERTIFIED FOOD MANAGER ON SITE WHEN POTENTIALLY HAZARDOUS FOODS ARE  PREPARED AND SERVED - Comments: NO FOOD CERTIFIED MANAGER ON DUTY WITH A CITY OF CHICAGO SANITATION CERTIFICATE, POSTED OR AVAILABLE WHILE POTENTIALLY HAZARDOUS FOODS ARE COOKED AND SERVED, AT THIS TIME OF INSPECTION, INSTRUCTED TO ENROLL IN A CLASS, AND HAVE PROOF OF ENROLLMENT, AND A CERTIFIED MANAGER MUST BE ON DUTY AT ALL TIMES FOODS ARE COOKED, PREPARED AND SERVED,     SERIOUS CITATION ISSUED: 7-38-012 | 24. DISH WASHING FACILITIES: PROPERLY DESIGNED, CONSTRUCTED, MAINTAINED, INSTALLED, LOCATED AND OPERATED - Comments: THREE COMPARTMENT SINK IN POOR REPAIR, SLOW DRAINING, BACKING UP IN OTHER SINKS, AND ONE SINK STOPPED UP, INSTRUCTED TO REPAIR, WORKING LOW TEMP DISH MACHINE ON SITE, AND NO THREE SINK STOPPERS, MUST PROVIDE,    SERIOUS CITATION ISSUED: 7-38-030 | 32. FOOD AND NON-FOOD CONTACT SURFACES PROPERLY DESIGNED, CONSTRUCTED AND MAINTAINED - Comments: MUST REPLACE CRACKED GLASS FROM SLIDING DOOR COOLER AND REPAIR GASKETS, DOOR NOT EASY TO CLOSE, | 33. FOOD AND NON-FOOD CONTACT EQUIPMENT UTENSILS CLEAN, FREE OF ABRASIVE DETERGENTS - Comments: THE FOLLOWING NOT CLEAN, INTERIOR AND EXTERIOR SURFACES, MUST CLEAN/SANITIZE; COOLERS, COOKING EQUIPMENT, MICROWAVE OVEN, AND BETWEEN GASKETS OF SLIDING DOOR COOLER, | 34. FLOORS: CONSTRUCTED PER CODE, CLEANED, GOOD REPAIR, COVING INSTALLED, DUST-LESS CLEANING METHODS USED - Comments: MUST CLEAN FLOORS, UNDER, BEHIND EQUIPMENT AT CORNERS AND ALONG WALLS AT FIRST FLOOR PREP AREAS, AND RESTRICT STORING FOODS ON FLOOR, MUST BE 6 INCHES FROM FLOOR, | 35. WALLS, CEILINGS, ATTACHED EQUIPMENT CONSTRUCTED PER CODE: GOOD REPAIR, SURFACES CLEAN AND DUST-LESS CLEANING METHODS - Comments: MUST REPAIR BROKEN WALLS ON THE STAIRWAY GOING TO THE BASEMENT MUST BE BETTER MAINTAINED,    | 36. LIGHTING: REQUIRED MINIMUM FOOT-CANDLES OF LIGHT PROVIDED, FIXTURES SHIELDED - Comments: MUST PROVIDE SHIELDED LIGHTS OR LIGHT SHIELD IN WALK-IN COOLER, AND PROVIDE MORE LIGHT IN BASEMENT, LIGHT TOO DIM, | 37. TOILET ROOM DOORS SELF CLOSING: DRESSING ROOMS WITH LOCKERS PROVIDED: COMPLETE SEPARATION FROM LIVING/SLEEPING QUARTERS - Comments: MUST STORE EMPLOYEES BELONGINGS ON DESIGNATED AREA, NICE AND NEATLY, | 40. REFRIGERATION AND METAL STEM THERMOMETERS PROVIDED AND CONSPICUOUS - Comments: MUST PROVIDE THERMOMETERS INSIDE ALL COOLERS CONSPICUOUSLY,                                                                                                                                                                                                                                                                                                                                                                                                                                                                                                                                                                                                                                                                                                                                                                                                                                                                                                                                                                                                                                                                                                                                                                                                                                                                                                                                                                                                                                                                                                                                                                                                                                                                                                                                                                                                                                                                                                                                                                                                                                                                                                                                                                                                                                                                                                                                                                                                                                                                                                                                                                                                                                                                                                                                                                                                                                                                                                                                                                                                                                                                                                                                                                                                                                                                                                                                                                                                                                                                                                                                                                                                                                                                                                                                                                                                                                                                                                                                                                                                                                                                                                                                                                                                                                                                                                                                                                                                                                                                                                                                                                                                              1\n",
      "18. NO EVIDENCE OF RODENT OR INSECT OUTER OPENINGS PROTECTED/RODENT PROOFED, A WRITTEN LOG SHALL BE MAINTAINED AVAILABLE TO THE INSPECTORS - Comments: FOUND EIGHTY MOUSE DROPPINGS IN THE PRIVATE KITCHEN USED BY RYBAS IN  THE EAST BUILDING ON THE FLOOR AROUND AND UNDER EQUIPMENT AND OBSERVED DROPPINGS UNDER A CABINET IN THE STORE OF THE SOUTH BUILDING (2.5) AREA.  INSTRUCTED TO CLEAN ALL AFFECTED AREAS AND TO HAVE PEST CONTROL SERVICE AREAS. SERIOUS VIOLATION 7-38-020. | 33. FOOD AND NON-FOOD CONTACT EQUIPMENT UTENSILS CLEAN, FREE OF ABRASIVE DETERGENTS - Comments: CLEAN INTERIOR BOTTOM OF CABINET IN 2.5 AREA (SOUTH BUILDING). | 34. FLOORS: CONSTRUCTED PER CODE, CLEANED, GOOD REPAIR, COVING INSTALLED, DUST-LESS CLEANING METHODS USED - Comments: CLEAN FLOORS IN SOUTH BUILDING STORE AND EAST PRIVATE KITCHEN.                                                                                                                                                                                                                                                                                                                                                                                                                                                                                                                                                                                                                                                                                                                                                                                                                                                                                                                                                                                                                                                                                                                                                                                                                                                                                                                                                                                                                                                                                                                                                                                                                                                                                                                                                                                                                                                                                                                                                                                                                                                                                                                                                                                                                                                                                                                                                                                                                                                                                                                                                                                                                                                                                                                                                                                                                                                                                                                                                                                                                                                                                                                                                                                                                                                                                                                                                                                                                                                                                                                                                                                                                                                                                                                                                                                                                                                                                                                                                                                                                                                                                                                                                                                                                                                                                                                                                                                                                                                                                                                                                                                                                                                                                                                                                                                                                                                                                                                                                                                                                                                                                                                                                                                                                                                                                                                                                                                                                                                                                                                                                                                                                                                                                                                                                                                                                                                                                                                                                                                                                                                                                                                                                                                                                                            1\n",
      "34. FLOORS: CONSTRUCTED PER CODE, CLEANED, GOOD REPAIR, COVING INSTALLED, DUST-LESS CLEANING METHODS USED - Comments: INSTRUCTED TO DETAIL CLEAN AND MAINTAIN FLOOR WITH DUST AND COFFEE BEANS UNDERNEATH COFFEE DISPENSER CABINET (ACROSS FRONT EXPOSED HAND SINK) BEHIND FRONT SERVICE COUNTER. | 38. VENTILATION: ROOMS AND EQUIPMENT VENTED AS REQUIRED: PLUMBING: INSTALLED AND MAINTAINED - Comments: INSTRUCTED TO PROVIDE VENTILATION INSIDE MEN/WOMEN WASHROOM. | 41. PREMISES MAINTAINED FREE OF LITTER, UNNECESSARY ARTICLES, CLEANING  EQUIPMENT PROPERLY STORED - Comments: INSTRUCTED TO CLEAN AND REMOVE UNNECESSARY ARTICLES STORED ON TOP OF WALK-IN FREEZER IN REAR AREA TO PREVENT PEST HARBORAGE.                                                                                                                                                                                                                                                                                                                                                                                                                                                                                                                                                                                                                                                                                                                                                                                                                                                                                                                                                                                                                                                                                                                                                                                                                                                                                                                                                                                                                                                                                                                                                                                                                                                                                                                                                                                                                                                                                                                                                                                                                                                                                                                                                                                                                                                                                                                                                                                                                                                                                                                                                                                                                                                                                                                                                                                                                                                                                                                                                                                                                                                                                                                                                                                                                                                                                                                                                                                                                                                                                                                                                                                                                                                                                                                                                                                                                                                                                                                                                                                                                                                                                                                                                                                                                                                                                                                                                                                                                                                                                                                                                                                                                                                                                                                                                                                                                                                                                                                                                                                                                                                                                                                                                                                                                                                                                                                                                                                                                                                                                                                                                                                                                                                                                                                                                                                                                                                                                                                                                                                                                                                                                                                                                                                                                                                                                                                                                                       1\n",
      "32. FOOD AND NON-FOOD CONTACT SURFACES PROPERLY DESIGNED, CONSTRUCTED AND MAINTAINED - Comments: REMOVE FOIL FROM PREP WALL AND DISCONTIUNE USING ON WALLS, ALSO REPLACE/REPAIR CUTTING BOARDS, AND MAINTAIN. | 33. FOOD AND NON-FOOD CONTACT EQUIPMENT UTENSILS CLEAN, FREE OF ABRASIVE DETERGENTS - Comments: OBSERVED GREASE BUILD UP ON HEAVY EQUIPMENT, CLEAN EXTERIOR OF ICE MACHINE, INTERIOR OF WALK IN COOLER, AND MAINTAIN. | 34. FLOORS: CONSTRUCTED PER CODE, CLEANED, GOOD REPAIR, COVING INSTALLED, DUST-LESS CLEANING METHODS USED - Comments: OBSERVED BROKEN FLOOR TILE IN FRONT OF WALK IN COOLER, DEBRIS ON FLOORS IN PREP AREA AND FLOORS UNDER HEAVY EQUIPMENT, INSTRUCTED TO CLEAN AND MAINTAIN. | 35. WALLS, CEILINGS, ATTACHED EQUIPMENT CONSTRUCTED PER CODE: GOOD REPAIR, SURFACES CLEAN AND DUST-LESS CLEANING METHODS - Comments: OBSERVED STAINED CEILING TILES IN PREP AREA, DIRTY CEILING VENTS IN TOILET ROOM AND PREP AREA, INSTRUCTED TO CLEAN AND MAINTAIN. | 39. LINEN: CLEAN AND SOILED PROPERLY STORED - Comments: OBSERVED SOILED LINENS THROUGHOUT PREP AREA, INSTRUCTED TO STORE SOILED LINENS IN SANITIZER WHILE NOT IN USE, AND MAINTAIN.                                                                                                                                                                                                                                                                                                                                                                                                                                                                                                                                                                                                                                                                                                                                                                                                                                                                                                                                                                                                                                                                                                                                                                                                                                                                                                                                                                                                                                                                                                                                                                                                                                                                                                                                                                                                                                                                                                                                                                                                                                                                                                                                                                                                                                                                                                                                                                                                                                                                                                                                                                                                                                                                                                                                                                                                                                                                                                                                                                                                                                                                                                                                                                                                                                                                                                                                                                                                                                                                                                                                                                                                                                                                                                                                                                                                                                                                                                                                                                                                                                                                                                                                                                                                                                                                                                                                                                                                                                                                                                                                                                                                                                                                                                                                                                                                                                                                                                                                                                                                                                                                                                                                                                                                                                                                                                                                                                                                                                                                                                                                                                                                                                                                                                                                                                                                                                                                                                        1\n",
      "33. FOOD AND NON-FOOD CONTACT EQUIPMENT UTENSILS CLEAN, FREE OF ABRASIVE DETERGENTS - Comments: CLEAN SODA DISPENSER UNIT AND CABINET TO REMOVE ALL SPILLS.  MUST CLEAN AND MAINTAIN.   | 40. REFRIGERATION AND METAL STEM THERMOMETERS PROVIDED AND CONSPICUOUS - Comments: WALK IN COOLER THERMOMETER IN POOR REPAIR.  MUST REPAIR OR REPLACE    | 45. FOOD HANDLER REQUIREMENTS MET - Comments: NO FOOD HANDLER CERTIFICATES ON SITE AT TIME OF INSPECTION.  MUST PROVIDE AT ALL TIMES.                                                                                                                                                                                                                                                                                                                                                                                                                                                                                                                                                                                                                                                                                                                                                                                                                                                                                                                                                                                                                                                                                                                                                                                                                                                                                                                                                                                                                                                                                                                                                                                                                                                                                                                                                                                                                                                                                                                                                                                                                                                                                                                                                                                                                                                                                                                                                                                                                                                                                                                                                                                                                                                                                                                                                                                                                                                                                                                                                                                                                                                                                                                                                                                                                                                                                                                                                                                                                                                                                                                                                                                                                                                                                                                                                                                                                                                                                                                                                                                                                                                                                                                                                                                                                                                                                                                                                                                                                                                                                                                                                                                                                                                                                                                                                                                                                                                                                                                                                                                                                                                                                                                                                                                                                                                                                                                                                                                                                                                                                                                                                                                                                                                                                                                                                                                                                                                                                                                                                                                                                                                                                                                                                                                                                                                                                                                                                                                                                                                                                                                                                                                                  1\n",
      "16. FOOD PROTECTED DURING STORAGE, PREPARATION, DISPLAY, SERVICE AND TRANSPORTATION - Comments: NOTED BLACK, PINKISH SLIMY SUBSTANCE INSIDE THE UPPER COMPARTMENT OF ICE MACHINE DRIPPING ONTO THE ICE. INSTRUCTED NOT TO USE UNTIL EQUIPMENT IS PROPERLY CLEAN AND SANITIZED. SERIOUS VIOLATION #7-38-005(A) | 19. OUTSIDE GARBAGE WASTE GREASE AND STORAGE AREA; CLEAN, RODENT PROOF, ALL CONTAINERS COVERED - Comments: NOTED OUTSIDE GREASE CONTAINER ENCRUSTED WITH GREASE ON TOP, LID, LIPS AND DRIPPING DOWN THE SIDES ONTO THE GROUND. MANAGER IMMEDIATELY HAD EMPLOYEES START CLEAN THE GREASE CONTAINER. SERIOUS VIOLATION #7-38-020 | 35. WALLS, CEILINGS, ATTACHED EQUIPMENT CONSTRUCTED PER CODE: GOOD REPAIR, SURFACES CLEAN AND DUST-LESS CLEANING METHODS - Comments: NOTED DUST AND DIRT ACCUMULATION ON FANS AT THE DISHWASHER/DRY STORAGE AREA. INSTRUCTED TO CLEAN AND MAINTAIN. | 41. PREMISES MAINTAINED FREE OF LITTER, UNNECESSARY ARTICLES, CLEANING  EQUIPMENT PROPERLY STORED - Comments: NOTED EMPLOYEES BELONGINGS ON SHELF BY THE DISHWASHER/ DRY STORAGE AREA WITH FOOD PRODUCTS AND EQUIPMENT. INSTRUCTED TO REMOVE AND PROVIDE A DESIGNATED AREA FOR EMPLOYEES TO STORE THEIR BELONGINGS.                                                                                                                                                                                                                                                                                                                                                                                                                                                                                                                                                                                                                                                                                                                                                                                                                                                                                                                                                                                                                                                                                                                                                                                                                                                                                                                                                                                                                                                                                                                                                                                                                                                                                                                                                                                                                                                                                                                                                                                                                                                                                                                                                                                                                                                                                                                                                                                                                                                                                                                                                                                                                                                                                                                                                                                                                                                                                                                                                                                                                                                                                                                                                                                                                                                                                                                                                                                                                                                                                                                                                                                                                                                                                                                                                                                                                                                                                                                                                                                                                                                                                                                                                                                                                                                                                                                                                                                                                                                                                                                                                                                                                                                                                                                                                                                                                                                                                                                                                                                                                                                                                                                                                                                                                                                                                                                                                                                                                                                                                                                                                                                                                                                                                                                                                                                                                                                                  1\n",
      "18. NO EVIDENCE OF RODENT OR INSECT OUTER OPENINGS PROTECTED/RODENT PROOFED, A WRITTEN LOG SHALL BE MAINTAINED AVAILABLE TO THE INSPECTORS - Comments: FOUND OVER 60 MICE DROPPINGS SCATTERED THROUGHOUT FACILITY (BASEMENT, REAR STORAGE AREA, BATHROOMS). ALSO OBSERVED AN APPROXIMATE QUARTER INCH GAP ALONG BOTTOM EDGE OF BACK DOOR.  ALSO FOUND 2 DEAD COCKROACHES (WOMEN'S RESTROOM AND BEHIND FRYER) ON PREMISES. INSTRUCTED OWNER TO REPAIR DOOR SO IT IS TIGHT FITTING AND RODENT PROOF AND RECOMMENDED TO CONTACT PEST CONTROL COMPANY FOR A DETAILED SERVICE AND WALK THROUGH WITH OWNER BEFORE FOLLOW UP INSPECTION. SERIOUS CITATION ISSUED 7-38-020. | 29. PREVIOUS MINOR VIOLATION(S) CORRECTED 7-42-090 - Comments: INSPECTION # 1361385 FROM 10-03-13 STATED: 'FLOOR ALONG WALLBASE AND BEHIND EQUIPMENT NO CLEANED. INSTRUCTED TO DETAIL CLEAN DAILY AND REMOVE FOOD DEBRIS.'  UPON INSPECTION NOTED A THICK, BUILT UP LAYER OF FOOD DEBRIS AND GREASE BEHIND ALL EQUIPMENT (SPECIFICALLY BEHIND HOT EQUIPMENT WHERE ONE COCKROACH WAS FOUND). INSTRUCTED OWNER THAT HE IS TO CLEAN FLOORS WALL TO WALL AND CORNER TO CORNER DAILY AND TO MAINTAIN. SERIOUS CITATION ISSUED 7-42-090 | 30. FOOD IN ORIGINAL CONTAINER, PROPERLY LABELED: CUSTOMER ADVISORY POSTED AS NEEDED - Comments: FOUND FOOD ITEMS NOT STORED IN ORIGINAL CONTAINERS BUT IN PLASTIC SHOPPING BAGS. INSTRUCTED THAT ALL FOOD MUST BE STORED IN FOOD GRADE BAGS OR CONTAINERS. | 32. FOOD AND NON-FOOD CONTACT SURFACES PROPERLY DESIGNED, CONSTRUCTED AND MAINTAINED - Comments: FOUND ICE BUILDUP ON CHEST FREEZER. INSTRUCTED TO REMOVE AND MAINTAIN. | 33. FOOD AND NON-FOOD CONTACT EQUIPMENT UTENSILS CLEAN, FREE OF ABRASIVE DETERGENTS - Comments: FOUND DIRT AND GREASE BUILDUP ON COOKING EQUIPMENT. INSTRUCTED TO CLEAN AND MAINTAIN. | 41. PREMISES MAINTAINED FREE OF LITTER, UNNECESSARY ARTICLES, CLEANING  EQUIPMENT PROPERLY STORED - Comments: FOUND CLUTTER AND UNNECESSARY ITEMS STORED IN REAR STORAGE AREA. INSTRUCTED TO REMOVE ALL UNNECESSARY ITEMS, ORGANIZE REMAINING, AND STORE AT LEAST SIX INCHES OFF THE FLOOR.                                                                                                                                                                                                                                                                                                                                                                                                                                                                                                                                                                                                                                                                                                                                                                                                                                                                                                                                                                                                                                                                                                                                                                                                                                                                                                                                                                                                                                                                                                                                                                                                                                                                                                                                                                                                                                                                                                                                                                                                                                                                                                                                                                                                                                                                                                                                                                                                                                                                                                                                                                                                                                                                                                                                                                                                                                                                                                                                                                                                                                                                                                                                                                                                                                                                                                                                                                                                                                                                                                                                                                                                                                                                                                                                                                                                                                                                                                                                                                                                                                                                                                                                                                                                                                                                                                                                                                                                                                                                                                                                                                                                                                                                                                                                                                                                                                                                                                                                                       1\n",
      "32. FOOD AND NON-FOOD CONTACT SURFACES PROPERLY DESIGNED, CONSTRUCTED AND MAINTAINED - Comments: OBSERVED NEWS PAPER USED FOR SHELF LINERS THROUGHOUT THE PREP AREA, INSTRUCTED TO REMOVE.SURFACE MUST BE SMOOTH,CLEANABLE AND NON-ABSORBENT MATERIAL | 35. WALLS, CEILINGS, ATTACHED EQUIPMENT CONSTRUCTED PER CODE: GOOD REPAIR, SURFACES CLEAN AND DUST-LESS CLEANING METHODS - Comments: ACCUMULATION OF DUST ON VENT COVER ABOVE THE WASHROOM DOOR,INSTRUCTED TO CLEAN AND MAINTAIN                                                                                                                                                                                                                                                                                                                                                                                                                                                                                                                                                                                                                                                                                                                                                                                                                                                                                                                                                                                                                                                                                                                                                                                                                                                                                                                                                                                                                                                                                                                                                                                                                                                                                                                                                                                                                                                                                                                                                                                                                                                                                                                                                                                                                                                                                                                                                                                                                                                                                                                                                                                                                                                                                                                                                                                                                                                                                                                                                                                                                                                                                                                                                                                                                                                                                                                                                                                                                                                                                                                                                                                                                                                                                                                                                                                                                                                                                                                                                                                                                                                                                                                                                                                                                                                                                                                                                                                                                                                                                                                                                                                                                                                                                                                                                                                                                                                                                                                                                                                                                                                                                                                                                                                                                                                                                                                                                                                                                                                                                                                                                                                                                                                                                                                                                                                                                                                                                                                                                                                                                                                                                                                                                                                                                                                                                                                                                                                                                                                                                                                                                                                                    1\n",
      "2. FACILITIES TO MAINTAIN PROPER TEMPERATURE - Comments: FACILITIES DO NOT MAINTAIN PROPER TEMPERATURE.  OBSERVED THE 2 DOOR PREP COOLER WITH AN AIR TEMPERATURE OF 56.7F.  THE COOLER WAS USED TO STORE POTENTIALLY HAZARDOUS FOODS SUCH AS CHICKEN AND EGGS.  MANAGEMENT INSTRUCTED TO REPAIR AND MAINTAIN THE COOLER BELOW 40F.  CRITICAL VIOLATION 7-38-005A. | 3. POTENTIALLY HAZARDOUS FOOD MEETS TEMPERATURE REQUIREMENT DURING STORAGE, PREPARATION DISPLAY AND SERVICE - Comments: OBSERVED POTENTIALLY HAZARDOUS FOODS AT IMPROPER TEMPERATURES INSIDE OF THE PREP COOLER.  OBSERVED CHICKEN AT 57.9F, EGGS AT 75.4F, BEEF AT 51.4F.  MANAGEMENT VOLUNTARILY DISCARDED 10# OF FOOD WORTH $110.  CRITICAL VIOLATION 7-38-005A. | 13. NO EVIDENCE OF RODENT OR INSECT INFESTATION, NO BIRDS, TURTLES OR OTHER ANIMALS - Comments: OBSERVED AN INFESTATION OF RODENTS THROUGHOUT THE PREMISES.  OBSERVED MOUSE DROPPINGS TOO NUMEROUS TO COUNT ON THE FLOOR OF THE PREP AREA, WASHROOMS, BASEMENT, FOOD STORAGE SHELVES AND CONTAINERS, INSIDE OF THE OVEN AND ON THE DRIP TRAY BELOW THE STOVE.  ALSO, OBSERVED 6 LIVE COCKROACHES INSIDE OF THE CARDBOARD BOXES ON THE FOOD STORAGE SHELVES.  MANAGEMENT INSTRUCTED TO CLEAN AND REMOVE ALL RODENT DROPPINGS FROM THE PREMISES AND ELIMINATE THE COCKROACH ACTIVITY.  ADDITIONAL PEST CONTROL SERVICE IS NEEDED TO MINIMIZE OR ELIMINATE THE PEST ACTIVITY.  CRITICAL VIOLATION 7-38-020. | 32. FOOD AND NON-FOOD CONTACT SURFACES PROPERLY DESIGNED, CONSTRUCTED AND MAINTAINED - Comments: OBSERVED FOODS STORED IN PLASTIC GROCERY BAGS IN THE COOLERS AND FREEZERS.  MANAGEMENT INSTRUCTED TO USE ONLY FOOD GRADE STORAGE BAGS. | 33. FOOD AND NON-FOOD CONTACT EQUIPMENT UTENSILS CLEAN, FREE OF ABRASIVE DETERGENTS - Comments: DETAIL CLEAN THE COOKING EQUIPMENT THROUGHOUT, VENTILATION HOOD AND FILTERS, INTERIOR OF DEEP FRYERS, DRY STORAGE CONTAINERS, WOK STATION, PREP TABLES, STORAGE SHELVES, FRONT COUNTER. | 34. FLOORS: CONSTRUCTED PER CODE, CLEANED, GOOD REPAIR, COVING INSTALLED, DUST-LESS CLEANING METHODS USED - Comments: DETAIL CLEAN THE FLOOR OF THE FOOD PREP AREA, WASHROOMS AND BASEMENT THROUGHOUT. | 35. WALLS, CEILINGS, ATTACHED EQUIPMENT CONSTRUCTED PER CODE: GOOD REPAIR, SURFACES CLEAN AND DUST-LESS CLEANING METHODS - Comments: REPLACE THE WATER STAINED CEILING TILES IN THE FOOD PREP AREA. | 38. VENTILATION: ROOMS AND EQUIPMENT VENTED AS REQUIRED: PLUMBING: INSTALLED AND MAINTAINED - Comments: REPAIR THE GREASE TRAP IN THE BASEMENT THAT IS ATTACHED TO THE DRAIN LINE FOR THE WOK STATION. | 41. PREMISES MAINTAINED FREE OF LITTER, UNNECESSARY ARTICLES, CLEANING  EQUIPMENT PROPERLY STORED - Comments: ELIMINATE THE CLUTTER FROM THE AREA OUTSIDE OF THE RESTAURANT BACK DOOR AND IN THE BASEMENT AND OUTSIDE OF THE WASHROOMS (PILES OF WOOD) TO ELIMINATE PEST HARBORAGE CONDITIONS.                                                                                                                                                                                                                                                                                                                                                                                                                                                                                                                                                                                                                                                                                                                                                                                                                                                                                                                                                                                                                                                                                                                                                                                                                                                                                                                                                                                                                                                                                                                                                                                                                                                                                                                                                                                                                                                                                                                                                                                                                                                                                                                                                                                                                                                                                                                                                                                                                                                                                                                                                                                                                                                                                                                                                                                                                                                                                                                                                                                                                                                                                                                                                                                                                                                                                                                                                                                                                                                                                                                                                                                                                                                                                                                                                                                                                                                                                                                                                                                                                                                                                                                                                                             1\n",
      "35. WALLS, CEILINGS, ATTACHED EQUIPMENT CONSTRUCTED PER CODE: GOOD REPAIR, SURFACES CLEAN AND DUST-LESS CLEANING METHODS - Comments: WALLS IN REAR NOT CLEAN AND WORN, DISCOLORED SURFACE. INSTD TO CLEAN, PAINT AND MAINTAIN WALLS. | 40. REFRIGERATION AND METAL STEM THERMOMETERS PROVIDED AND CONSPICUOUS - Comments: MISSING THERMOMTER FOR HOT HOLDING UNIT AND METAL STEM THERMOMETERS FOR FOOD HANDLERS. INSTD TO PROVIDE.                                                                                                                                                                                                                                                                                                                                                                                                                                                                                                                                                                                                                                                                                                                                                                                                                                                                                                                                                                                                                                                                                                                                                                                                                                                                                                                                                                                                                                                                                                                                                                                                                                                                                                                                                                                                                                                                                                                                                                                                                                                                                                                                                                                                                                                                                                                                                                                                                                                                                                                                                                                                                                                                                                                                                                                                                                                                                                                                                                                                                                                                                                                                                                                                                                                                                                                                                                                                                                                                                                                                                                                                                                                                                                                                                                                                                                                                                                                                                                                                                                                                                                                                                                                                                                                                                                                                                                                                                                                                                                                                                                                                                                                                                                                                                                                                                                                                                                                                                                                                                                                                                                                                                                                                                                                                                                                                                                                                                                                                                                                                                                                                                                                                                                                                                                                                                                                                                                                                                                                                                                                                                                                                                                                                                                                                                                                                                                                                                                                                                                                                                                                                                                                          1\n",
      "3. MANAGEMENT, FOOD EMPLOYEE AND CONDITIONAL EMPLOYEE; KNOWLEDGE, RESPONSIBILITIES AND REPORTING - Comments: 2-102.14 (A)- OBSERVED NO EMPLOYEE HEALTH POLICY ON SITE. INSTRUCTED FACILITY TO COMPLY AND MAINTAIN. PRIORITY FOUNDATION VIOLATION 7-38-012(A). NO CITATION ISSUED.' | 39. CONTAMINATION PREVENTED DURING FOOD PREPARATION, STORAGE & DISPLAY | 44. UTENSILS, EQUIPMENT & LINENS: PROPERLY STORED, DRIED, & HANDLED - Comments: 4-904.13 (A) (A)- OBSERVED PLATES AND BOWLS UP RIGHT AND STORED ON COUNTER TOP AT SELF SERVICE CONTINENTAL COLD BREAKFAST BAR AT HOMEWOOD SUITES. INFORMED MANAGER THAT UTENSILS MUST BE STORED INVERTED TO PREVENT CONTAMINATION. MAINTAIN AT ALL TIMES.  | 47. FOOD & NON-FOOD CONTACT SURFACES CLEANABLE, PROPERLY DESIGNED, CONSTRUCTED & USED | 49. NON-FOOD/FOOD CONTACT SURFACES CLEAN - Comments: 4-601.11 (C) (C)- OBSERVED EXCESSIVE FOOD AND DEBRIS ON EXTERIOR SURFACE OF GREASE TRAP IN HOME WOOD DISH WASHING AREA. INSTRUCTED MANAGER TO DETAIL CLEAN AND MAINTAIN AT ALL TIMES.  | 58. ALLERGEN TRAINING AS REQUIRED - Comments: PA 100-0367- OBSERVED ALLERGEN AWARENESS CERTIFICATE NOT MAINTAINED. INSTRUCTED MANAGER TO OBTAIN ALLERGEN AWARENESS CERTIFICATES. NO CITATION ISSUED.                                                                                                                                                                                                                                                                                                                                                                                                                                                                                                                                                                                                                                                                                                                                                                                                                                                                                                                                                                                                                                                                                                                                                                                                                                                                                                                                                                                                                                                                                                                                                                                                                                                                                                                                                                                                                                                                                                                                                                                                                                                                                                                                                                                                                                                                                                                                                                                                                                                                                                                                                                                                                                                                                                                                                                                                                                                                                                                                                                                                                                                                                                                                                                                                                                                                                                                                                                                                                                                                                                                                                                                                                                                                                                                                                                                                                                                                                                                                                                                                                                                                                                                                                                                                                                                                                                                                                                                                                                                                                                                                                                                                                                                                                                                                                                                                                                                                                                                                                                                                                                                                                                                                                                                                                                                                                                                                                                                                                                                                                                                                                                                                                                                                                                                                                                                                                                       1\n",
      "21. * CERTIFIED FOOD MANAGER ON SITE WHEN POTENTIALLY HAZARDOUS FOODS ARE  PREPARED AND SERVED - Comments: OBSERVED NO VALID CITY OF CHICAGO FOOD CERTIFICATE POSTED.  PREMISES PREPARE MADE TO ORDER JUICES, SERVE OATMEAL, HEAT SANDWHICHES PER ORDER. SERIOUS VIOLATION 7-38-012. | 28. * INSPECTION REPORT SUMMARY DISPLAYED AND VISIBLE TO ALL CUSTOMERS - Comments: OBSERVED THE LAST INSPECTION SUMMARY REPORT,(NON COMPLIANCE) NOT POSTED FOR VIEW FOR ESTABLISHMENTS CUSTOMERS DATED-12-11-2015,REPORT # 1607230. SERIOUS VIOLATION 7-42-010B. | 34. FLOORS: CONSTRUCTED PER CODE, CLEANED, GOOD REPAIR, COVING INSTALLED, DUST-LESS CLEANING METHODS USED - Comments: FLOORS NEED RE-GROUTING IN FRONT OF ICE MACHINE AND 1- COMP SINK IN REAR. ALSO GAPS/OPENINGS ALONG COVING ALONG SWING REAR DOOR AREA.MUST REPAIR.                                                                                                                                                                                                                                                                                                                                                                                                                                                                                                                                                                                                                                                                                                                                                                                                                                                                                                                                                                                                                                                                                                                                                                                                                                                                                                                                                                                                                                                                                                                                                                                                                                                                                                                                                                                                                                                                                                                                                                                                                                                                                                                                                                                                                                                                                                                                                                                                                                                                                                                                                                                                                                                                                                                                                                                                                                                                                                                                                                                                                                                                                                                                                                                                                                                                                                                                                                                                                                                                                                                                                                                                                                                                                                                                                                                                                                                                                                                                                                                                                                                                                                                                                                                                                                                                                                                                                                                                                                                                                                                                                                                                                                                                                                                                                                                                                                                                                                                                                                                                                                                                                                                                                                                                                                                                                                                                                                                                                                                                                                                                                                                                                                                                                                                                                                                                                                                                                                                                                                                                                                                                                                                                                                                                                                                           1\n",
      "32. FOOD AND NON-FOOD CONTACT SURFACES PROPERLY DESIGNED, CONSTRUCTED AND MAINTAINED - Comments: MUST RESEAL CHIPPING WIRE SHELVES INSIDE REACH-IN COOLER, | 34. FLOORS: CONSTRUCTED PER CODE, CLEANED, GOOD REPAIR, COVING INSTALLED, DUST-LESS CLEANING METHODS USED - Comments: MUST CLEAN FLOOR UNDER AND BEHIND ALL EQUIPMENT,                                                                                                                                                                                                                                                                                                                                                                                                                                                                                                                                                                                                                                                                                                                                                                                                                                                                                                                                                                                                                                                                                                                                                                                                                                                                                                                                                                                                                                                                                                                                                                                                                                                                                                                                                                                                                                                                                                                                                                                                                                                                                                                                                                                                                                                                                                                                                                                                                                                                                                                                                                                                                                                                                                                                                                                                                                                                                                                                                                                                                                                                                                                                                                                                                                                                                                                                                                                                                                                                                                                                                                                                                                                                                                                                                                                                                                                                                                                                                                                                                                                                                                                                                                                                                                                                                                                                                                                                                                                                                                                                                                                                                                                                                                                                                                                                                                                                                                                                                                                                                                                                                                                                                                                                                                                                                                                                                                                                                                                                                                                                                                                                                                                                                                                                                                                                                                                                                                                                                                                                                                                                                                                                                                                                                                                                                                                                                                                                                                                                                                                                                                                                                                                                                                                                                         1\n",
      "3. POTENTIALLY HAZARDOUS FOOD MEETS TEMPERATURE REQUIREMENT DURING STORAGE, PREPARATION DISPLAY AND SERVICE - Comments: NOTED INTERNAL TEMPERATURE OF THE FOLLOWING POTENTIALLY HAZARDOUS FOOD ITEMS AT TOP SERVING LINE COOLER TO BE IMPROPER BETWEEN 46F TO 48F.(ASSORTED CHEESES 47.7F, SLICED TOMATOES 46.0F, HAMBURGER 48.9, STEAK 47.2F). TEMPERATURE OF BOTTOM COOLER AT THE SERVING LINE WAS 34.7F.  MANAGER IMMEDIATELY AND VOLUNTARILY DISPOSED OF PRODUCTS 20LBS WORTH $50 THROUGH DENATURING PROCESS. INSTRUCTED TO MONITOR FOOD TEMPERATURES AND EQUIPMENT AT ALL TIMES.  CITATION ISSUED FOR CRITICAL VIOLATION #7-38-005(A). | 6. HANDS WASHED AND CLEANED, GOOD HYGIENIC PRACTICES; NO BARE HAND CONTACT WITH READY-TO-EAT FOODS. - Comments: NOTED EMPLOYEES AT THE KITCHEN FOOD PREP AREA WASHING HANDS AT THE 3 COMPARTMENT SINK WITH NO SOAP. INSTRUCTED TO ALWAYS HAND HANDS AT THE EXPOSED HAND WASH SINK WITH SOAP AND PAPER TOWELS AND NOT TO USE 3 COMPARTMENT SINK FOR HAND WASHING.  CITATION ISSUED FOR CRITICAL VIOLATION #7-38-010(A) | 16. FOOD PROTECTED DURING STORAGE, PREPARATION, DISPLAY, SERVICE AND TRANSPORTATION - Comments: NOTED GRAYISH,YELLOWISH SLIMY SUBSTANCE ON THE INNER LINING OF ICE MACHINE AND ALSO AT THE UPPER COMPARTMENT OF ICE MAKER DRIPPING UNTO THE ICE. INSTRUCTED NOT TO USE MACHINE UNTIL ITS PROPERLY WASHED, CLEANED AND SANITIZED.  CITATION ISSUED FOR SERIOUS VIOLATION #7-38-005(A) | 18. NO EVIDENCE OF RODENT OR INSECT OUTER OPENINGS PROTECTED/RODENT PROOFED, A WRITTEN LOG SHALL BE MAINTAINED AVAILABLE TO THE INSPECTORS - Comments: SIGHTED LIVE COCKROACH ACTIVITY INSIDE ESTABLISHMENT. OVER 10 LIVE ROACHES ON WALL AND IN CREVICES BEHIND DISH MACHINE. 2 LIVE ROACHES ON DEBRIS ON FLOOR NEXT TO REACH-IN FREEZER, 1 LIVE ROACH ON SODA STORAGE SHELF (1559 W. DEVON AVE SIDE) AND 1 ROACH IN BROKEN WALL BETWEEN DISH WASH AREA AND 1559 W. DEVON SIDE. SCREEN DOOR IN POOR REPAIR, MESH SCREEN IS TORN OPEN. SCREEN DOOR IS NOT TIGHT-FITTING TO DOOR FRAME. SERIOUS VIOLATION 7-38-020. MUST ELIMINATE ROACHES, WASH AND SANITIZE SURFACES, REPAIR SCREEN AND SCREEN DOOR. ALSO COMPLY WITH FOLLOWING ORDERS REGARDING SANITATION AND MAINTENANCE OF PREMISES. | 19. OUTSIDE GARBAGE WASTE GREASE AND STORAGE AREA; CLEAN, RODENT PROOF, ALL CONTAINERS COVERED - Comments: NOTED OUTSIDE GREASE CONTAINER HEAVILY ENCRUSTED WITH GREASE ON TOP, LIP, LIDS AND DRIPPING DOWN THE SIDES ONTO THE GROUND THUS PROVIDING FOOD SOURCE FOR RODENTS AND OTHER PEST. ALSO, LITTER AND FOOD DEBRIS ON GROUND AROUND DUMPSTER AND GREASE CONTAINER. INSTRUCTED TO DETAIL CLEAN CONTAINER AND THE SURROUNDING AREAS OR REPLACE CONTAINER AND MAINTAIN.  CITATION ISSUED FOR SERIOUS VIOLATION #7-38-020. | 29. PREVIOUS MINOR VIOLATION(S) CORRECTED 7-42-090 - Comments: PREVIOUS MINIOOR VIOLATIONS FROM 4/12/12 INSPECTION (REPORT #679826) NOT CORRECTED: #34-CLEAN FLOOR THROUGHOUT THE PREMISES, ESPECIALLY CORNERS AND ALONG THE WALLS AND UNDER THE DISH MACHINE. #35-CLEAN AND MAINTAIN WALL UNDER THE DISH MACHINE (DEBRIS). SERIOUS VIOLATION 7-42-090. MUST CLEAN AND MAINTAIN FLOORS AND WALLS. | 30. FOOD IN ORIGINAL CONTAINER, PROPERLY LABELED: CUSTOMER ADVISORY POSTED AS NEEDED - Comments: NOTED MULTIPLE FOOD ITEMS INSIDE COOLERS AND FREEZERS NOT LABELED WITH NAME OF PRODUCT, DATE ETC. INSTRUCTED TO LABEL ALL FOOD ITEMS AND BULK CONTAINERS DURING STORAGE. | 32. FOOD AND NON-FOOD CONTACT SURFACES PROPERLY DESIGNED, CONSTRUCTED AND MAINTAINED - Comments: NOTED MISSING LIDS AT UPPER SERVING LINE COOLER OF FOOD KITCHEN PREP LINE.EMPLOYEES USE SERVING TRAYS AS LIDS FOR COOLER TOPS. INSTRUCTED TO REPLACE ALL LIDS TO PROPERLY MAINTAIN TEMPERATURE. ALSO NOTED EXPOSED HAND WASH SINK AT THE PREP AREA NOT MAINTAINED. INSTRUCTED TO REPAIR AND MAINTAIN. INSTRUCTED TO ELEVATE ALL FOOD ITEMS INSIDE WALK IN FREEZER, COOLER AND DRY STORAGE 6' OFF THE FLOOR AND NO FOOD SHOULD BE STORED ON THE FLOOR. PROVIDE ADDITIONAL RAISED SHELVING. | 33. FOOD AND NON-FOOD CONTACT EQUIPMENT UTENSILS CLEAN, FREE OF ABRASIVE DETERGENTS - Comments: INSTRUCTED TO DETAIL CLEAN THE FOLLOWING FOOD EQUIPMENT AND UTENSILS: ICE CREAM SCOOPS INSIDE ICE CREAM WELL, INSIDE ICE CREAM FREEZER, ALL COOKING EQUIPMENT AT THE KITCHEN PREP AREA ENCRUSTED WITH THICK GREASE AND SHELVES INSIDE WALK IN COOLERS AND WALK IN FREEZERS AND CUTTING BOARDS AT THE KITCHEN SERVING LINE. ACCUMULATED DEBRIS IN COOLER AND FREEZER DOOR GASKETS AND HINGES. TABLE MOUNTED CAN OPENER AND BRACKET ARE DIRTY AND RUSTY. MUST UPGRADE HOUSE KEEPING. | 34. FLOORS: CONSTRUCTED PER CODE, CLEANED, GOOD REPAIR, COVING INSTALLED, DUST-LESS CLEANING METHODS USED - Comments: NOTED ACCUMULATION OF GREASE ON FLOORS ALONG COOKING EQUIPMENT AT THE KITCHEN, WET FLOORS UNDERNEATH DISH MACHINE, OLD FOOD PARTICLES AND GRIME ALONG WALLS AT THE DRY FOOD STORAGE AND BAR, ALSO NOTED WET STANDING WATER ALONG WALL BEHIND EQUIPMENT BY WALK IN COOLER AND FREEZER. INSTRUCTED TO DETAIL CLEAN SANITIZE AND MAINTAIN FLOORS DRY AND CLEAN. MUST ALSO UPGRADE HOUSE KEEPING THROUGH OUT PREMISES. | 35. WALLS, CEILINGS, ATTACHED EQUIPMENT CONSTRUCTED PER CODE: GOOD REPAIR, SURFACES CLEAN AND DUST-LESS CLEANING METHODS - Comments: FOOD STAINS AND DEBRIS ON WALLS AND ATTACHED EQUIPMENT, PIPES, HOSES CONDUITS ETC. IN ALL PREPARATION AND STORAGE AREAS. WALL BEHIND DISH MACHINE IN POOR REPAIR WITH OPENINGS AND HOLES. BROKEN WALL DIVIDING SPACE BETWEEN DISH WASH AREA AND 1559 W. DEVON SIDE (STORAGE). ACCUMULATED DUST ON WALK IN COOLER FAN COVERS AND WALL AND CEILING VENT COVERS THROUGH-OUT, INCLUDING DINING AREAS AND TOILET ROOMS. MUST CLEAN SAME. MUST CLEAN, REPAIR AND MAINTAIN WALLS THROUGH-OUT PREMISES. | 36. LIGHTING: REQUIRED MINIMUM FOOT-CANDLES OF LIGHT PROVIDED, FIXTURES SHIELDED - Comments: LIGHT INSIDE WALK-IN COOLER IS NOT SHIELDED. MUST SHIELD LIGHT OR INSTALL SHATTER RESISTANT BULB. | 38. VENTILATION: ROOMS AND EQUIPMENT VENTED AS REQUIRED: PLUMBING: INSTALLED AND MAINTAINED - Comments: PLASTIC HOSE DRIPPING LIQUID INTO MIDDLE COMPARTMENT OF BAR 3 COMPARTMENT SINK. MUST RE-ROUTE DRAIN HOSE TO FLOOR DRAIN OR EVAPORATOR. | 40. REFRIGERATION AND METAL STEM THERMOMETERS PROVIDED AND CONSPICUOUS - Comments: INSTRUCTED TO PROVIDE METAL STEM AND EASILY READABLE THERMOMETERS INSIDE COOLERS FOR PROPER TEMPERATURE MONITORING | 41. PREMISES MAINTAINED FREE OF LITTER, UNNECESSARY ARTICLES, CLEANING  EQUIPMENT PROPERLY STORED - Comments: DRY STORAGE ROOM (SODA, CONTAINERS/BOXES ETC) AT 1559 W. DEVON SIDE IS CLUTTERED AND UNORGANIZED, AREAS INACCESSIBLE FOR INSPECTION OR CLEANING. MUST CLEAN AND ORGANIZE AREA, REMOVE ALL UNNECESSARY ITEMS AND STORE ALL ELSE TO FACILITATE ACCESS AND CLEANING.    EMPLOYEE PERSONAL ITEMS (BAGS, SHIRTS, JACKETS, SHOES, BIKES) STORED ALONG WITH FOOD CONTAINERS AND SINGLE SERVICE ARTICLES. MUST PROVIDE DESIGNATED SEPARATE SPACE FOR EMPLOYEE BELONGINGS.      1\n",
      "18. NO EVIDENCE OF RODENT OR INSECT OUTER OPENINGS PROTECTED/RODENT PROOFED, A WRITTEN LOG SHALL BE MAINTAINED AVAILABLE TO THE INSPECTORS - Comments: OBSERVED 3 LIVE ROACHES AT BAR AREA. INSTRUCTED MANAGER TO REMOVE ROACHES BY DATE OF REINSPECTION. ADVISED TO CALL PEST CONTROL OPERATOR FOR SERVICE, ALSO MUST SANITIZE ALL EFFECTED AREAS. SERIOUS VIOLATION 7-38-020. | 32. FOOD AND NON-FOOD CONTACT SURFACES PROPERLY DESIGNED, CONSTRUCTED AND MAINTAINED - Comments: OBSERVED ALUMINUM TIN FOIL ON SHELF AT BAR BY ESPRESSO MACHINE. INSTRUCTED MANAGER TO REMOVE TIN FOIL, SAID SHELF SURFACE MUST BE SMOOTH AND EASY TO CLEAN. | 41. PREMISES MAINTAINED FREE OF LITTER, UNNECESSARY ARTICLES, CLEANING  EQUIPMENT PROPERLY STORED - Comments: OUTSIDE SHED CLUTTERED. INSTRUCTED MANAGER TO ELEVATE ALL ITEMS 6' OR ABOVE, MUST BE ABLE TO CLEAN FLOOR UNDER AND AROUND ALL ITEMS.                                                                                                                                                                                                                                                                                                                                                                                                                                                                                                                                                                                                                                                                                                                                                                                                                                                                                                                                                                                                                                                                                                                                                                                                                                                                                                                                                                                                                                                                                                                                                                                                                                                                                                                                                                                                                                                                                                                                                                                                                                                                                                                                                                                                                                                                                                                                                                                                                                                                                                                                                                                                                                                                                                                                                                                                                                                                                                                                                                                                                                                                                                                                                                                                                                                                                                                                                                                                                                                                                                                                                                                                                                                                                                                                                                                                                                                                                                                                                                                                                                                                                                                                                                                                                                                                                                                                                                                                                                                                                                                                                                                                                                                                                                                                                                                                                                                                                                                                                                                                                                                                                                                                                                                                                                                                                                                                                                                                                                                                                                                                                                                                                                                                                                                                                                                                                                                                                                                                                                                                                                                                                                                                                                                         1\n",
      "30. FOOD IN ORIGINAL CONTAINER, PROPERLY LABELED: CUSTOMER ADVISORY POSTED AS NEEDED - Comments: Found some foods not properly dated in reach in cooler, must properly date food items in reach in cooler. | 32. FOOD AND NON-FOOD CONTACT SURFACES PROPERLY DESIGNED, CONSTRUCTED AND MAINTAINED - Comments: Reach in cooler shelving that had peeling paint/rust shall be repaired/replaced. | 33. FOOD AND NON-FOOD CONTACT EQUIPMENT UTENSILS CLEAN, FREE OF ABRASIVE DETERGENTS - Comments: Non food contat surfaces of display cooler door tracks, cooler shelving not clean, need detailed cleaning(crevices). | 34. FLOORS: CONSTRUCTED PER CODE, CLEANED, GOOD REPAIR, COVING INSTALLED, DUST-LESS CLEANING METHODS USED - Comments: Floors in boiler room not clean, need detailed cleaning cleaning(corners), floors in rear storage areas need cleaning(corners). | 35. WALLS, CEILINGS, ATTACHED EQUIPMENT CONSTRUCTED PER CODE: GOOD REPAIR, SURFACES CLEAN AND DUST-LESS CLEANING METHODS - Comments: Damaged ceiling tile in prep area shall be repaired/replaced. | 41. PREMISES MAINTAINED FREE OF LITTER, UNNECESSARY ARTICLES, CLEANING  EQUIPMENT PROPERLY STORED - Comments: Stock items must be stored six inches off of floor to prevent pest harborage.                                                                                                                                                                                                                                                                                                                                                                                                                                                                                                                                                                                                                                                                                                                                                                                                                                                                                                                                                                                                                                                                                                                                                                                                                                                                                                                                                                                                                                                                                                                                                                                                                                                                                                                                                                                                                                                                                                                                                                                                                                                                                                                                                                                                                                                                                                                                                                                                                                                                                                                                                                                                                                                                                                                                                                                                                                                                                                                                                                                                                                                                                                                                                                                                                                                                                                                                                                                                                                                                                                                                                                                                                                                                                                                                                                                                                                                                                                                                                                                                                                                                                                                                                                                                                                                                                                                                                                                                                                                                                                                                                                                                                                                                                                                                                                                                                                                                                                                                                                                                                                                                                                                                                                                                                                                                                                                                                                                                                                                                                                                                                                                                                                                                                                                                                                                                            1\n",
      "11. ADEQUATE NUMBER, CONVENIENT, ACCESSIBLE, DESIGNED, AND MAINTAINED - Comments: NOTED EXPOSED HAND WASH SINK AT THE KITCHEN TO BE INACCESSIBLE WITH A BAG OF ONIONS, MILK CRATE AND TRASH CAN INFRONT OF THE SINK. MANAGER IMMEDIATELY REMOVED THE ITEMS. INSTRUCTED TO ALWAYS HAVE A HAND WASH SINK ACCESSIBLE AT ALL TIMES. CRITICAL VIOLATION #7-38-030 | 29. PREVIOUS MINOR VIOLATION(S) CORRECTED 7-42-090 - Comments: NOTED THE FOLLOWING PREVIOUS MINOR VIOLATIONS FROM REPORT #1441770 DATED 3/13/2016 NOT CORRECTED:-31)MUST PROPERLY STORE ALL CLEAN MULTI-USE UTENSILS, POTS AND PANS IN FOOD PREPARATION AREA TO PREVENT CONTAMINATION BEFORE USE.32)OBSERVED BROKEN HANDLE DOOR AT THE 2-DOOR REFRIGERATOR. MUST REPAIR AND MAINTAIN.41)MUST REMOVE CLUTTER AND UNNECESSARY ARTICLES FROM REAR DRY STORAGE AREA TO PREVENT RODENT HARBORAGE.43)OBSERVED WIPING CLOTHES STORED ON TOP OF PREP TABLES. MUST PROPERLY STORE WIPING CLOTHES IN A SANITIZING SOLUTION WHEN NOT IN USE. STILL INSTRUCTED TO CORRECT THE ABOVE VIOLATIONS. SERIOUS VIOLATION #7-42-090 | 30. FOOD IN ORIGINAL CONTAINER, PROPERLY LABELED: CUSTOMER ADVISORY POSTED AS NEEDED - Comments: NOTED ASSORTED FOOD ITEMS INSIDE REFRIGERATION UNITS NOT PROPERLY LABELED. INSTRUCTED TO LABEL ALL FOOD ITEMS WITH PRODUCT NAME, PREPARED BY DATE AND/OR USED BY DATE. | 32. FOOD AND NON-FOOD CONTACT SURFACES PROPERLY DESIGNED, CONSTRUCTED AND MAINTAINED - Comments: NOTED FOOD ITEMS INSIDE FREEZER AND REFRIGERATION UNITS STORED INSIDE GROCERY BAGS. INSTRUCTED TO STORE ALL FOOD ITEMS INSIDE AN APPROVED FOOD GRADE CONTAINER WITH TIGHT FITTING LIDS. | 38. VENTILATION: ROOMS AND EQUIPMENT VENTED AS REQUIRED: PLUMBING: INSTALLED AND MAINTAINED - Comments: NOTED A HAND WASH SINK NEXT TO THE PREP TABLE AT THE KITCHEN PREP AREA WITH NO SPLASH GUARD. INSTRUCTED TO PROVIDE A SPLASH GUARD AT THE EXPOSED HAND WASH SINK. | 42. APPROPRIATE METHOD OF HANDLING OF FOOD (ICE) HAIR RESTRAINTS AND CLEAN APPAREL WORN - Comments: NOTED EMPLOYEE PREPPING AT THE KITCHEN WITH NO HAIR RESTRAIN. INSTRUCTED TO HAVE A HAIR RESTRAIN AT ALL TIMES WHILE PREPARING FOOD.                                                                                                                                                                                                                                                                                                                                                                                                                                                                                                                                                                                                                                                                                                                                                                                                                                                                                                                                                                                                                                                                                                                                                                                                                                                                                                                                                                                                                                                                                                                                                                                                                                                                                                                                                                                                                                                                                                                                                                                                                                                                                                                                                                                                                                                                                                                                                                                                                                                                                                                                                                                                                                                                                                                                                                                                                                                                                                                                                                                                                                                                                                                                                                                                                                                                                                                                                                                                                                                                                                                                                                                                                                                                                                                                                                                                                                                                                                                                                                                                                                                                                                                                                                                                                                                                                                                                                                                                                                                                                                                                                                                                                                                                                                                                                                                                                                                                                                                    1\n",
      "32. FOOD AND NON-FOOD CONTACT SURFACES PROPERLY DESIGNED, CONSTRUCTED AND MAINTAINED - Comments: MUST NOT USE TIN FOIL AS LINER FOR EQUIPMENT. SURFACES MUST BE SMOOTH AND CLEANABLE. | 35. WALLS, CEILINGS, ATTACHED EQUIPMENT CONSTRUCTED PER CODE: GOOD REPAIR, SURFACES CLEAN AND DUST-LESS CLEANING METHODS - Comments: THE WALL BEHIND THE DEEP FRYER WITH PEELING PAINT. MUST REPAIR. | 43. FOOD (ICE) DISPENSING UTENSILS, WASH CLOTHS PROPERLY STORED - Comments: COOKS LINE WIPING CLOTHS MUST BE HELD IN A CLEAN CONTAINER WITH A SANITIZING SOLUTION.                                                                                                                                                                                                                                                                                                                                                                                                                                                                                                                                                                                                                                                                                                                                                                                                                                                                                                                                                                                                                                                                                                                                                                                                                                                                                                                                                                                                                                                                                                                                                                                                                                                                                                                                                                                                                                                                                                                                                                                                                                                                                                                                                                                                                                                                                                                                                                                                                                                                                                                                                                                                                                                                                                                                                                                                                                                                                                                                                                                                                                                                                                                                                                                                                                                                                                                                                                                                                                                                                                                                                                                                                                                                                                                                                                                                                                                                                                                                                                                                                                                                                                                                                                                                                                                                                                                                                                                                                                                                                                                                                                                                                                                                                                                                                                                                                                                                                                                                                                                                                                                                                                                                                                                                                                                                                                                                                                                                                                                                                                                                                                                                                                                                                                                                                                                                                                                                                                                                                                                                                                                                                                                                                                                                                                                                                                                                                                                                                                                                                                                           1\n",
      "29. PREVIOUS MINOR VIOLATION(S) CORRECTED 7-42-090 - Comments: PREVIOUS MINOR VIOLATION NOT CORRECTED FROM 9/14/16. REPORT#1960326 32  Found raw wood on inside of bar, near 3 compartment sink. Must paint or stain so that all surfaces are smooth and easily cleanable (and not porous). Must maintain same.       33  Found dirt build up inside upper interior of ice machine. Must detail clean, sanitize and maintain.       38  Must install exposed hand sink in bar area. Must maintain same. Serious violation 7-42-090. | 34. FLOORS: CONSTRUCTED PER CODE, CLEANED, GOOD REPAIR, COVING INSTALLED, DUST-LESS CLEANING METHODS USED - Comments: OBSERVED DIRT AND DEBRIS ON FLOOR UBDER AROUN AND BEHIND ALL HEAVY COOKING EQUIPMENT IN KITCHEN FOOD PREP AREA. | 35. WALLS, CEILINGS, ATTACHED EQUIPMENT CONSTRUCTED PER CODE: GOOD REPAIR, SURFACES CLEAN AND DUST-LESS CLEANING METHODS - Comments: OBSERVED DUST ACCUMULATION ON CEILING VENTS INSIDE CUSTOMER'S WASHROOM. MUST CLLEAN AND MAINTAIN.    OBSERVED DIRT AND DEBRIS ON WALL BEHIND DISHMACHINE AND 3-COMPARTMENT SINK. MUST CLEAN AND MAINTAIN.                                                                                                                                                                                                                                                                                                                                                                                                                                                                                                                                                                                                                                                                                                                                                                                                                                                                                                                                                                                                                                                                                                                                                                                                                                                                                                                                                                                                                                                                                                                                                                                                                                                                                                                                                                                                                                                                                                                                                                                                                                                                                                                                                                                                                                                                                                                                                                                                                                                                                                                                                                                                                                                                                                                                                                                                                                                                                                                                                                                                                                                                                                                                                                                                                                                                                                                                                                                                                                                                                                                                                                                                                                                                                                                                                                                                                                                                                                                                                                                                                                                                                                                                                                                                                                                                                                                                                                                                                                                                                                                                                                                                                                                                                                                                                                                                                                                                                                                                                                                                                                                                                                                                                                                                                                                                                                                                                                                                                                                                                                                                                                                                                                                                                                                                                                                                                                                                                                                                                                1\n",
      "11. ADEQUATE NUMBER, CONVENIENT, ACCESSIBLE, DESIGNED, AND MAINTAINED - Comments: EXPOSED HAND SINK NOT ACCESSIBLE. OBSERVED PLASTIC CONTAINER, SKILLET, AND UTENSILS STORED INSIDE EXPOSED SINK. EXPOSED SINK BLOCKED BY CART OF UTENSILS DURING INSPECTION. INSTRUCTED MANAGER TO REMOVE ITEMS INSIDE AND AROUND EXPOSED SINK FOR PROPER HAND WASHING. CRITICAL VIOLATION 7-38-030 CITATION ISSUED. | 33. FOOD AND NON-FOOD CONTACT EQUIPMENT UTENSILS CLEAN, FREE OF ABRASIVE DETERGENTS - Comments: CLEAN INTERIOR AND EXTERIOR OF ALL COOKING EQUIPMENT, COOLERS, FREEZERS, SINKS, PREP TABLES. | 34. FLOORS: CONSTRUCTED PER CODE, CLEANED, GOOD REPAIR, COVING INSTALLED, DUST-LESS CLEANING METHODS USED - Comments: CLEAN FLOORS UNDER ALL EQUIPMENT ALONG WALLS AND IN ALL CORNERS IN PREP, STORAGE, AND BASEMENT AREAS. | 35. WALLS, CEILINGS, ATTACHED EQUIPMENT CONSTRUCTED PER CODE: GOOD REPAIR, SURFACES CLEAN AND DUST-LESS CLEANING METHODS - Comments: WALLS NEED CLEANING IN PREP AREA. | 40. REFRIGERATION AND METAL STEM THERMOMETERS PROVIDED AND CONSPICUOUS - Comments: PROVIDE THERMOMETERS IN ALL COOLERS. | 41. PREMISES MAINTAINED FREE OF LITTER, UNNECESSARY ARTICLES, CLEANING  EQUIPMENT PROPERLY STORED - Comments: REMOVE ALL UNUSED EQUIPMENT AND ARTICLES IN BASEMENT AND OUTSIDE STORAGE AREAS TO PREVENT PEST HARBORAGE. | 42. APPROPRIATE METHOD OF HANDLING OF FOOD (ICE) HAIR RESTRAINTS AND CLEAN APPAREL WORN - Comments: ALL FOOD HANDLERS MUST WEAR HAIR RESTRAINTS.                                                                                                                                                                                                                                                                                                                                                                                                                                                                                                                                                                                                                                                                                                                                                                                                                                                                                                                                                                                                                                                                                                                                                                                                                                                                                                                                                                                                                                                                                                                                                                                                                                                                                                                                                                                                                                                                                                                                                                                                                                                                                                                                                                                                                                                                                                                                                                                                                                                                                                                                                                                                                                                                                                                                                                                                                                                                                                                                                                                                                                                                                                                                                                                                                                                                                                                                                                                                                                                                                                                                                                                                                                                                                                                                                                                                                                                                                                                                                                                                                                                                                                                                                                                                                                                                                                                                                                                                                                                                                                                                                                                                                                                                                                                                                                                                                                                                                                                                                                                                                                                                                                                                                                                                                                                                                                                                                                                                                                                                                                                                                                          1\n",
      "32. FOOD AND NON-FOOD CONTACT SURFACES PROPERLY DESIGNED, CONSTRUCTED AND MAINTAINED - Comments: OBSERVED DOOR HANDLE ON MARKET/DELI FREEZER DOOR, IN POOR REPAIR. INSTRUCTED MANAGER TO REPAIR AND MAINTAIN AT ALL TIMES. | 36. LIGHTING: REQUIRED MINIMUM FOOT-CANDLES OF LIGHT PROVIDED, FIXTURES SHIELDED - Comments: OBSERVED BURNED OUT LIGHT IN REAR OF MARKET/DELI FREEZER. INSTRUCTED MANAGER TO REPAIR AND MAINTAIN AT ALL TIMES. | 40. REFRIGERATION AND METAL STEM THERMOMETERS PROVIDED AND CONSPICUOUS - Comments: OBSERVED NO VISIBLE THERMOMETERS IN 2 DOOR REACH-IN COOLER, AT SUSHI STATION. INSTRUCTED MANAGER TO PROVIDE THERMOMETER, TO ENSURE PROPER TEMPERATURE OF COOLER UNIT. MAINTAIN AT ALL TIMES.                                                                                                                                                                                                                                                                                                                                                                                                                                                                                                                                                                                                                                                                                                                                                                                                                                                                                                                                                                                                                                                                                                                                                                                                                                                                                                                                                                                                                                                                                                                                                                                                                                                                                                                                                                                                                                                                                                                                                                                                                                                                                                                                                                                                                                                                                                                                                                                                                                                                                                                                                                                                                                                                                                                                                                                                                                                                                                                                                                                                                                                                                                                                                                                                                                                                                                                                                                                                                                                                                                                                                                                                                                                                                                                                                                                                                                                                                                                                                                                                                                                                                                                                                                                                                                                                                                                                                                                                                                                                                                                                                                                                                                                                                                                                                                                                                                                                                                                                                                                                                                                                                                                                                                                                                                                                                                                                                                                                                                                                                                                                                                                                                                                                                                                                                                                                                                                                                                                                                                                                                                                                                                                                                                                                                                                                                                                                                               1\n",
      "28. * INSPECTION REPORT SUMMARY DISPLAYED AND VISIBLE TO ALL CUSTOMERS - Comments: INSPECTION REPORT SUMMARY NOT DISPLAYED OR VISIBLE TO CUSTOMERS. INSTD TO DISPLAY AND HAVE VISIBLE TO CUSTOMERS AT ALL TIMES. VIOLATION 7-42-010B SERIOUS. | 29. PREVIOUS MINOR VIOLATION(S) CORRECTED 7-42-090 - Comments: PREVIOUS MINOR VIOLATION FROM 12/5/16 REPORT 1976493 NOT CORERCTED: 38- INSTALL EXPOSED SINK IN REAR DISH WASHING AREA. VIOLATION SERIOUS 7-42-090. | 32. FOOD AND NON-FOOD CONTACT SURFACES PROPERLY DESIGNED, CONSTRUCTED AND MAINTAINED - Comments: CUTTING BOARD AT FRONT PREP LINE AT TOP OF PREP COOLER WITH DEEP, DARK STAINS. INSTD TO MAINTAIN CUTTING BOARDS. TORN RUBBER DOOR GASKETS AT REAR UPRIGHT COOLER AND AT FRONT PREP COOLER. INSTD TO REPLACE GASKETS AND MAINTAIN. | 33. FOOD AND NON-FOOD CONTACT EQUIPMENT UTENSILS CLEAN, FREE OF ABRASIVE DETERGENTS - Comments: ALL STORAGE SHELVES THROUGH OUT, INTERIOR OF CABINET UNDER BEVERAGE STATION, AND ALL MOTORS AND HARDWARE OF ALL COOLERS NOT CLEAN, DUST/DEBRIS. INSTD TO  CLEAN AND MAINTAIN. | 35. WALLS, CEILINGS, ATTACHED EQUIPMENT CONSTRUCTED PER CODE: GOOD REPAIR, SURFACES CLEAN AND DUST-LESS CLEANING METHODS - Comments: WALLS THROUGH OUT REAR NOT CLEAN, FOOD DEBRIS. INSTD TO CLEAN AND MAINTAIN. | 40. REFRIGERATION AND METAL STEM THERMOMETERS PROVIDED AND CONSPICUOUS - Comments: MISSING METAL STEM THERMOMETER TO VERIFY COLD TEMPERATURES, ONLY HAS THERMOMETER THAT VERIFIES 100F OR ABOVE. INSTD TO PROVIDE PROPER THERMOMETER FOR BOTH COLD AND HOT FOODS. | 42. APPROPRIATE METHOD OF HANDLING OF FOOD (ICE) HAIR RESTRAINTS AND CLEAN APPAREL WORN - Comments: MALE FOOD HANDLER NOT WEARING HAIR RESTRAINT. INSTD TO WEAR HAIR RESTRAINT.                                                                                                                                                                                                                                                                                                                                                                                                                                                                                                                                                                                                                                                                                                                                                                                                                                                                                                                                                                                                                                                                                                                                                                                                                                                                                                                                                                                                                                                                                                                                                                                                                                                                                                                                                                                                                                                                                                                                                                                                                                                                                                                                                                                                                                                                                                                                                                                                                                                                                                                                                                                                                                                                                                                                                                                                                                                                                                                                                                                                                                                                                                                                                                                                                                                                                                                                                                                                                                                                                                                                                                                                                                                                                                                                                                                                                                                                                                                                                                                                                                                                                                                                                                                                                                                                                                                                                                                                                                                                                                                                                                                                                                                                                                                                                                                                                                                                                                                                                                                                                                                                                                                                                                                                                                                                                                                            1\n",
      "33. FOOD AND NON-FOOD CONTACT EQUIPMENT UTENSILS CLEAN, FREE OF ABRASIVE DETERGENTS - Comments: INTERIOR OF ICE MACHINE NOT CLEAN, MUST DETAIL CLEAN, | 45. FOOD HANDLER REQUIREMENTS MET - Comments: NO FOOD HANDLER TRAINING IN ILLINOIS CERTIFICATES AT THIS TIME OF INSPECTION, MUST PROVIDE,                                                                                                                                                                                                                                                                                                                                                                                                                                                                                                                                                                                                                                                                                                                                                                                                                                                                                                                                                                                                                                                                                                                                                                                                                                                                                                                                                                                                                                                                                                                                                                                                                                                                                                                                                                                                                                                                                                                                                                                                                                                                                                                                                                                                                                                                                                                                                                                                                                                                                                                                                                                                                                                                                                                                                                                                                                                                                                                                                                                                                                                                                                                                                                                                                                                                                                                                                                                                                                                                                                                                                                                                                                                                                                                                                                                                                                                                                                                                                                                                                                                                                                                                                                                                                                                                                                                                                                                                                                                                                                                                                                                                                                                                                                                                                                                                                                                                                                                                                                                                                                                                                                                                                                                                                                                                                                                                                                                                                                                                                                                                                                                                                                                                                                                                                                                                                                                                                                                                                                                                                                                                                                                                                                                                                                                                                                                                                                                                                                                                                                                                                                                                                                                                                                                                                                                           1\n",
      "33. FOOD AND NON-FOOD CONTACT EQUIPMENT UTENSILS CLEAN, FREE OF ABRASIVE DETERGENTS - Comments: OBSERVED A SLITE BROWNISH SUBSTANCE LOCATED ON THE ICE SLOT OF THE DRINK DISPENSOR. INSTRUCTED TO CLEAN AND MAINTAIN. | 34. FLOORS: CONSTRUCTED PER CODE, CLEANED, GOOD REPAIR, COVING INSTALLED, DUST-LESS CLEANING METHODS USED - Comments: OBSERVED FLOORS WITH MINOR DIRT DEBRIS UNDER THE 3 COMPARTMENT SINK. INSTRUCTED TO CLEAN AND MAINTAIN. | 38. VENTILATION: ROOMS AND EQUIPMENT VENTED AS REQUIRED: PLUMBING: INSTALLED AND MAINTAINED - Comments: OBSERVED LOOSE FAUCET ON THE WASHROOM WASHBOWL. INSTRUCTED TO REPAIR AND MAINTAIN. | 40. REFRIGERATION AND METAL STEM THERMOMETERS PROVIDED AND CONSPICUOUS - Comments: OBSERVED NO THERMOMETERS LOCATED IN THE FRONT PREP COOLERS ACROSS FROM THE SANDWICH STATION. INSTRUCTED TO PROVIDE AND MAINTAIN.                                                                                                                                                                                                                                                                                                                                                                                                                                                                                                                                                                                                                                                                                                                                                                                                                                                                                                                                                                                                                                                                                                                                                                                                                                                                                                                                                                                                                                                                                                                                                                                                                                                                                                                                                                                                                                                                                                                                                                                                                                                                                                                                                                                                                                                                                                                                                                                                                                                                                                                                                                                                                                                                                                                                                                                                                                                                                                                                                                                                                                                                                                                                                                                                                                                                                                                                                                                                                                                                                                                                                                                                                                                                                                                                                                                                                                                                                                                                                                                                                                                                                                                                                                                                                                                                                                                                                                                                                                                                                                                                                                                                                                                                                                                                                                                                                                                                                                                                                                                                                                                                                                                                                                                                                                                                                                                                                                                                                                                                                                                                                                                                                                                                                                                                                                                                                                                                                                                                                                                                                                                                                                                                                                                                                     1\n",
      "Name: violations, Length: 38377, dtype: int64\n"
     ]
    }
   ],
   "source": [
    "print(food_inspect_data_restaurant.violations.value_counts())"
   ]
  },
  {
   "cell_type": "code",
   "execution_count": 61,
   "metadata": {},
   "outputs": [
    {
     "data": {
      "text/plain": [
       "41.789329    202\n",
       "41.884188    167\n",
       "41.881994    149\n",
       "41.888074    125\n",
       "41.884586    104\n",
       "41.754660     78\n",
       "41.888000     74\n",
       "41.886567     70\n",
       "41.892094     70\n",
       "41.855282     63\n",
       "41.878531     61\n",
       "41.878014     59\n",
       "41.891689     57\n",
       "41.884632     51\n",
       "41.886377     49\n",
       "41.892141     49\n",
       "41.889458     49\n",
       "41.878560     49\n",
       "41.883423     48\n",
       "41.894903     46\n",
       "41.886704     46\n",
       "41.897741     39\n",
       "41.877792     38\n",
       "41.883473     36\n",
       "41.830784     36\n",
       "41.900118     36\n",
       "41.888741     35\n",
       "41.880665     35\n",
       "41.877397     35\n",
       "41.899249     34\n",
       "            ... \n",
       "41.897547      1\n",
       "41.939779      1\n",
       "41.926022      1\n",
       "41.751036      1\n",
       "41.926745      1\n",
       "41.858836      1\n",
       "41.750932      1\n",
       "41.943071      1\n",
       "41.885103      1\n",
       "41.863578      1\n",
       "41.968114      1\n",
       "41.713787      1\n",
       "41.736614      1\n",
       "41.965499      1\n",
       "41.938527      1\n",
       "41.892395      1\n",
       "41.944284      1\n",
       "41.953340      1\n",
       "41.892382      1\n",
       "41.877612      1\n",
       "41.917425      1\n",
       "41.937928      1\n",
       "41.844550      1\n",
       "41.942254      1\n",
       "41.904884      1\n",
       "41.967914      1\n",
       "41.882083      1\n",
       "41.835749      1\n",
       "41.870313      1\n",
       "41.953264      1\n",
       "Name: latitude, Length: 7734, dtype: int64"
      ]
     },
     "execution_count": 61,
     "metadata": {},
     "output_type": "execute_result"
    }
   ],
   "source": [
    "food_inspect_data_restaurant.latitude.value_counts()"
   ]
  },
  {
   "cell_type": "code",
   "execution_count": 62,
   "metadata": {},
   "outputs": [
    {
     "data": {
      "text/plain": [
       "-87.741646    202\n",
       "-87.641120    167\n",
       "-87.639759    149\n",
       "-87.634955    125\n",
       "-87.631010    104\n",
       "-87.741385     78\n",
       "-87.622565     74\n",
       "-87.624385     70\n",
       "-87.611570     70\n",
       "-87.631993     63\n",
       "-87.639427     61\n",
       "-87.633189     59\n",
       "-87.624307     57\n",
       "-87.622248     51\n",
       "-87.624313     49\n",
       "-87.620368     49\n",
       "-87.624382     49\n",
       "-87.636524     49\n",
       "-87.628022     48\n",
       "-87.628054     46\n",
       "-87.620744     46\n",
       "-87.623961     39\n",
       "-87.636524     38\n",
       "-87.635296     36\n",
       "-87.627730     36\n",
       "-87.623981     36\n",
       "-87.637081     35\n",
       "-87.627515     35\n",
       "-87.627089     35\n",
       "-87.624275     34\n",
       "             ... \n",
       "-87.710615      1\n",
       "-87.709689      1\n",
       "-87.806682      1\n",
       "-87.683020      1\n",
       "-87.744470      1\n",
       "-87.703207      1\n",
       "-87.674482      1\n",
       "-87.653823      1\n",
       "-87.745471      1\n",
       "-87.643546      1\n",
       "-87.682113      1\n",
       "-87.665083      1\n",
       "-87.664661      1\n",
       "-87.671536      1\n",
       "-87.667069      1\n",
       "-87.787637      1\n",
       "-87.725854      1\n",
       "-87.626415      1\n",
       "-87.731268      1\n",
       "-87.648515      1\n",
       "-87.615565      1\n",
       "-87.654443      1\n",
       "-87.785067      1\n",
       "-87.634650      1\n",
       "-87.694041      1\n",
       "-87.662371      1\n",
       "-87.625455      1\n",
       "-87.670842      1\n",
       "-87.757279      1\n",
       "-87.755296      1\n",
       "Name: longitude, Length: 7734, dtype: int64"
      ]
     },
     "execution_count": 62,
     "metadata": {},
     "output_type": "execute_result"
    }
   ],
   "source": [
    "food_inspect_data_restaurant.longitude.value_counts()"
   ]
  },
  {
   "cell_type": "code",
   "execution_count": 63,
   "metadata": {},
   "outputs": [
    {
     "data": {
      "text/plain": [
       "Index(['inspection_id', 'dba_name', 'license', 'risk', 'address', 'zip',\n",
       "       'inspection_date', 'results', 'violations', 'latitude', 'longitude',\n",
       "       'location', 'historical_wards_2003_2015', 'zip_codes',\n",
       "       'community_areas', 'census_tracts', 'wards'],\n",
       "      dtype='object')"
      ]
     },
     "execution_count": 63,
     "metadata": {},
     "output_type": "execute_result"
    }
   ],
   "source": [
    "food_inspect_data_restaurant.columns"
   ]
  },
  {
   "cell_type": "code",
   "execution_count": 64,
   "metadata": {},
   "outputs": [
    {
     "data": {
      "text/plain": [
       "(41.789329323265385, -87.74164564419637)    202\n",
       "(41.884187507127805, -87.64111966683218)    167\n",
       "(41.88199433820508, -87.6397586848809)      149\n",
       "(41.8880742810662, -87.63495520292739)      125\n",
       "(41.88458626715456, -87.63101044588599)     104\n",
       "(41.75466012439374, -87.74138475860521)      78\n",
       "(41.88799988734853, -87.62256513255957)      74\n",
       "(41.892094136861786, -87.61156988394656)     70\n",
       "(41.886567370886944, -87.62438467059714)     70\n",
       "(41.85528170377401, -87.63199264229414)      63\n",
       "(41.878531278353606, -87.63942745962717)     61\n",
       "(41.878014487249544, -87.63318903001444)     59\n",
       "(41.89168851736832, -87.62430717812579)      57\n",
       "(41.8846320757672, -87.6222479910888)        51\n",
       "(41.892140783720365, -87.62431278442189)     49\n",
       "(41.88945828010943, -87.62036837642913)      49\n",
       "(41.88637740620821, -87.62438167043969)      49\n",
       "(41.87856015362371, -87.63652387205532)      49\n",
       "(41.88342263701488, -87.62802165207536)      48\n",
       "(41.88670422864661, -87.62805355978018)      46\n",
       "(41.89490330235543, -87.62074372623964)      46\n",
       "(41.897740856252504, -87.62396131598219)     39\n",
       "(41.877791648104406, -87.63652434443534)     38\n",
       "(41.83078366228312, -87.6352957830455)       36\n",
       "(41.90011845725853, -87.62398051946951)      36\n",
       "(41.88347312241303, -87.62772975002918)      36\n",
       "(41.888741038131876, -87.63708054058772)     35\n",
       "(41.88066457839605, -87.6270893644417)       35\n",
       "(41.87739693703613, -87.62751493171092)      35\n",
       "(41.89924859703626, -87.62427497820545)      34\n",
       "                                           ... \n",
       "(41.77400131892014, -87.7227884585868)        1\n",
       "(41.72083853412895, -87.68131761150946)       1\n",
       "(41.978098611984684, -87.67961365927871)      1\n",
       "(41.960675000549436, -87.72911256246014)      1\n",
       "(41.8188405804105, -87.72411292982041)        1\n",
       "(41.943310327230265, -87.67989073315223)      1\n",
       "(41.92492895215087, -87.67691267667713)       1\n",
       "(41.89152462421973, -87.6305188254299)        1\n",
       "(41.99776674825264, -87.69419950677342)       1\n",
       "(41.73625546179032, -87.62291750820594)       1\n",
       "(41.89378277737744, -87.6357793413821)        1\n",
       "(41.799649310416896, -87.5895648484228)       1\n",
       "(41.688328032327824, -87.62114701799504)      1\n",
       "(41.76278384194664, -87.68333690607514)       1\n",
       "(41.9214396202317, -87.66394353047487)        1\n",
       "(41.917466480689754, -87.68681623688606)      1\n",
       "(41.851961641245865, -87.69941016346398)      1\n",
       "(41.939073060840656, -87.7369035198695)       1\n",
       "(41.81519729173754, -87.60653088909952)       1\n",
       "(41.77922453238674, -87.69345644103268)       1\n",
       "(41.89097872954708, -87.61564604281148)       1\n",
       "(41.844004597432054, -87.73413154858753)      1\n",
       "(41.852718664869016, -87.63370801698301)      1\n",
       "(41.99759740363999, -87.6913315163539)        1\n",
       "(41.919535934990385, -87.66172369432505)      1\n",
       "(41.96523546715207, -87.6889511965874)        1\n",
       "(41.885426604527154, -87.65496569400409)      1\n",
       "(41.96696775194076, -87.6789874731147)        1\n",
       "(41.800989894010215, -87.68747130571663)      1\n",
       "(41.99075526566129, -87.66014233842654)       1\n",
       "Name: location, Length: 7734, dtype: int64"
      ]
     },
     "execution_count": 64,
     "metadata": {},
     "output_type": "execute_result"
    }
   ],
   "source": [
    "food_inspect_data_restaurant.location.value_counts()"
   ]
  },
  {
   "cell_type": "code",
   "execution_count": 65,
   "metadata": {},
   "outputs": [
    {
     "data": {
      "text/plain": [
       "22.0    7114\n",
       "48.0    2825\n",
       "38.0    1786\n",
       "16.0    1679\n",
       "51.0    1622\n",
       "13.0    1529\n",
       "41.0    1460\n",
       "8.0     1454\n",
       "24.0    1328\n",
       "46.0     863\n",
       "40.0     843\n",
       "35.0     807\n",
       "37.0     730\n",
       "42.0     723\n",
       "20.0     712\n",
       "15.0     710\n",
       "28.0     698\n",
       "3.0      689\n",
       "2.0      677\n",
       "27.0     664\n",
       "49.0     623\n",
       "39.0     615\n",
       "7.0      589\n",
       "26.0     587\n",
       "25.0     573\n",
       "23.0     555\n",
       "34.0     506\n",
       "33.0     476\n",
       "29.0     411\n",
       "14.0     404\n",
       "47.0     400\n",
       "32.0     394\n",
       "10.0     372\n",
       "12.0     366\n",
       "52.0     356\n",
       "1.0      332\n",
       "6.0      317\n",
       "11.0     280\n",
       "9.0      265\n",
       "31.0     257\n",
       "36.0     240\n",
       "18.0     233\n",
       "53.0     210\n",
       "4.0      209\n",
       "44.0     174\n",
       "45.0     174\n",
       "19.0     170\n",
       "30.0     133\n",
       "17.0     126\n",
       "43.0     109\n",
       "Name: historical_wards_2003_2015, dtype: int64"
      ]
     },
     "execution_count": 65,
     "metadata": {},
     "output_type": "execute_result"
    }
   ],
   "source": [
    "food_inspect_data_restaurant.historical_wards_2003_2015.value_counts()"
   ]
  },
  {
   "cell_type": "code",
   "execution_count": 66,
   "metadata": {},
   "outputs": [
    {
     "data": {
      "text/plain": [
       "21190.0    2050\n",
       "21182.0    1904\n",
       "4449.0     1723\n",
       "4446.0     1444\n",
       "14917.0    1433\n",
       "22535.0    1327\n",
       "21560.0    1311\n",
       "21538.0    1303\n",
       "22616.0    1269\n",
       "21849.0    1266\n",
       "14309.0    1182\n",
       "14914.0    1124\n",
       "21186.0     983\n",
       "14920.0     958\n",
       "22615.0     916\n",
       "22248.0     886\n",
       "21194.0     875\n",
       "4450.0      869\n",
       "14926.0     863\n",
       "22254.0     843\n",
       "22618.0     783\n",
       "4452.0      766\n",
       "14913.0     756\n",
       "21569.0     699\n",
       "22268.0     680\n",
       "21853.0     669\n",
       "14311.0     631\n",
       "4451.0      589\n",
       "14924.0     576\n",
       "21867.0     569\n",
       "22620.0     561\n",
       "21202.0     540\n",
       "14912.0     514\n",
       "21869.0     511\n",
       "14310.0     496\n",
       "21184.0     440\n",
       "22212.0     407\n",
       "4300.0      375\n",
       "22260.0     369\n",
       "22532.0     351\n",
       "21546.0     347\n",
       "22243.0     311\n",
       "21554.0     302\n",
       "21192.0     294\n",
       "21861.0     278\n",
       "4454.0      269\n",
       "22216.0     268\n",
       "4299.0      205\n",
       "22528.0     204\n",
       "4447.0      177\n",
       "22538.0     168\n",
       "21572.0     158\n",
       "4301.0      153\n",
       "4448.0      148\n",
       "22257.0     134\n",
       "21559.0      78\n",
       "22250.0      61\n",
       "4460.0        3\n",
       "Name: zip_codes, dtype: int64"
      ]
     },
     "execution_count": 66,
     "metadata": {},
     "output_type": "execute_result"
    }
   ],
   "source": [
    "food_inspect_data_restaurant.zip_codes.value_counts()"
   ]
  },
  {
   "cell_type": "code",
   "execution_count": 67,
   "metadata": {},
   "outputs": [
    {
     "data": {
      "text/plain": [
       "37.0    4303\n",
       "38.0    4268\n",
       "29.0    2796\n",
       "57.0    2586\n",
       "25.0    1915\n",
       "68.0    1835\n",
       "23.0    1084\n",
       "76.0     924\n",
       "31.0     888\n",
       "19.0     842\n",
       "20.0     832\n",
       "6.0      819\n",
       "46.0     719\n",
       "10.0     708\n",
       "14.0     699\n",
       "32.0     698\n",
       "16.0     679\n",
       "33.0     652\n",
       "15.0     648\n",
       "26.0     594\n",
       "35.0     551\n",
       "53.0     548\n",
       "22.0     450\n",
       "8.0      437\n",
       "17.0     416\n",
       "13.0     393\n",
       "34.0     377\n",
       "63.0     369\n",
       "59.0     348\n",
       "24.0     345\n",
       "        ... \n",
       "45.0     164\n",
       "21.0     164\n",
       "77.0     164\n",
       "42.0     149\n",
       "30.0     144\n",
       "49.0     144\n",
       "73.0     141\n",
       "60.0     140\n",
       "48.0     127\n",
       "56.0     127\n",
       "18.0     123\n",
       "4.0      120\n",
       "1.0      107\n",
       "75.0     102\n",
       "9.0       98\n",
       "72.0      92\n",
       "44.0      84\n",
       "27.0      83\n",
       "65.0      77\n",
       "41.0      75\n",
       "5.0       75\n",
       "52.0      74\n",
       "66.0      70\n",
       "28.0      61\n",
       "50.0      52\n",
       "3.0       51\n",
       "7.0       39\n",
       "47.0      26\n",
       "51.0       6\n",
       "2.0        3\n",
       "Name: community_areas, Length: 76, dtype: int64"
      ]
     },
     "execution_count": 67,
     "metadata": {},
     "output_type": "execute_result"
    }
   ],
   "source": [
    "food_inspect_data_restaurant.community_areas.value_counts()"
   ]
  },
  {
   "cell_type": "code",
   "execution_count": 68,
   "metadata": {},
   "outputs": [
    {
     "data": {
      "text/plain": [
       "92.0     2336\n",
       "580.0     955\n",
       "670.0     628\n",
       "367.0     624\n",
       "626.0     604\n",
       "784.0     598\n",
       "652.0     486\n",
       "63.0      474\n",
       "786.0     474\n",
       "3.0       429\n",
       "159.0     403\n",
       "290.0     313\n",
       "374.0     304\n",
       "669.0     298\n",
       "104.0     295\n",
       "97.0      292\n",
       "481.0     290\n",
       "158.0     251\n",
       "91.0      243\n",
       "634.0     243\n",
       "368.0     227\n",
       "86.0      216\n",
       "210.0     212\n",
       "108.0     202\n",
       "731.0     198\n",
       "681.0     194\n",
       "769.0     186\n",
       "794.0     183\n",
       "233.0     179\n",
       "623.0     176\n",
       "         ... \n",
       "34.0        2\n",
       "272.0       2\n",
       "716.0       2\n",
       "557.0       2\n",
       "494.0       2\n",
       "508.0       2\n",
       "783.0       2\n",
       "433.0       2\n",
       "281.0       2\n",
       "768.0       2\n",
       "419.0       2\n",
       "122.0       2\n",
       "775.0       2\n",
       "345.0       2\n",
       "440.0       1\n",
       "14.0        1\n",
       "60.0        1\n",
       "432.0       1\n",
       "512.0       1\n",
       "16.0        1\n",
       "552.0       1\n",
       "370.0       1\n",
       "631.0       1\n",
       "430.0       1\n",
       "717.0       1\n",
       "299.0       1\n",
       "38.0        1\n",
       "428.0       1\n",
       "113.0       1\n",
       "421.0       1\n",
       "Name: census_tracts, Length: 734, dtype: int64"
      ]
     },
     "execution_count": 68,
     "metadata": {},
     "output_type": "execute_result"
    }
   ],
   "source": [
    "food_inspect_data_restaurant.census_tracts.value_counts()"
   ]
  },
  {
   "cell_type": "code",
   "execution_count": 69,
   "metadata": {},
   "outputs": [
    {
     "data": {
      "text/plain": [
       "36.0    7498\n",
       "25.0    1727\n",
       "46.0    1653\n",
       "11.0    1588\n",
       "18.0    1542\n",
       "26.0    1488\n",
       "41.0    1404\n",
       "34.0    1371\n",
       "40.0    1069\n",
       "10.0     967\n",
       "16.0     931\n",
       "24.0     889\n",
       "39.0     772\n",
       "20.0     757\n",
       "6.0      713\n",
       "48.0     706\n",
       "38.0     706\n",
       "50.0     703\n",
       "5.0      694\n",
       "27.0     667\n",
       "8.0      657\n",
       "23.0     629\n",
       "1.0      596\n",
       "21.0     591\n",
       "12.0     586\n",
       "17.0     549\n",
       "19.0     527\n",
       "7.0      526\n",
       "9.0      517\n",
       "29.0     494\n",
       "42.0     476\n",
       "49.0     457\n",
       "33.0     444\n",
       "30.0     437\n",
       "44.0     398\n",
       "28.0     389\n",
       "47.0     387\n",
       "15.0     334\n",
       "3.0      283\n",
       "35.0     280\n",
       "2.0      235\n",
       "32.0     233\n",
       "13.0     214\n",
       "4.0      208\n",
       "22.0     202\n",
       "45.0     197\n",
       "14.0     196\n",
       "31.0     193\n",
       "43.0     147\n",
       "37.0     142\n",
       "Name: wards, dtype: int64"
      ]
     },
     "execution_count": 69,
     "metadata": {},
     "output_type": "execute_result"
    }
   ],
   "source": [
    "food_inspect_data_restaurant.wards.value_counts()"
   ]
  },
  {
   "cell_type": "markdown",
   "metadata": {},
   "source": [
    "## Save the data set "
   ]
  },
  {
   "cell_type": "code",
   "execution_count": 544,
   "metadata": {},
   "outputs": [],
   "source": [
    "food_inspect_data_restaurant.to_csv('Food Inspections for Restaurant.csv')"
   ]
  },
  {
   "cell_type": "code",
   "execution_count": 211,
   "metadata": {},
   "outputs": [
    {
     "data": {
      "text/plain": [
       "(50927, 19)"
      ]
     },
     "execution_count": 211,
     "metadata": {},
     "output_type": "execute_result"
    }
   ],
   "source": [
    "food_inspect_data_restaurant.shape"
   ]
  },
  {
   "cell_type": "code",
   "execution_count": null,
   "metadata": {},
   "outputs": [],
   "source": []
  },
  {
   "cell_type": "code",
   "execution_count": null,
   "metadata": {
    "scrolled": false
   },
   "outputs": [],
   "source": []
  },
  {
   "cell_type": "code",
   "execution_count": null,
   "metadata": {},
   "outputs": [],
   "source": []
  },
  {
   "cell_type": "code",
   "execution_count": null,
   "metadata": {},
   "outputs": [],
   "source": []
  }
 ],
 "metadata": {
  "kernelspec": {
   "display_name": "Python 3",
   "language": "python",
   "name": "python3"
  },
  "language_info": {
   "codemirror_mode": {
    "name": "ipython",
    "version": 3
   },
   "file_extension": ".py",
   "mimetype": "text/x-python",
   "name": "python",
   "nbconvert_exporter": "python",
   "pygments_lexer": "ipython3",
   "version": "3.6.8"
  }
 },
 "nbformat": 4,
 "nbformat_minor": 2
}
